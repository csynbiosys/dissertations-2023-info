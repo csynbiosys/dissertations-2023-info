{
 "cells": [
  {
   "cell_type": "code",
   "execution_count": 1,
   "id": "d877ad32",
   "metadata": {
    "id": "d877ad32"
   },
   "outputs": [],
   "source": [
    "import glob\n",
    "import pandas as pd\n",
    "import numpy as np\n",
    "import matplotlib.pyplot as plt\n",
    "import networkx as nx\n",
    "import warnings\n",
    "warnings.filterwarnings('ignore')"
   ]
  },
  {
   "cell_type": "code",
   "execution_count": 2,
   "id": "5e408a5b",
   "metadata": {
    "id": "5e408a5b"
   },
   "outputs": [],
   "source": [
    "df_investments = pd.read_csv('investments.csv', low_memory=False)"
   ]
  },
  {
   "cell_type": "code",
   "execution_count": null,
   "id": "8705ffb6",
   "metadata": {},
   "outputs": [],
   "source": [
    "df_co_investors = pd.merge(df_investments[['investor_uuid','investor_name','funding_round_uuid','funding_round_name']], df_investments[['investor_uuid','investor_name','funding_round_uuid']], how='inner', left_on='funding_round_uuid', right_on='funding_round_uuid')\n",
    "df_co_investors"
   ]
  },
  {
   "cell_type": "code",
   "execution_count": null,
   "id": "2b561277",
   "metadata": {},
   "outputs": [],
   "source": [
    "df_co_investors = df_co_investors.groupby(['investor_uuid_x','investor_uuid_y','investor_name_x','investor_name_y']).size().reset_index(name='counts')\n",
    "counts = df_co_investors['counts']\n",
    "normalized_counts = (counts - counts.min()) / (counts.max() - counts.min())\n",
    "df_co_investors['counts_norm'] = normalized_counts\n",
    "df_co_investors = df_co_investors[df_co_investors['investor_uuid_x']!=df_co_investors['investor_uuid_y']]\n",
    "\n",
    "df_co_investors['sorted_investor_pair'] = df_co_investors.apply(lambda row: tuple(sorted([row['investor_uuid_x'], row['investor_uuid_y']])), axis=1)\n",
    "\n",
    "df_co_investors = df_co_investors.drop_duplicates(subset='sorted_investor_pair')\n",
    "\n",
    "df_co_investors = df_co_investors.drop(columns='sorted_investor_pair')\n",
    "\n",
    "df_co_investors"
   ]
  },
  {
   "cell_type": "code",
   "execution_count": null,
   "id": "176f9118",
   "metadata": {},
   "outputs": [],
   "source": [
    "df_co_investors.to_csv('co_investors.csv')"
   ]
  }
 ],
 "metadata": {
  "accelerator": "GPU",
  "colab": {
   "gpuType": "T4",
   "provenance": []
  },
  "kernelspec": {
   "display_name": "Python 3 (ipykernel)",
   "language": "python",
   "name": "python3"
  },
  "language_info": {
   "codemirror_mode": {
    "name": "ipython",
    "version": 3
   },
   "file_extension": ".py",
   "mimetype": "text/x-python",
   "name": "python",
   "nbconvert_exporter": "python",
   "pygments_lexer": "ipython3",
   "version": "3.10.9"
  }
 },
 "nbformat": 4,
 "nbformat_minor": 5
}
