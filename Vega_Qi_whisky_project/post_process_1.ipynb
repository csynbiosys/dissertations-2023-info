{
 "cells": [
  {
   "cell_type": "code",
   "execution_count": 2,
   "id": "51302a8c-a95a-42e2-a927-29613107e303",
   "metadata": {},
   "outputs": [],
   "source": [
    "import pandas as pd\n",
    "import numpy as np \n",
    "import os"
   ]
  },
  {
   "cell_type": "code",
   "execution_count": 62,
   "id": "1d7b88e3-06ef-4b35-99d8-3d6987fc3237",
   "metadata": {},
   "outputs": [
    {
     "name": "stderr",
     "output_type": "stream",
     "text": [
      "/var/folders/n2/47w8btw54tj424xjtwbffw3c0000gn/T/ipykernel_401/3145374390.py:1: DtypeWarning: Columns (0) have mixed types. Specify dtype option on import or set low_memory=False.\n",
      "  df = pd.read_csv('total_data_v1_0707.csv')\n"
     ]
    },
    {
     "name": "stdout",
     "output_type": "stream",
     "text": [
      "(628398, 17)\n",
      "Index(['Lot number', 'Winning bid', 'age', 'auction', 'bottle number',\n",
      "       'bottled', 'cask number', 'cask type', 'distilled',\n",
      "       'extracted_distillery', 'his_bid_prices', 'his_bid_times', 'name',\n",
      "       'strength', 'url', 'url_id', 'cl'],\n",
      "      dtype='object')\n"
     ]
    },
    {
     "data": {
      "text/html": [
       "<div>\n",
       "<style scoped>\n",
       "    .dataframe tbody tr th:only-of-type {\n",
       "        vertical-align: middle;\n",
       "    }\n",
       "\n",
       "    .dataframe tbody tr th {\n",
       "        vertical-align: top;\n",
       "    }\n",
       "\n",
       "    .dataframe thead th {\n",
       "        text-align: right;\n",
       "    }\n",
       "</style>\n",
       "<table border=\"1\" class=\"dataframe\">\n",
       "  <thead>\n",
       "    <tr style=\"text-align: right;\">\n",
       "      <th></th>\n",
       "      <th>Lot number</th>\n",
       "      <th>Winning bid</th>\n",
       "      <th>age</th>\n",
       "      <th>auction</th>\n",
       "      <th>bottle number</th>\n",
       "      <th>bottled</th>\n",
       "      <th>cask number</th>\n",
       "      <th>cask type</th>\n",
       "      <th>distilled</th>\n",
       "      <th>extracted_distillery</th>\n",
       "      <th>his_bid_prices</th>\n",
       "      <th>his_bid_times</th>\n",
       "      <th>name</th>\n",
       "      <th>strength</th>\n",
       "      <th>url</th>\n",
       "      <th>url_id</th>\n",
       "      <th>cl</th>\n",
       "    </tr>\n",
       "  </thead>\n",
       "  <tbody>\n",
       "    <tr>\n",
       "      <th>0</th>\n",
       "      <td>620119</td>\n",
       "      <td>55.0</td>\n",
       "      <td>NaN</td>\n",
       "      <td>100</td>\n",
       "      <td>NaN</td>\n",
       "      <td>NaN</td>\n",
       "      <td>NaN</td>\n",
       "      <td>NaN</td>\n",
       "      <td>NaN</td>\n",
       "      <td>macallan</td>\n",
       "      <td>[130.0, 88.33, 61.0, 47.5, 48.33, 45.0, 43.75,...</td>\n",
       "      <td>[24.0, 25.0, 26.0, 28.0, 29.0, 31.0, 33.0, 34....</td>\n",
       "      <td>Macallan Director's Edition</td>\n",
       "      <td>40.0</td>\n",
       "      <td>https://www.scotchwhiskyauctions.com/auctions/...</td>\n",
       "      <td>100333</td>\n",
       "      <td>70.0</td>\n",
       "    </tr>\n",
       "    <tr>\n",
       "      <th>1</th>\n",
       "      <td>621531</td>\n",
       "      <td>55.0</td>\n",
       "      <td>NaN</td>\n",
       "      <td>100</td>\n",
       "      <td>NaN</td>\n",
       "      <td>NaN</td>\n",
       "      <td>NaN</td>\n",
       "      <td>NaN</td>\n",
       "      <td>NaN</td>\n",
       "      <td>macallan</td>\n",
       "      <td>[130.0, 88.33, 61.0, 47.5, 48.33, 45.0, 43.75,...</td>\n",
       "      <td>[24.0, 25.0, 26.0, 28.0, 29.0, 31.0, 33.0, 34....</td>\n",
       "      <td>Macallan Director's Edition</td>\n",
       "      <td>40.0</td>\n",
       "      <td>https://www.scotchwhiskyauctions.com/auctions/...</td>\n",
       "      <td>101847</td>\n",
       "      <td>70.0</td>\n",
       "    </tr>\n",
       "    <tr>\n",
       "      <th>2</th>\n",
       "      <td>622681</td>\n",
       "      <td>55.0</td>\n",
       "      <td>NaN</td>\n",
       "      <td>100</td>\n",
       "      <td>NaN</td>\n",
       "      <td>NaN</td>\n",
       "      <td>NaN</td>\n",
       "      <td>NaN</td>\n",
       "      <td>NaN</td>\n",
       "      <td>macallan</td>\n",
       "      <td>[130.0, 88.33, 61.0, 47.5, 48.33, 45.0, 43.75,...</td>\n",
       "      <td>[24.0, 25.0, 26.0, 28.0, 29.0, 31.0, 33.0, 34....</td>\n",
       "      <td>Macallan Director's Edition</td>\n",
       "      <td>40.0</td>\n",
       "      <td>https://www.scotchwhiskyauctions.com/auctions/...</td>\n",
       "      <td>103100</td>\n",
       "      <td>70.0</td>\n",
       "    </tr>\n",
       "    <tr>\n",
       "      <th>3</th>\n",
       "      <td>622979</td>\n",
       "      <td>55.0</td>\n",
       "      <td>NaN</td>\n",
       "      <td>100</td>\n",
       "      <td>NaN</td>\n",
       "      <td>NaN</td>\n",
       "      <td>NaN</td>\n",
       "      <td>NaN</td>\n",
       "      <td>NaN</td>\n",
       "      <td>macallan</td>\n",
       "      <td>[130.0, 88.33, 61.0, 47.5, 48.33, 45.0, 43.75,...</td>\n",
       "      <td>[24.0, 25.0, 26.0, 28.0, 29.0, 31.0, 33.0, 34....</td>\n",
       "      <td>Macallan Director's Edition</td>\n",
       "      <td>40.0</td>\n",
       "      <td>https://www.scotchwhiskyauctions.com/auctions/...</td>\n",
       "      <td>103453</td>\n",
       "      <td>70.0</td>\n",
       "    </tr>\n",
       "    <tr>\n",
       "      <th>4</th>\n",
       "      <td>622168</td>\n",
       "      <td>720.0</td>\n",
       "      <td>13.0</td>\n",
       "      <td>100</td>\n",
       "      <td>NaN</td>\n",
       "      <td>2012.0</td>\n",
       "      <td>6697.0</td>\n",
       "      <td>Sherry Butt</td>\n",
       "      <td>1999.0</td>\n",
       "      <td>macallan</td>\n",
       "      <td>[860.0, 533.33, 540.0, 590.0, 600.0, 476.67, 5...</td>\n",
       "      <td>[22.0, 23.0, 24.0, 25.0, 26.0, 27.0, 28.0, 29....</td>\n",
       "      <td>Macallan Easter Elchies 2012</td>\n",
       "      <td>57.2</td>\n",
       "      <td>https://www.scotchwhiskyauctions.com/auctions/...</td>\n",
       "      <td>102514</td>\n",
       "      <td>70.0</td>\n",
       "    </tr>\n",
       "    <tr>\n",
       "      <th>5</th>\n",
       "      <td>622169</td>\n",
       "      <td>720.0</td>\n",
       "      <td>17.0</td>\n",
       "      <td>100</td>\n",
       "      <td>NaN</td>\n",
       "      <td>2013.0</td>\n",
       "      <td>26.0</td>\n",
       "      <td>Sherry Butt</td>\n",
       "      <td>1996.0</td>\n",
       "      <td>macallan</td>\n",
       "      <td>[540.0, 506.67, 615.0, 580.0, 620.0, 566.67, 5...</td>\n",
       "      <td>[33.0, 34.0, 36.0, 37.0, 43.0, 44.0, 45.0, 49....</td>\n",
       "      <td>Macallan Easter Elchies 2013</td>\n",
       "      <td>55.3</td>\n",
       "      <td>https://www.scotchwhiskyauctions.com/auctions/...</td>\n",
       "      <td>102515</td>\n",
       "      <td>70.0</td>\n",
       "    </tr>\n",
       "    <tr>\n",
       "      <th>6</th>\n",
       "      <td>620009</td>\n",
       "      <td>90.0</td>\n",
       "      <td>NaN</td>\n",
       "      <td>100</td>\n",
       "      <td>NaN</td>\n",
       "      <td>NaN</td>\n",
       "      <td>NaN</td>\n",
       "      <td>NaN</td>\n",
       "      <td>NaN</td>\n",
       "      <td>macallan</td>\n",
       "      <td>[165.0, 180.0, 111.67, 108.89, 67.78, 95.83, 7...</td>\n",
       "      <td>[57.0, 58.0, 59.0, 60.0, 61.0, 62.0, 63.0, 64....</td>\n",
       "      <td>Macallan Edition No1</td>\n",
       "      <td>48.0</td>\n",
       "      <td>https://www.scotchwhiskyauctions.com/auctions/...</td>\n",
       "      <td>95219</td>\n",
       "      <td>70.0</td>\n",
       "    </tr>\n",
       "    <tr>\n",
       "      <th>7</th>\n",
       "      <td>620008</td>\n",
       "      <td>95.0</td>\n",
       "      <td>NaN</td>\n",
       "      <td>100</td>\n",
       "      <td>NaN</td>\n",
       "      <td>NaN</td>\n",
       "      <td>NaN</td>\n",
       "      <td>NaN</td>\n",
       "      <td>NaN</td>\n",
       "      <td>macallan</td>\n",
       "      <td>[165.0, 180.0, 111.67, 108.89, 67.78, 95.83, 7...</td>\n",
       "      <td>[57.0, 58.0, 59.0, 60.0, 61.0, 62.0, 63.0, 64....</td>\n",
       "      <td>Macallan Edition No1</td>\n",
       "      <td>48.0</td>\n",
       "      <td>https://www.scotchwhiskyauctions.com/auctions/...</td>\n",
       "      <td>95218</td>\n",
       "      <td>70.0</td>\n",
       "    </tr>\n",
       "    <tr>\n",
       "      <th>8</th>\n",
       "      <td>620010</td>\n",
       "      <td>95.0</td>\n",
       "      <td>NaN</td>\n",
       "      <td>100</td>\n",
       "      <td>NaN</td>\n",
       "      <td>NaN</td>\n",
       "      <td>NaN</td>\n",
       "      <td>NaN</td>\n",
       "      <td>NaN</td>\n",
       "      <td>macallan</td>\n",
       "      <td>[165.0, 180.0, 111.67, 108.89, 67.78, 95.83, 7...</td>\n",
       "      <td>[57.0, 58.0, 59.0, 60.0, 61.0, 62.0, 63.0, 64....</td>\n",
       "      <td>Macallan Edition No1</td>\n",
       "      <td>48.0</td>\n",
       "      <td>https://www.scotchwhiskyauctions.com/auctions/...</td>\n",
       "      <td>95220</td>\n",
       "      <td>70.0</td>\n",
       "    </tr>\n",
       "    <tr>\n",
       "      <th>9</th>\n",
       "      <td>620302</td>\n",
       "      <td>95.0</td>\n",
       "      <td>NaN</td>\n",
       "      <td>100</td>\n",
       "      <td>NaN</td>\n",
       "      <td>NaN</td>\n",
       "      <td>NaN</td>\n",
       "      <td>NaN</td>\n",
       "      <td>NaN</td>\n",
       "      <td>macallan</td>\n",
       "      <td>[165.0, 180.0, 111.67, 108.89, 67.78, 95.83, 7...</td>\n",
       "      <td>[57.0, 58.0, 59.0, 60.0, 61.0, 62.0, 63.0, 64....</td>\n",
       "      <td>Macallan Edition No1</td>\n",
       "      <td>48.0</td>\n",
       "      <td>https://www.scotchwhiskyauctions.com/auctions/...</td>\n",
       "      <td>100608</td>\n",
       "      <td>70.0</td>\n",
       "    </tr>\n",
       "  </tbody>\n",
       "</table>\n",
       "</div>"
      ],
      "text/plain": [
       "  Lot number  Winning bid   age  auction  bottle number  bottled  cask number  \\\n",
       "0     620119         55.0   NaN      100            NaN      NaN          NaN   \n",
       "1     621531         55.0   NaN      100            NaN      NaN          NaN   \n",
       "2     622681         55.0   NaN      100            NaN      NaN          NaN   \n",
       "3     622979         55.0   NaN      100            NaN      NaN          NaN   \n",
       "4     622168        720.0  13.0      100            NaN   2012.0       6697.0   \n",
       "5     622169        720.0  17.0      100            NaN   2013.0         26.0   \n",
       "6     620009         90.0   NaN      100            NaN      NaN          NaN   \n",
       "7     620008         95.0   NaN      100            NaN      NaN          NaN   \n",
       "8     620010         95.0   NaN      100            NaN      NaN          NaN   \n",
       "9     620302         95.0   NaN      100            NaN      NaN          NaN   \n",
       "\n",
       "     cask type  distilled extracted_distillery  \\\n",
       "0          NaN        NaN             macallan   \n",
       "1          NaN        NaN             macallan   \n",
       "2          NaN        NaN             macallan   \n",
       "3          NaN        NaN             macallan   \n",
       "4  Sherry Butt     1999.0             macallan   \n",
       "5  Sherry Butt     1996.0             macallan   \n",
       "6          NaN        NaN             macallan   \n",
       "7          NaN        NaN             macallan   \n",
       "8          NaN        NaN             macallan   \n",
       "9          NaN        NaN             macallan   \n",
       "\n",
       "                                      his_bid_prices  \\\n",
       "0  [130.0, 88.33, 61.0, 47.5, 48.33, 45.0, 43.75,...   \n",
       "1  [130.0, 88.33, 61.0, 47.5, 48.33, 45.0, 43.75,...   \n",
       "2  [130.0, 88.33, 61.0, 47.5, 48.33, 45.0, 43.75,...   \n",
       "3  [130.0, 88.33, 61.0, 47.5, 48.33, 45.0, 43.75,...   \n",
       "4  [860.0, 533.33, 540.0, 590.0, 600.0, 476.67, 5...   \n",
       "5  [540.0, 506.67, 615.0, 580.0, 620.0, 566.67, 5...   \n",
       "6  [165.0, 180.0, 111.67, 108.89, 67.78, 95.83, 7...   \n",
       "7  [165.0, 180.0, 111.67, 108.89, 67.78, 95.83, 7...   \n",
       "8  [165.0, 180.0, 111.67, 108.89, 67.78, 95.83, 7...   \n",
       "9  [165.0, 180.0, 111.67, 108.89, 67.78, 95.83, 7...   \n",
       "\n",
       "                                       his_bid_times  \\\n",
       "0  [24.0, 25.0, 26.0, 28.0, 29.0, 31.0, 33.0, 34....   \n",
       "1  [24.0, 25.0, 26.0, 28.0, 29.0, 31.0, 33.0, 34....   \n",
       "2  [24.0, 25.0, 26.0, 28.0, 29.0, 31.0, 33.0, 34....   \n",
       "3  [24.0, 25.0, 26.0, 28.0, 29.0, 31.0, 33.0, 34....   \n",
       "4  [22.0, 23.0, 24.0, 25.0, 26.0, 27.0, 28.0, 29....   \n",
       "5  [33.0, 34.0, 36.0, 37.0, 43.0, 44.0, 45.0, 49....   \n",
       "6  [57.0, 58.0, 59.0, 60.0, 61.0, 62.0, 63.0, 64....   \n",
       "7  [57.0, 58.0, 59.0, 60.0, 61.0, 62.0, 63.0, 64....   \n",
       "8  [57.0, 58.0, 59.0, 60.0, 61.0, 62.0, 63.0, 64....   \n",
       "9  [57.0, 58.0, 59.0, 60.0, 61.0, 62.0, 63.0, 64....   \n",
       "\n",
       "                           name  strength  \\\n",
       "0   Macallan Director's Edition      40.0   \n",
       "1   Macallan Director's Edition      40.0   \n",
       "2   Macallan Director's Edition      40.0   \n",
       "3   Macallan Director's Edition      40.0   \n",
       "4  Macallan Easter Elchies 2012      57.2   \n",
       "5  Macallan Easter Elchies 2013      55.3   \n",
       "6          Macallan Edition No1      48.0   \n",
       "7          Macallan Edition No1      48.0   \n",
       "8          Macallan Edition No1      48.0   \n",
       "9          Macallan Edition No1      48.0   \n",
       "\n",
       "                                                 url  url_id    cl  \n",
       "0  https://www.scotchwhiskyauctions.com/auctions/...  100333  70.0  \n",
       "1  https://www.scotchwhiskyauctions.com/auctions/...  101847  70.0  \n",
       "2  https://www.scotchwhiskyauctions.com/auctions/...  103100  70.0  \n",
       "3  https://www.scotchwhiskyauctions.com/auctions/...  103453  70.0  \n",
       "4  https://www.scotchwhiskyauctions.com/auctions/...  102514  70.0  \n",
       "5  https://www.scotchwhiskyauctions.com/auctions/...  102515  70.0  \n",
       "6  https://www.scotchwhiskyauctions.com/auctions/...   95219  70.0  \n",
       "7  https://www.scotchwhiskyauctions.com/auctions/...   95218  70.0  \n",
       "8  https://www.scotchwhiskyauctions.com/auctions/...   95220  70.0  \n",
       "9  https://www.scotchwhiskyauctions.com/auctions/...  100608  70.0  "
      ]
     },
     "execution_count": 62,
     "metadata": {},
     "output_type": "execute_result"
    }
   ],
   "source": [
    "df = pd.read_csv('total_data_v1_0707.csv')\n",
    "print(df.shape)\n",
    "print(df.columns)\n",
    "df.head(10)"
   ]
  },
  {
   "cell_type": "code",
   "execution_count": 63,
   "id": "5d223626-73d1-4f06-854e-b72a5188935c",
   "metadata": {},
   "outputs": [
    {
     "name": "stdout",
     "output_type": "stream",
     "text": [
      "1968 ['102790', '103002', '101169', '100585', '103225']\n",
      "[2 3 4 5 6]\n"
     ]
    }
   ],
   "source": [
    "from collections import Counter \n",
    "stats = Counter(df['url_id'].astype(str))\n",
    "dup_keys = []\n",
    "dup_vs = []\n",
    "for k,v in stats.items():\n",
    "    if v > 1:\n",
    "        dup_keys.append(k)\n",
    "        dup_vs.append(v)\n",
    "        # print(k,v)\n",
    "print(len(dup_keys),dup_keys[:5])\n",
    "print(np.unique(dup_vs))"
   ]
  },
  {
   "cell_type": "code",
   "execution_count": 163,
   "id": "d34a023a-9990-447a-b323-b0661cd30b4f",
   "metadata": {},
   "outputs": [
    {
     "name": "stdout",
     "output_type": "stream",
     "text": [
      "(626285, 17)\n"
     ]
    }
   ],
   "source": [
    "# remove duplicate datas \n",
    "newdf = df.drop_duplicates('url',keep='first')\n",
    "print(newdf.shape)"
   ]
  },
  {
   "cell_type": "code",
   "execution_count": 164,
   "id": "4c3c6a5d-c217-48e2-9dea-d621202a732d",
   "metadata": {},
   "outputs": [
    {
     "data": {
      "text/plain": [
       "array([5.0e+00, 2.5e+01, 3.5e+01, 4.0e+01, 5.0e+01, 5.5e+01, 6.5e+01,\n",
       "       7.5e+01, 8.0e+01, 9.0e+01, 1.0e+02, 1.2e+02, 1.3e+02, 1.5e+02,\n",
       "       1.7e+02, 2.1e+02, 2.5e+02, 3.2e+02, 4.6e+02, 8.2e+02, 2.0e+05])"
      ]
     },
     "execution_count": 164,
     "metadata": {},
     "output_type": "execute_result"
    }
   ],
   "source": [
    "np.percentile(newdf[newdf['Winning bid'].notna()]['Winning bid'].astype(np.float32),range(0,105,5))"
   ]
  },
  {
   "cell_type": "code",
   "execution_count": 165,
   "id": "4dbbacee-36dc-4a59-95ad-61799d66ff8b",
   "metadata": {},
   "outputs": [
    {
     "name": "stdout",
     "output_type": "stream",
     "text": [
      "221947 196676\n"
     ]
    },
    {
     "data": {
      "text/plain": [
       "150902"
      ]
     },
     "execution_count": 165,
     "metadata": {},
     "output_type": "execute_result"
    }
   ],
   "source": [
    "print(np.sum(newdf['bottled'].notna().values),\n",
    "np.sum(newdf['distilled'].notna().values))\n",
    "with_val = newdf['distilled'].notna().values & newdf['bottled'].notna().values\n",
    "np.sum(with_val)"
   ]
  },
  {
   "cell_type": "code",
   "execution_count": 166,
   "id": "a56d2344-d674-45cf-b742-b010dc910270",
   "metadata": {},
   "outputs": [
    {
     "data": {
      "text/plain": [
       "0          NaN\n",
       "1          NaN\n",
       "2          NaN\n",
       "3          NaN\n",
       "4         13.0\n",
       "          ... \n",
       "628393    10.0\n",
       "628394    12.0\n",
       "628395    17.0\n",
       "628396    17.0\n",
       "628397    17.0\n",
       "Name: age, Length: 626285, dtype: float64"
      ]
     },
     "execution_count": 166,
     "metadata": {},
     "output_type": "execute_result"
    }
   ],
   "source": [
    "newdf['age']"
   ]
  },
  {
   "cell_type": "code",
   "execution_count": 167,
   "id": "6b42e53f-c0c9-4d00-bbe3-30248fad26af",
   "metadata": {},
   "outputs": [
    {
     "name": "stdout",
     "output_type": "stream",
     "text": [
      "324892 49935\n"
     ]
    }
   ],
   "source": [
    "need_fill = newdf['age'].isna().values & with_val\n",
    "print(np.sum(newdf['age'].notna().values),np.sum(need_fill))"
   ]
  },
  {
   "cell_type": "code",
   "execution_count": 168,
   "id": "185e4d64-eecb-477d-ad7b-aa584c28bee6",
   "metadata": {},
   "outputs": [
    {
     "data": {
      "text/plain": [
       "(1812.0, 2023.0, 1805.0, 2022.0)"
      ]
     },
     "execution_count": 168,
     "metadata": {},
     "output_type": "execute_result"
    }
   ],
   "source": [
    "newdf[need_fill]['bottled'].min(),newdf[need_fill]['bottled'].max(), newdf[need_fill]['distilled'].min(),newdf[need_fill]['distilled'].max()"
   ]
  },
  {
   "cell_type": "code",
   "execution_count": 169,
   "id": "4e541235-acfc-4bae-be02-56b1335ae879",
   "metadata": {},
   "outputs": [],
   "source": [
    "newdf.loc[need_fill,'age'] = newdf[need_fill]['bottled'].values - newdf[need_fill]['distilled'].values"
   ]
  },
  {
   "cell_type": "code",
   "execution_count": 170,
   "id": "0d8b756a-712b-4a31-86c5-391830079dfa",
   "metadata": {},
   "outputs": [
    {
     "name": "stdout",
     "output_type": "stream",
     "text": [
      "374827\n"
     ]
    }
   ],
   "source": [
    "print(np.sum(newdf['age'].notna().values))"
   ]
  },
  {
   "cell_type": "code",
   "execution_count": 171,
   "id": "6c23dd45-28b8-4b83-8ae0-464616c37934",
   "metadata": {},
   "outputs": [],
   "source": [
    "newdf = newdf.drop(columns=['bottled','distilled','Lot number'])"
   ]
  },
  {
   "cell_type": "code",
   "execution_count": 172,
   "id": "10d31835-0434-4dd1-8d74-6d10e25c6329",
   "metadata": {},
   "outputs": [
    {
     "data": {
      "text/plain": [
       "array([-183.,    7.,    9.,   10.,   10.,   12.,   12.,   12.,   13.,\n",
       "         14.,   15.,   16.,   18.,   18.,   20.,   21.,   22.,   25.,\n",
       "         27.,   31., 5000.])"
      ]
     },
     "execution_count": 172,
     "metadata": {},
     "output_type": "execute_result"
    }
   ],
   "source": [
    "np.percentile(newdf[newdf['age'].notna()]['age'],range(0,105,5))"
   ]
  },
  {
   "cell_type": "code",
   "execution_count": 173,
   "id": "5d4b5189-2b4a-4a41-9a9a-e2e1bdebea38",
   "metadata": {},
   "outputs": [
    {
     "data": {
      "text/plain": [
       "(626285, 14)"
      ]
     },
     "execution_count": 173,
     "metadata": {},
     "output_type": "execute_result"
    }
   ],
   "source": [
    "newdf.shape"
   ]
  },
  {
   "cell_type": "code",
   "execution_count": 174,
   "id": "d48b9a74-a741-4c47-affb-17b67e58c197",
   "metadata": {},
   "outputs": [
    {
     "name": "stdout",
     "output_type": "stream",
     "text": [
      "(603496, 14)\n"
     ]
    }
   ],
   "source": [
    "newdf = newdf[True ^ (newdf['age']<0)]\n",
    "newdf = newdf[True ^ (newdf['age']>300)]\n",
    "newdf = newdf[True ^ (newdf['Winning bid']>1000)]\n",
    "print(newdf.shape)"
   ]
  },
  {
   "cell_type": "code",
   "execution_count": 182,
   "id": "bc9c13bd-7bba-4d0b-a683-99577f2bfe21",
   "metadata": {},
   "outputs": [],
   "source": [
    "newdf.to_csv('data_all_v2.csv',index=False)"
   ]
  }
 ],
 "metadata": {
  "kernelspec": {
   "display_name": "Python 3 (ipykernel)",
   "language": "python",
   "name": "python3"
  },
  "language_info": {
   "codemirror_mode": {
    "name": "ipython",
    "version": 3
   },
   "file_extension": ".py",
   "mimetype": "text/x-python",
   "name": "python",
   "nbconvert_exporter": "python",
   "pygments_lexer": "ipython3",
   "version": "3.10.9"
  }
 },
 "nbformat": 4,
 "nbformat_minor": 5
}
