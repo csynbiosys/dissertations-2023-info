{
 "cells": [
  {
   "cell_type": "code",
   "execution_count": 1,
   "id": "0572ee0f-5cd9-433c-a955-5c24fb633eb5",
   "metadata": {
    "tags": []
   },
   "outputs": [],
   "source": [
    "import numpy as np\n",
    "import pandas as pd\n",
    "import matplotlib.pyplot as plt\n",
    "import sklearn\n",
    "import torch\n",
    "import os\n",
    "import sys\n",
    "import math"
   ]
  },
  {
   "cell_type": "code",
   "execution_count": 32,
   "id": "151a2caf-b2ba-4d04-8352-5b2557246553",
   "metadata": {
    "tags": []
   },
   "outputs": [],
   "source": [
    "cat_cols = ['cask type','extracted_distillery','bottler label',\n",
    "           'whisky type label','cask type','category']\n",
    "def read_csv_data(f1path,f2path):\n",
    "    df1 = pd.read_csv(f1path)\n",
    "    df2 = pd.read_csv(f2path)\n",
    "    if 'his_bid_times' in df1.columns:\n",
    "        # delete label in history \n",
    "        df1['his_bid_times'] = [[float(vv) for vv in v.split(',')][:-1] for v in df1['his_bid_times']]\n",
    "        df1['his_bid_prices'] = [[float(vv) for vv in v.split(',')][:-1] for v in df1['his_bid_prices']]\n",
    "        df2['his_bid_times'] = [[float(vv) for vv in v.split(',')][:-1] for v in df2['his_bid_times']]\n",
    "        df2['his_bid_prices'] = [[float(vv) for vv in v.split(',')][:-1] for v in df2['his_bid_prices']]\n",
    "        print(df1['his_bid_times'][0])\n",
    "        print(df2['his_bid_times'][0])\n",
    "        print(df1['his_bid_prices'][0],df1['Winning bid'][0])\n",
    "        print(df2['his_bid_prices'][0],df2['Winning bid'][0])\n",
    "    for k in df1.columns:\n",
    "        if k in cat_cols:\n",
    "            df1[k] = df1[k].astype(str)\n",
    "    for k in df2.columns:\n",
    "        if k in cat_cols:\n",
    "            df2[k] = df2[k].astype(str)\n",
    "    merged_cols = set(df1.columns) & set(df2.columns) - set(cat_cols)\n",
    "    print(merged_cols)\n",
    "    df3 = pd.concat([df1.copy().loc[:,merged_cols],df2.copy().loc[:,merged_cols]],axis=0)\n",
    "    print(df1.shape,df2.shape,df3.shape)\n",
    "    print(list(df1.columns),list(df2.columns),list(df3.columns))\n",
    "    return df1, df2, df3"
   ]
  },
  {
   "cell_type": "markdown",
   "id": "40f94837-59a3-4f89-bd14-93b459e8e2fa",
   "metadata": {
    "tags": []
   },
   "source": [
    "# 1. ML Models"
   ]
  },
  {
   "cell_type": "markdown",
   "id": "afcd1a40-a3ab-42d5-9cdb-ab9828eeabb3",
   "metadata": {},
   "source": [
    "## 1.1 Data Preprocess for ML Models"
   ]
  },
  {
   "cell_type": "code",
   "execution_count": 3,
   "id": "27786281-3c30-426f-bf2d-3044c4c41175",
   "metadata": {
    "tags": []
   },
   "outputs": [],
   "source": [
    "from sklearn.preprocessing import StandardScaler,MinMaxScaler\n",
    "from sklearn.model_selection import train_test_split\n",
    "from sklearn.metrics import r2_score,mean_absolute_error,mean_squared_error\n",
    "from sklearn.tree import DecisionTreeRegressor\n",
    "from sklearn.ensemble import RandomForestRegressor,GradientBoostingRegressor\n",
    "from sklearn.linear_model import LinearRegression,Lasso\n",
    "from sklearn.svm import SVR"
   ]
  },
  {
   "cell_type": "code",
   "execution_count": 4,
   "id": "d2ce8751-1586-40af-a30e-e1cb099aa158",
   "metadata": {
    "tags": []
   },
   "outputs": [],
   "source": [
    "def scale_numerical_cols(org,method='std'):\n",
    "    y = org['Winning bid']\n",
    "    df = org.drop(columns=['Winning bid'])\n",
    "    numerical_cols = [v for v in df.columns if v not in cat_cols]\n",
    "    x_num = df.loc[:,numerical_cols]\n",
    "    if method == 'std':\n",
    "        x_num_scaled = StandardScaler().fit_transform(x_num)\n",
    "    elif method == 'minmax':\n",
    "        x_num_scaled = MinMaxScaler().fit_transform(x_num)\n",
    "    else:\n",
    "        assert method == ''\n",
    "        x_num_scaled = x_num\n",
    "    df.loc[:,numerical_cols] = x_num_scaled\n",
    "    return df,y"
   ]
  },
  {
   "cell_type": "code",
   "execution_count": 11,
   "id": "6dd2dd6d-da7a-4412-9e70-33306b7bed40",
   "metadata": {},
   "outputs": [
    {
     "name": "stdout",
     "output_type": "stream",
     "text": [
      "{'age', 'Winning bid', 'bottle number', 'distilled', 'auc_year', 'strength', 'bottled', 'cl'}\n",
      "(30453, 10) (81753, 13) (112206, 8)\n",
      "['Winning bid', 'age', 'bottle number', 'bottled', 'cask type', 'distilled', 'extracted_distillery', 'strength', 'cl', 'auc_year'] ['extracted_distillery', 'bottler label', 'distilled', 'bottled', 'age', 'whisky type label', 'cask type', 'strength', 'cl', 'category', 'bottle number', 'Winning bid', 'auc_year'] ['age', 'Winning bid', 'bottle number', 'distilled', 'auc_year', 'strength', 'bottled', 'cl']\n"
     ]
    }
   ],
   "source": [
    "d1,d2,d3 = read_csv_data('datas/ml_v1_da.csv','datas/ml_v1_db.csv')"
   ]
  },
  {
   "cell_type": "markdown",
   "id": "09759156-bd46-4039-b39f-350434b8363c",
   "metadata": {},
   "source": [
    "## 1.2 ML Models Train and Pred"
   ]
  },
  {
   "cell_type": "code",
   "execution_count": 100,
   "id": "ec9bfc8b-a63d-422a-818c-47945feed03a",
   "metadata": {},
   "outputs": [
    {
     "name": "stdout",
     "output_type": "stream",
     "text": [
      "(24362, 9) (6091, 9) (24362,) (6091,)\n"
     ]
    }
   ],
   "source": [
    "X1,Y1 = scale_numerical_cols(d1)\n",
    "X_train, X_test, y_train, y_test = train_test_split(X1,Y1,test_size=0.2,train_size=0.8,shuffle=True)\n",
    "print(X_train.shape,X_test.shape,y_train.shape,y_test.shape)"
   ]
  },
  {
   "cell_type": "code",
   "execution_count": 102,
   "id": "effef037-b590-4568-b6e9-3fe2768a735b",
   "metadata": {
    "tags": []
   },
   "outputs": [],
   "source": [
    "def train_and_pred(model,X_train,X_test,y_train,y_test,del_cat_cols=False):\n",
    "    if del_cat_cols:\n",
    "        tmp_train = X_train.drop(columns=[c for c in cat_cols if c in X_train.columns])\n",
    "        tmp_test = X_test.drop(columns=[c for c in cat_cols if c in X_test.columns])\n",
    "        # print(tmp_test.columns)\n",
    "        model.fit(tmp_train,y_train)\n",
    "        predict = model.predict(tmp_test)\n",
    "    else:\n",
    "        # primy(X_test.columns)\n",
    "        model.fit(X_train,y_train)\n",
    "        predict = model.predict(X_test)\n",
    "    print(f'rmse:{np.sqrt(mean_squared_error(y_test,predict)):.4f},mae:{mean_absolute_error(y_test,predict):.4f},r2:{r2_score(y_test,predict):.4f}')"
   ]
  },
  {
   "cell_type": "code",
   "execution_count": 114,
   "id": "fdfaef16-5620-41cb-9e44-fe1c29c6a354",
   "metadata": {
    "tags": []
   },
   "outputs": [
    {
     "name": "stdout",
     "output_type": "stream",
     "text": [
      "rmse:548.5931,mae:236.8706,r2:0.4435\n"
     ]
    }
   ],
   "source": [
    "# get 0.7+ r2 score \n",
    "dtree = DecisionTreeRegressor(min_samples_leaf=8,max_depth=400)\n",
    "train_and_pred(dtree,X_train,X_test,y_train,y_test)"
   ]
  },
  {
   "cell_type": "code",
   "execution_count": 104,
   "id": "09b25dd6-070d-4d6f-9791-a76e46bfa65c",
   "metadata": {
    "tags": []
   },
   "outputs": [
    {
     "name": "stdout",
     "output_type": "stream",
     "text": [
      "for param: 1 50 score:\n",
      "rmse:654.1611,mae:248.9559,r2:0.2087\n",
      "for param: 1 100 score:\n",
      "rmse:642.3811,mae:248.8371,r2:0.2370\n",
      "for param: 1 200 score:\n",
      "rmse:637.0243,mae:246.7576,r2:0.2497\n",
      "for param: 1 400 score:\n",
      "rmse:645.7982,mae:248.0676,r2:0.2288\n",
      "for param: 1 800 score:\n",
      "rmse:652.6820,mae:249.7844,r2:0.2123\n",
      "for param: 2 50 score:\n",
      "rmse:596.6899,mae:242.4741,r2:0.3417\n",
      "for param: 2 100 score:\n",
      "rmse:590.8688,mae:241.1068,r2:0.3545\n",
      "for param: 2 200 score:\n",
      "rmse:597.1082,mae:241.8416,r2:0.3407\n",
      "for param: 2 400 score:\n",
      "rmse:585.5735,mae:239.6859,r2:0.3660\n",
      "for param: 2 800 score:\n",
      "rmse:590.3779,mae:241.1501,r2:0.3555\n",
      "for param: 4 50 score:\n",
      "rmse:568.3696,mae:238.2765,r2:0.4027\n",
      "for param: 4 100 score:\n",
      "rmse:563.3544,mae:236.7847,r2:0.4132\n",
      "for param: 4 200 score:\n",
      "rmse:569.1064,mae:238.7174,r2:0.4011\n",
      "for param: 4 400 score:\n",
      "rmse:565.1336,mae:237.2776,r2:0.4095\n",
      "for param: 4 800 score:\n",
      "rmse:564.3389,mae:237.4457,r2:0.4111\n",
      "for param: 8 50 score:\n",
      "rmse:548.5935,mae:236.8857,r2:0.4435\n",
      "for param: 8 100 score:\n",
      "rmse:548.5945,mae:236.9025,r2:0.4435\n",
      "for param: 8 200 score:\n",
      "rmse:548.5939,mae:236.8862,r2:0.4435\n",
      "for param: 8 400 score:\n",
      "rmse:548.5933,mae:236.8749,r2:0.4435\n",
      "for param: 8 800 score:\n",
      "rmse:548.5939,mae:236.8846,r2:0.4435\n",
      "for param: 16 50 score:\n",
      "rmse:557.9025,mae:242.4474,r2:0.4245\n",
      "for param: 16 100 score:\n",
      "rmse:557.9025,mae:242.4474,r2:0.4245\n",
      "for param: 16 200 score:\n",
      "rmse:557.9025,mae:242.4474,r2:0.4245\n",
      "for param: 16 400 score:\n",
      "rmse:557.9025,mae:242.4474,r2:0.4245\n",
      "for param: 16 800 score:\n",
      "rmse:557.9025,mae:242.4474,r2:0.4245\n",
      "for param: 32 50 score:\n",
      "rmse:573.0156,mae:255.2316,r2:0.3929\n",
      "for param: 32 100 score:\n",
      "rmse:572.9389,mae:255.1755,r2:0.3930\n",
      "for param: 32 200 score:\n",
      "rmse:573.0156,mae:255.2316,r2:0.3929\n",
      "for param: 32 400 score:\n",
      "rmse:572.9389,mae:255.1755,r2:0.3930\n",
      "for param: 32 800 score:\n",
      "rmse:572.9389,mae:255.1755,r2:0.3930\n"
     ]
    }
   ],
   "source": [
    "# for min_leaf,max_depth\n",
    "# overfit risk\n",
    "for min_leaf in [1,2,4,8,16,32]:\n",
    "    for max_dep in [50,100,200,400,800]:\n",
    "        dtree = DecisionTreeRegressor(min_samples_leaf=min_leaf,max_depth=max_dep)\n",
    "        print('for param:',min_leaf,max_dep,'score:')\n",
    "        train_and_pred(dtree,X_train,X_test,y_train,y_test)"
   ]
  },
  {
   "cell_type": "code",
   "execution_count": 115,
   "id": "dc3a88e0-957a-4d1a-ab93-dc1224ca78c9",
   "metadata": {
    "tags": []
   },
   "outputs": [
    {
     "name": "stdout",
     "output_type": "stream",
     "text": [
      "rmse:481.2221,mae:208.7067,r2:0.5718\n"
     ]
    }
   ],
   "source": [
    "# ensemble model\n",
    "randtree = RandomForestRegressor(n_estimators=100,min_samples_leaf=2,max_depth=200,n_jobs=10)\n",
    "train_and_pred(randtree,X_train,X_test,y_train,y_test)"
   ]
  },
  {
   "cell_type": "code",
   "execution_count": 116,
   "id": "07a05444-115c-446b-9473-269eee71db35",
   "metadata": {
    "tags": []
   },
   "outputs": [
    {
     "name": "stdout",
     "output_type": "stream",
     "text": [
      "rmse:476.6606,mae:207.5074,r2:0.5799\n"
     ]
    }
   ],
   "source": [
    "randtree = RandomForestRegressor(n_estimators=200,min_samples_leaf=2,max_depth=200,n_jobs=10)\n",
    "train_and_pred(randtree,X_train,X_test,y_train,y_test)"
   ]
  },
  {
   "cell_type": "code",
   "execution_count": 117,
   "id": "e629bc82-403e-4034-b612-2c75ae3b5c60",
   "metadata": {
    "tags": []
   },
   "outputs": [
    {
     "name": "stdout",
     "output_type": "stream",
     "text": [
      "rmse:524.9623,mae:217.7580,r2:0.4904\n"
     ]
    }
   ],
   "source": [
    "# ensemble model GBDT 反而下降\n",
    "gbdrtree = GradientBoostingRegressor(n_estimators=100,min_samples_leaf=2,max_depth=200)\n",
    "train_and_pred(gbdrtree,X_train,X_test,y_train,y_test)"
   ]
  },
  {
   "cell_type": "code",
   "execution_count": 123,
   "id": "1c8bfd8a-9739-415f-bfcd-2de4101c86f6",
   "metadata": {},
   "outputs": [
    {
     "name": "stdout",
     "output_type": "stream",
     "text": [
      "for lr model:\n"
     ]
    },
    {
     "ename": "LinAlgError",
     "evalue": "SVD did not converge in Linear Least Squares",
     "output_type": "error",
     "traceback": [
      "\u001b[0;31m---------------------------------------------------------------------------\u001b[0m",
      "\u001b[0;31mLinAlgError\u001b[0m                               Traceback (most recent call last)",
      "\u001b[0;32m<ipython-input-123-5cf43be61109>\u001b[0m in \u001b[0;36m<module>\u001b[0;34m\u001b[0m\n\u001b[1;32m      1\u001b[0m \u001b[0mlr_model\u001b[0m \u001b[0;34m=\u001b[0m \u001b[0mLinearRegression\u001b[0m\u001b[0;34m(\u001b[0m\u001b[0;34m)\u001b[0m\u001b[0;34m\u001b[0m\u001b[0;34m\u001b[0m\u001b[0m\n\u001b[1;32m      2\u001b[0m \u001b[0mprint\u001b[0m\u001b[0;34m(\u001b[0m\u001b[0;34m'for lr model:'\u001b[0m\u001b[0;34m)\u001b[0m\u001b[0;34m\u001b[0m\u001b[0;34m\u001b[0m\u001b[0m\n\u001b[0;32m----> 3\u001b[0;31m \u001b[0mtrain_and_pred\u001b[0m\u001b[0;34m(\u001b[0m\u001b[0mlr_model\u001b[0m\u001b[0;34m,\u001b[0m\u001b[0mX_train\u001b[0m\u001b[0;34m,\u001b[0m\u001b[0mX_test\u001b[0m\u001b[0;34m,\u001b[0m\u001b[0my_train\u001b[0m\u001b[0;34m,\u001b[0m\u001b[0my_test\u001b[0m\u001b[0;34m)\u001b[0m\u001b[0;34m\u001b[0m\u001b[0;34m\u001b[0m\u001b[0m\n\u001b[0m",
      "\u001b[0;32m<ipython-input-102-7067f7e1760d>\u001b[0m in \u001b[0;36mtrain_and_pred\u001b[0;34m(model, X_train, X_test, y_train, y_test, del_cat_cols)\u001b[0m\n\u001b[1;32m      8\u001b[0m     \u001b[0;32melse\u001b[0m\u001b[0;34m:\u001b[0m\u001b[0;34m\u001b[0m\u001b[0;34m\u001b[0m\u001b[0m\n\u001b[1;32m      9\u001b[0m         \u001b[0;31m# primy(X_test.columns)\u001b[0m\u001b[0;34m\u001b[0m\u001b[0;34m\u001b[0m\u001b[0;34m\u001b[0m\u001b[0m\n\u001b[0;32m---> 10\u001b[0;31m         \u001b[0mmodel\u001b[0m\u001b[0;34m.\u001b[0m\u001b[0mfit\u001b[0m\u001b[0;34m(\u001b[0m\u001b[0mX_train\u001b[0m\u001b[0;34m,\u001b[0m\u001b[0my_train\u001b[0m\u001b[0;34m)\u001b[0m\u001b[0;34m\u001b[0m\u001b[0;34m\u001b[0m\u001b[0m\n\u001b[0m\u001b[1;32m     11\u001b[0m         \u001b[0mpredict\u001b[0m \u001b[0;34m=\u001b[0m \u001b[0mmodel\u001b[0m\u001b[0;34m.\u001b[0m\u001b[0mpredict\u001b[0m\u001b[0;34m(\u001b[0m\u001b[0mX_test\u001b[0m\u001b[0;34m)\u001b[0m\u001b[0;34m\u001b[0m\u001b[0;34m\u001b[0m\u001b[0m\n\u001b[1;32m     12\u001b[0m     \u001b[0mprint\u001b[0m\u001b[0;34m(\u001b[0m\u001b[0;34mf'rmse:{np.sqrt(mean_squared_error(y_test,predict)):.4f},mae:{mean_absolute_error(y_test,predict):.4f},r2:{r2_score(y_test,predict):.4f}'\u001b[0m\u001b[0;34m)\u001b[0m\u001b[0;34m\u001b[0m\u001b[0;34m\u001b[0m\u001b[0m\n",
      "\u001b[0;32m~/anaconda3/lib/python3.8/site-packages/sklearn/linear_model/_base.py\u001b[0m in \u001b[0;36mfit\u001b[0;34m(self, X, y, sample_weight)\u001b[0m\n\u001b[1;32m    545\u001b[0m         \u001b[0;32melse\u001b[0m\u001b[0;34m:\u001b[0m\u001b[0;34m\u001b[0m\u001b[0;34m\u001b[0m\u001b[0m\n\u001b[1;32m    546\u001b[0m             \u001b[0mself\u001b[0m\u001b[0;34m.\u001b[0m\u001b[0mcoef_\u001b[0m\u001b[0;34m,\u001b[0m \u001b[0mself\u001b[0m\u001b[0;34m.\u001b[0m\u001b[0m_residues\u001b[0m\u001b[0;34m,\u001b[0m \u001b[0mself\u001b[0m\u001b[0;34m.\u001b[0m\u001b[0mrank_\u001b[0m\u001b[0;34m,\u001b[0m \u001b[0mself\u001b[0m\u001b[0;34m.\u001b[0m\u001b[0msingular_\u001b[0m \u001b[0;34m=\u001b[0m\u001b[0;31m \u001b[0m\u001b[0;31m\\\u001b[0m\u001b[0;34m\u001b[0m\u001b[0;34m\u001b[0m\u001b[0m\n\u001b[0;32m--> 547\u001b[0;31m                 \u001b[0mlinalg\u001b[0m\u001b[0;34m.\u001b[0m\u001b[0mlstsq\u001b[0m\u001b[0;34m(\u001b[0m\u001b[0mX\u001b[0m\u001b[0;34m,\u001b[0m \u001b[0my\u001b[0m\u001b[0;34m)\u001b[0m\u001b[0;34m\u001b[0m\u001b[0;34m\u001b[0m\u001b[0m\n\u001b[0m\u001b[1;32m    548\u001b[0m             \u001b[0mself\u001b[0m\u001b[0;34m.\u001b[0m\u001b[0mcoef_\u001b[0m \u001b[0;34m=\u001b[0m \u001b[0mself\u001b[0m\u001b[0;34m.\u001b[0m\u001b[0mcoef_\u001b[0m\u001b[0;34m.\u001b[0m\u001b[0mT\u001b[0m\u001b[0;34m\u001b[0m\u001b[0;34m\u001b[0m\u001b[0m\n\u001b[1;32m    549\u001b[0m \u001b[0;34m\u001b[0m\u001b[0m\n",
      "\u001b[0;32m~/anaconda3/lib/python3.8/site-packages/scipy/linalg/basic.py\u001b[0m in \u001b[0;36mlstsq\u001b[0;34m(a, b, cond, overwrite_a, overwrite_b, check_finite, lapack_driver)\u001b[0m\n\u001b[1;32m   1219\u001b[0m                                                cond, False, False)\n\u001b[1;32m   1220\u001b[0m         \u001b[0;32mif\u001b[0m \u001b[0minfo\u001b[0m \u001b[0;34m>\u001b[0m \u001b[0;36m0\u001b[0m\u001b[0;34m:\u001b[0m\u001b[0;34m\u001b[0m\u001b[0;34m\u001b[0m\u001b[0m\n\u001b[0;32m-> 1221\u001b[0;31m             \u001b[0;32mraise\u001b[0m \u001b[0mLinAlgError\u001b[0m\u001b[0;34m(\u001b[0m\u001b[0;34m\"SVD did not converge in Linear Least Squares\"\u001b[0m\u001b[0;34m)\u001b[0m\u001b[0;34m\u001b[0m\u001b[0;34m\u001b[0m\u001b[0m\n\u001b[0m\u001b[1;32m   1222\u001b[0m         \u001b[0;32mif\u001b[0m \u001b[0minfo\u001b[0m \u001b[0;34m<\u001b[0m \u001b[0;36m0\u001b[0m\u001b[0;34m:\u001b[0m\u001b[0;34m\u001b[0m\u001b[0;34m\u001b[0m\u001b[0m\n\u001b[1;32m   1223\u001b[0m             raise ValueError('illegal value in %d-th argument of internal %s'\n",
      "\u001b[0;31mLinAlgError\u001b[0m: SVD did not converge in Linear Least Squares"
     ]
    }
   ],
   "source": [
    "lr_model = LinearRegression()\n",
    "print('for lr model:')\n",
    "train_and_pred(lr_model,X_train,X_test,y_train,y_test)"
   ]
  },
  {
   "cell_type": "code",
   "execution_count": 124,
   "id": "e1f01c07-60bc-4698-9bc8-5de586fa2041",
   "metadata": {},
   "outputs": [
    {
     "name": "stdout",
     "output_type": "stream",
     "text": [
      "for lasso model:\n"
     ]
    },
    {
     "name": "stderr",
     "output_type": "stream",
     "text": [
      "/home/gemengmeng/anaconda3/lib/python3.8/site-packages/sklearn/linear_model/_coordinate_descent.py:529: ConvergenceWarning: Objective did not converge. You might want to increase the number of iterations. Duality gap: nan, tolerance: 1260880.614645426\n",
      "  model = cd_fast.enet_coordinate_descent(\n"
     ]
    },
    {
     "name": "stdout",
     "output_type": "stream",
     "text": [
      "rmse:735.4320,mae:364.1963,r2:-0.0001\n",
      "for svr linear model:\n"
     ]
    },
    {
     "name": "stderr",
     "output_type": "stream",
     "text": [
      "/home/gemengmeng/anaconda3/lib/python3.8/site-packages/sklearn/svm/_base.py:246: ConvergenceWarning: Solver terminated early (max_iter=10000).  Consider pre-processing your data with StandardScaler or MinMaxScaler.\n",
      "  warnings.warn('Solver terminated early (max_iter=%i).'\n"
     ]
    },
    {
     "name": "stdout",
     "output_type": "stream",
     "text": [
      "rmse:753.9340,mae:297.3636,r2:-0.0510\n",
      "for svr rbf model:\n"
     ]
    },
    {
     "name": "stderr",
     "output_type": "stream",
     "text": [
      "/home/gemengmeng/anaconda3/lib/python3.8/site-packages/sklearn/svm/_base.py:246: ConvergenceWarning: Solver terminated early (max_iter=10000).  Consider pre-processing your data with StandardScaler or MinMaxScaler.\n",
      "  warnings.warn('Solver terminated early (max_iter=%i).'\n"
     ]
    },
    {
     "name": "stdout",
     "output_type": "stream",
     "text": [
      "rmse:740.2601,mae:262.7150,r2:-0.0132\n"
     ]
    }
   ],
   "source": [
    "lasso = Lasso()\n",
    "print('for lasso model:')\n",
    "train_and_pred(lasso,X_train,X_test,y_train,y_test,del_cat_cols=True)\n",
    "svr = SVR(kernel='linear',max_iter=10000)\n",
    "print('for svr linear model:')\n",
    "train_and_pred(svr,X_train,X_test,y_train,y_test,del_cat_cols=True)\n",
    "svr = SVR(kernel='rbf',max_iter=10000)\n",
    "print('for svr rbf model:')\n",
    "train_and_pred(svr,X_train,X_test,y_train,y_test,del_cat_cols=True)"
   ]
  },
  {
   "cell_type": "code",
   "execution_count": 125,
   "id": "d42da410-3e71-4d09-9b39-210aec8d1daf",
   "metadata": {},
   "outputs": [],
   "source": [
    "import warnings\n",
    "warnings.filterwarnings('ignore')"
   ]
  },
  {
   "cell_type": "code",
   "execution_count": 128,
   "id": "563a7c9b-241b-4185-9007-41a975024d3d",
   "metadata": {
    "tags": []
   },
   "outputs": [],
   "source": [
    "def test_reg_model(X,Y):\n",
    "    X_train, X_test, y_train, y_test = train_test_split(X,Y,test_size=0.2,train_size=0.8,shuffle=True)\n",
    "    print(X_train.shape,X_test.shape,y_train.shape,y_test.shape)\n",
    "    # lr_model = LinearRegression()\n",
    "    # print('for lr model:')\n",
    "    # train_and_pred(lr_model,X_train,X_test,y_train,y_test)\n",
    "    lasso = Lasso()\n",
    "    print('for lasso model:')\n",
    "    train_and_pred(lasso,X_train,X_test,y_train,y_test,del_cat_cols=True)\n",
    "    svr = SVR(kernel='linear',max_iter=10000)\n",
    "    print('for svr linear model:')\n",
    "    train_and_pred(svr,X_train,X_test,y_train,y_test,del_cat_cols=True)\n",
    "    # svr = SVR(kernel='rbf',max_iter=10000)\n",
    "    # print('for svr rbf model:')\n",
    "    # train_and_pred(svr,X_train,X_test,y_train,y_test,del_cat_cols=True)\n",
    "    # ensemble model\n",
    "    dtree = DecisionTreeRegressor(min_samples_leaf=8,max_depth=400)\n",
    "    print('for decision tree model with min_samples_leaf=8,max_depth=400:')\n",
    "    train_and_pred(dtree,X_train,X_test,y_train,y_test)\n",
    "    dtree = DecisionTreeRegressor(min_samples_leaf=2,max_depth=200)\n",
    "    print('for decision tree model with min_samples_leaf=2,max_depth=200:')\n",
    "    train_and_pred(dtree,X_train,X_test,y_train,y_test)\n",
    "    randtree = RandomForestRegressor(n_estimators=100,min_samples_leaf=2,\n",
    "                                     max_depth=200,n_jobs=10)\n",
    "    print('for random forest tree model with 100 estimator:')\n",
    "    train_and_pred(randtree,X_train,X_test,y_train,y_test)\n",
    "    randtree = RandomForestRegressor(n_estimators=200,min_samples_leaf=2,\n",
    "                                     max_depth=200,n_jobs=10)\n",
    "    print('for random forest tree model with 200 estimator:')\n",
    "    train_and_pred(randtree,X_train,X_test,y_train,y_test)\n",
    "    # return lasso,dtree,randtree"
   ]
  },
  {
   "cell_type": "code",
   "execution_count": null,
   "id": "a305b909-ecdd-428f-8d05-f310c3f08b63",
   "metadata": {
    "tags": []
   },
   "outputs": [
    {
     "name": "stdout",
     "output_type": "stream",
     "text": [
      "for dataset2 with standard scaler:\n",
      "(65402, 12) (16351, 12) (65402,) (16351,)\n",
      "for lasso model:\n",
      "rmse:745.5415,mae:346.4643,r2:-0.0004\n",
      "for svr linear model:\n",
      "rmse:8933.2596,mae:8905.4707,r2:-142.6308\n",
      "for decision tree model with min_samples_leaf=8,max_depth=400:\n",
      "rmse:411.1265,mae:118.3623,r2:0.6958\n",
      "for decision tree model with min_samples_leaf=2,max_depth=200:\n",
      "rmse:491.9826,mae:109.2448,r2:0.5644\n",
      "for random forest tree model with 100 estimator:\n",
      "rmse:330.6683,mae:88.7228,r2:0.8032\n",
      "for random forest tree model with 200 estimator:\n",
      "rmse:328.2245,mae:88.1638,r2:0.8061\n"
     ]
    }
   ],
   "source": [
    "print('for dataset2 with standard scaler:')\n",
    "X2,Y2 = scale_numerical_cols(d2)\n",
    "test_reg_model(X2,Y2)"
   ]
  },
  {
   "cell_type": "code",
   "execution_count": 131,
   "id": "f4a7a064-4ef1-4401-8dbb-3b81037484c2",
   "metadata": {
    "tags": []
   },
   "outputs": [],
   "source": [
    "X1,Y1 = scale_numerical_cols(d1,method='minmax')\n",
    "X2,Y2 = scale_numerical_cols(d2,method='minmax')"
   ]
  },
  {
   "cell_type": "code",
   "execution_count": 132,
   "id": "e84f3e74-c88a-4497-b6e6-8737b1be5799",
   "metadata": {
    "tags": []
   },
   "outputs": [
    {
     "name": "stdout",
     "output_type": "stream",
     "text": [
      "for dataset1 with minmax scaler:\n",
      "(24362, 9) (6091, 9) (24362,) (6091,)\n",
      "for lasso model:\n",
      "rmse:727.8985,mae:364.7636,r2:-0.0000\n",
      "for svr linear model:\n",
      "rmse:753.0065,mae:273.4670,r2:-0.0702\n",
      "for decision tree model with min_samples_leaf=8,max_depth=400:\n",
      "rmse:604.0190,mae:246.5410,r2:0.3114\n",
      "for decision tree model with min_samples_leaf=2,max_depth=200:\n",
      "rmse:672.6886,mae:251.4362,r2:0.1459\n",
      "for random forest tree model with 100 estimator:\n",
      "rmse:524.2765,mae:211.3475,r2:0.4812\n",
      "for random forest tree model with 200 estimator:\n",
      "rmse:520.8881,mae:210.6783,r2:0.4879\n"
     ]
    }
   ],
   "source": [
    "print('for dataset1 with minmax scaler:')\n",
    "test_reg_model(X1,Y1)"
   ]
  },
  {
   "cell_type": "code",
   "execution_count": 133,
   "id": "f28a8337-5e15-4087-aae3-d1f8c5b97c18",
   "metadata": {
    "tags": []
   },
   "outputs": [
    {
     "name": "stdout",
     "output_type": "stream",
     "text": [
      "for dataset2 with minmax scaler:\n",
      "(65402, 12) (16351, 12) (65402,) (16351,)\n",
      "for lasso model:\n",
      "rmse:782.2560,mae:348.7426,r2:-0.0004\n",
      "for svr linear model:\n",
      "rmse:781.2625,mae:310.2985,r2:0.0021\n",
      "for decision tree model with min_samples_leaf=8,max_depth=400:\n",
      "rmse:452.6907,mae:117.4629,r2:0.6650\n",
      "for decision tree model with min_samples_leaf=2,max_depth=200:\n",
      "rmse:547.1818,mae:109.7730,r2:0.5105\n",
      "for random forest tree model with 100 estimator:\n",
      "rmse:368.3682,mae:91.5362,r2:0.7782\n",
      "for random forest tree model with 200 estimator:\n",
      "rmse:369.4493,mae:91.4554,r2:0.7769\n"
     ]
    }
   ],
   "source": [
    "print('for dataset2 with minmax scaler:')\n",
    "test_reg_model(X2,Y2)"
   ]
  },
  {
   "cell_type": "code",
   "execution_count": 136,
   "id": "200376d7-d019-444b-aaa6-9c7be66abd33",
   "metadata": {},
   "outputs": [
    {
     "name": "stdout",
     "output_type": "stream",
     "text": [
      "for dataset1 without scaler:\n",
      "(24362, 9) (6091, 9) (24362,) (6091,)\n",
      "for lasso model:\n",
      "rmse:723.9267,mae:360.4563,r2:-0.0000\n",
      "for svr linear model:\n",
      "rmse:202987.9974,mae:180134.9377,r2:-78623.7678\n",
      "for decision tree model with min_samples_leaf=8,max_depth=400:\n",
      "rmse:571.5908,mae:238.9023,r2:0.3766\n",
      "for decision tree model with min_samples_leaf=2,max_depth=200:\n",
      "rmse:629.3649,mae:244.2489,r2:0.2442\n",
      "for random forest tree model with 100 estimator:\n",
      "rmse:508.9429,mae:210.9246,r2:0.5057\n",
      "for random forest tree model with 200 estimator:\n",
      "rmse:508.7979,mae:210.8194,r2:0.5060\n"
     ]
    }
   ],
   "source": [
    "X1,Y1 = scale_numerical_cols(d1,method='')\n",
    "X2,Y2 = scale_numerical_cols(d2,method='')\n",
    "print('for dataset1 without scaler:')\n",
    "test_reg_model(X1,Y1)"
   ]
  },
  {
   "cell_type": "code",
   "execution_count": 137,
   "id": "e0be297e-cbab-44be-b5b9-33a280689c80",
   "metadata": {},
   "outputs": [
    {
     "name": "stdout",
     "output_type": "stream",
     "text": [
      "for dataset2 without scaler:\n",
      "(65402, 12) (16351, 12) (65402,) (16351,)\n",
      "for lasso model:\n",
      "rmse:905.6086,mae:356.0966,r2:-0.0000\n",
      "for svr linear model:\n",
      "rmse:9533.9327,mae:6823.9306,r2:-109.8330\n",
      "for decision tree model with min_samples_leaf=8,max_depth=400:\n",
      "rmse:532.7351,mae:122.4907,r2:0.6539\n",
      "for decision tree model with min_samples_leaf=2,max_depth=200:\n",
      "rmse:518.5140,mae:107.4716,r2:0.6722\n",
      "for random forest tree model with 100 estimator:\n",
      "rmse:448.9055,mae:92.0374,r2:0.7543\n",
      "for random forest tree model with 200 estimator:\n",
      "rmse:450.4789,mae:92.2183,r2:0.7526\n"
     ]
    }
   ],
   "source": [
    "print('for dataset2 without scaler:')\n",
    "test_reg_model(X2,Y2)"
   ]
  },
  {
   "cell_type": "code",
   "execution_count": 138,
   "id": "88a5e6cd-9097-4945-938d-ceffae9352ac",
   "metadata": {},
   "outputs": [
    {
     "name": "stdout",
     "output_type": "stream",
     "text": [
      "for merged dataset: (112206, 8)\n",
      "for merged dataset with standard scaler:\n",
      "(89764, 7) (22442, 7) (89764,) (22442,)\n",
      "for lasso model:\n",
      "rmse:903.6972,mae:361.8855,r2:-0.0000\n",
      "for svr linear model:\n",
      "rmse:5345.2092,mae:5274.5749,r2:-33.9853\n",
      "for decision tree model with min_samples_leaf=8,max_depth=400:\n",
      "rmse:699.3604,mae:207.8260,r2:0.4011\n",
      "for decision tree model with min_samples_leaf=2,max_depth=200:\n",
      "rmse:745.5168,mae:200.7410,r2:0.3194\n",
      "for random forest tree model with 100 estimator:\n",
      "rmse:614.9152,mae:178.5857,r2:0.5370\n",
      "for random forest tree model with 200 estimator:\n",
      "rmse:614.8985,mae:178.1728,r2:0.5370\n",
      "==================================================\n",
      "for merged dataset with minmax scaler:\n",
      "(89764, 7) (22442, 7) (89764,) (22442,)\n",
      "for lasso model:\n",
      "rmse:877.4062,mae:359.9275,r2:-0.0000\n",
      "for svr linear model:\n",
      "rmse:877.0219,mae:375.9800,r2:0.0009\n",
      "for decision tree model with min_samples_leaf=8,max_depth=400:\n",
      "rmse:670.5058,mae:205.8695,r2:0.4160\n",
      "for decision tree model with min_samples_leaf=2,max_depth=200:\n",
      "rmse:734.4653,mae:202.6070,r2:0.2993\n",
      "for random forest tree model with 100 estimator:\n",
      "rmse:587.5242,mae:176.4749,r2:0.5516\n",
      "for random forest tree model with 200 estimator:\n",
      "rmse:586.8260,mae:176.3712,r2:0.5527\n",
      "==================================================\n",
      "for merged dataset without scaler:\n",
      "(89764, 7) (22442, 7) (89764,) (22442,)\n",
      "for lasso model:\n",
      "rmse:771.4586,mae:352.9329,r2:-0.0002\n",
      "for svr linear model:\n",
      "rmse:151288.5340,mae:151156.1616,r2:-38465.9852\n",
      "for decision tree model with min_samples_leaf=8,max_depth=400:\n",
      "rmse:594.3510,mae:195.9939,r2:0.4063\n",
      "for decision tree model with min_samples_leaf=2,max_depth=200:\n",
      "rmse:651.4594,mae:193.8108,r2:0.2867\n",
      "for random forest tree model with 100 estimator:\n",
      "rmse:519.0908,mae:170.5156,r2:0.5471\n",
      "for random forest tree model with 200 estimator:\n",
      "rmse:521.4726,mae:170.7009,r2:0.5430\n"
     ]
    }
   ],
   "source": [
    "print('for merged dataset:',d3.shape)\n",
    "X3,Y3 = scale_numerical_cols(d3,method='std')\n",
    "print('for merged dataset with standard scaler:')\n",
    "test_reg_model(X3,Y3)\n",
    "print('='*50)\n",
    "X3,Y3 = scale_numerical_cols(d3,method='minmax')\n",
    "print('for merged dataset with minmax scaler:')\n",
    "test_reg_model(X3,Y3)\n",
    "print('='*50)\n",
    "X3,Y3 = scale_numerical_cols(d3,method='')\n",
    "print('for merged dataset without scaler:')\n",
    "test_reg_model(X3,Y3)"
   ]
  },
  {
   "cell_type": "markdown",
   "id": "c3250b62-b6bd-431e-b13b-cb773ea2805d",
   "metadata": {},
   "source": [
    "# 2. DNN Models(LSTM&CNN&DNN)"
   ]
  },
  {
   "cell_type": "markdown",
   "id": "641fde4c-61d4-4b55-8826-5f73297464f4",
   "metadata": {
    "tags": []
   },
   "source": [
    "## 2.1 Data Preprocess for DNN Models"
   ]
  },
  {
   "cell_type": "code",
   "execution_count": 33,
   "id": "88367c25-85b5-401f-8058-cdaf95a0fa85",
   "metadata": {
    "tags": []
   },
   "outputs": [
    {
     "name": "stdout",
     "output_type": "stream",
     "text": [
      "[2013.0, 2013.0, 2013.0, 2013.0, 2013.0, 2013.0, 2014.0, 2014.0, 2014.0, 2014.0, 2014.0, 2014.0, 2014.0, 2014.0, 2014.0, 2014.0, 2014.0, 2014.0, 2015.0, 2015.0, 2015.0, 2015.0, 2015.0, 2015.0, 2015.0, 2015.0, 2015.0, 2015.0, 2015.0, 2016.0, 2016.0, 2016.0, 2016.0, 2016.0, 2016.0, 2016.0, 2016.0, 2016.0, 2016.0, 2016.0, 2016.0, 2017.0, 2017.0, 2017.0, 2017.0, 2017.0, 2017.0, 2017.0, 2017.0, 2017.0, 2017.0, 2018.0, 2018.0, 2018.0, 2018.0, 2018.0, 2018.0, 2018.0, 2019.0, 2019.0, 2019.0, 2019.0, 2019.0, 2019.0, 2019.0, 2019.0, 2019.0, 2019.0, 2019.0, 2019.0, 2020.0, 2020.0, 2020.0, 2020.0, 2020.0, 2020.0, 2020.0, 2021.0, 2021.0, 2021.0, 2021.0, 2021.0, 2022.0, 2022.0, 2022.0, 2022.0, 2022.0, 2022.0, 2022.0, 2022.0, 2023.0]\n",
      "[2019.0, 2019.0, 2019.0, 2019.0, 2019.0, 2019.0, 2020.0, 2020.0, 2020.0, 2020.0, 2020.0, 2020.0, 2020.0, 2020.0, 2020.0, 2021.0, 2021.0, 2021.0, 2021.0, 2021.0, 2021.0, 2021.0, 2021.0, 2021.0, 2021.0, 2021.0, 2021.0, 2021.0, 2021.0, 2021.0, 2022.0, 2022.0, 2022.0, 2022.0, 2022.0, 2022.0, 2022.0, 2022.0, 2022.0, 2022.0, 2023.0, 2023.0, 2023.0, 2023.0, 2023.0, 2023.0]\n",
      "[130.0, 88.33, 61.0, 47.5, 48.33, 45.0, 43.75, 92.5, 55.0, 46.0, 55.0, 65.0, 40.0, 55.0, 47.5, 47.5, 58.33, 48.0, 77.5, 60.0, 70.0, 57.5, 65.0, 50.0, 65.0, 82.5, 75.0, 66.67, 57.5, 105.0, 52.22, 57.5, 63.33, 46.67, 55.0, 60.0, 80.0, 80.0, 90.0, 115.0, 80.0, 90.0, 85.0, 80.0, 65.0, 68.33, 115.0, 90.0, 122.5, 133.33, 81.67, 127.5, 110.0, 140.0, 152.5, 124.0, 115.0, 130.0, 125.0, 150.0, 158.0, 104.0, 105.0, 120.0, 92.5, 130.0, 110.0, 150.0, 110.0, 140.0, 113.33, 135.0, 140.0, 135.0, 190.0, 140.0, 170.0, 190.0, 240.0, 222.5, 240.0, 306.67, 400.0, 380.0, 380.0, 400.0, 360.0, 420.0, 380.0, 305.0, 300.0] 270.0\n",
      "[449.0, 366.0, 435.0, 396.0, 395.0, 355.0, 421.0, 407.0, 420.0, 475.0, 410.0, 410.0, 436.0, 448.0, 436.0, 505.0, 439.0, 475.0, 480.0, 470.0, 605.0, 445.0, 435.0, 530.0, 521.0, 516.0, 455.0, 410.0, 416.0, 415.0, 456.0, 456.0, 450.0, 495.0, 445.0, 512.0, 495.0, 486.0, 481.0, 475.0, 480.0, 490.0, 478.0, 472.0, 470.0, 450.0] 400.0\n",
      "{'his_bid_prices', 'cl', 'distilled', 'bottled', 'auc_year', 'Winning bid', 'bottle number', 'strength', 'his_bid_times', 'age'}\n",
      "(30453, 10) (81753, 10) (112206, 10)\n",
      "['Winning bid', 'age', 'bottle number', 'bottled', 'distilled', 'his_bid_prices', 'his_bid_times', 'strength', 'cl', 'auc_year'] ['distilled', 'bottled', 'age', 'strength', 'cl', 'his_bid_times', 'his_bid_prices', 'bottle number', 'Winning bid', 'auc_year'] ['his_bid_prices', 'cl', 'distilled', 'bottled', 'auc_year', 'Winning bid', 'bottle number', 'strength', 'his_bid_times', 'age']\n",
      "(30453, 10) (81753, 10) (112206, 10)\n",
      "['Winning bid', 'age', 'bottle number', 'bottled', 'distilled', 'his_bid_prices', 'his_bid_times', 'strength', 'cl', 'auc_year'] ['distilled', 'bottled', 'age', 'strength', 'cl', 'his_bid_times', 'his_bid_prices', 'bottle number', 'Winning bid', 'auc_year'] ['his_bid_prices', 'cl', 'distilled', 'bottled', 'auc_year', 'Winning bid', 'bottle number', 'strength', 'his_bid_times', 'age']\n"
     ]
    }
   ],
   "source": [
    "d1,d2,d3 = read_csv_data('datas/lstm_v1_da.csv','datas/lstm_v1_db.csv')\n",
    "print(d1.shape,d2.shape,d3.shape)\n",
    "print(list(d1.columns),list(d2.columns),list(d3.columns))"
   ]
  },
  {
   "cell_type": "code",
   "execution_count": 34,
   "id": "688b46f7-4d10-4745-8eac-2a9233336c50",
   "metadata": {
    "tags": []
   },
   "outputs": [],
   "source": [
    "from sklearn.preprocessing import StandardScaler,MinMaxScaler\n",
    "from sklearn.model_selection import train_test_split\n",
    "from sklearn.metrics import r2_score,mean_absolute_error,mean_squared_error"
   ]
  },
  {
   "cell_type": "code",
   "execution_count": 35,
   "id": "0626f29f-0f1e-4200-95c4-0cf56b8eaa9e",
   "metadata": {
    "tags": []
   },
   "outputs": [],
   "source": [
    "def scale_numerical_cols(org,method='std',splity=False):\n",
    "    y = org['Winning bid']\n",
    "    df = org.drop(columns=['Winning bid'])\n",
    "    numerical_cols = [v for v in df.columns if df[v].dtype!=object]\n",
    "    x_num = df.loc[:,numerical_cols]\n",
    "    if method == 'std':\n",
    "        x_num_scaled = StandardScaler().fit_transform(x_num)\n",
    "    else:\n",
    "        x_num_scaled = MinMaxScaler().fit_transform(x_num)\n",
    "    df.loc[:,numerical_cols] = x_num_scaled\n",
    "    if splity:\n",
    "        return df,y\n",
    "    else:\n",
    "        df['Winning bid'] = y\n",
    "        return df"
   ]
  },
  {
   "cell_type": "markdown",
   "id": "1c48b1d6-8b26-434d-9bfc-a9abc9a7fd62",
   "metadata": {},
   "source": [
    "## 2.2 DNN Models Train and Pred"
   ]
  },
  {
   "cell_type": "code",
   "execution_count": 36,
   "id": "16fa3f27-68b9-4164-a730-78ce9b66add0",
   "metadata": {
    "tags": []
   },
   "outputs": [],
   "source": [
    "import matplotlib.pyplot as plt\n",
    "import numpy as np\n",
    "import pandas as pd\n",
    "import torch\n",
    "import torch.nn as nn\n",
    "import torch.optim as optim\n",
    "from torch.utils.data import Dataset,DataLoader"
   ]
  },
  {
   "cell_type": "code",
   "execution_count": 37,
   "id": "e943bc91-b6fc-467e-b254-bae0fc767d9a",
   "metadata": {
    "tags": []
   },
   "outputs": [
    {
     "name": "stdout",
     "output_type": "stream",
     "text": [
      "/usr/local/cuda/targets/x86_64-linux/lib:/usr/local/cuda/targets/x86_64-linux/lib:\n"
     ]
    }
   ],
   "source": [
    "from torch.nn.utils.rnn import pad_sequence\n",
    "import os\n",
    "# os.environ['CUDA_LAUNCH_BLOCKING']='1'\n",
    "device = 'cuda:0'\n",
    "# os.environ['LD_LIBRARY_PATH'] = ':'.join(['/usr/local/cuda-11.3/lib64',os.environ['LD_LIBRARY_PATH']])\n",
    "print(os.environ['LD_LIBRARY_PATH'])"
   ]
  },
  {
   "cell_type": "code",
   "execution_count": 10,
   "id": "34007c5b-88ff-4eca-b8c2-8e84558f26f3",
   "metadata": {
    "tags": []
   },
   "outputs": [
    {
     "name": "stdout",
     "output_type": "stream",
     "text": [
      "torch.Size([2, 10, 32])\n"
     ]
    }
   ],
   "source": [
    "aa = pad_sequence([torch.ones((5,24)),torch.ones((10,24))],batch_first=True).to('cuda:0')*1.0\n",
    "lstm = nn.LSTM(input_size=24, hidden_size=32, num_layers=2, batch_first=True).to('cuda:0')\n",
    "res,_ = lstm(aa)\n",
    "print(res.shape)"
   ]
  },
  {
   "cell_type": "code",
   "execution_count": 11,
   "id": "80a722ee-cb2d-4c2c-9892-9ec151917366",
   "metadata": {},
   "outputs": [
    {
     "name": "stdout",
     "output_type": "stream",
     "text": [
      "torch.Size([2, 64, 22])\n"
     ]
    }
   ],
   "source": [
    "# N,C,L\n",
    "cnn = nn.Conv1d(in_channels=10, out_channels=64, kernel_size=3).to('cuda:0')\n",
    "res = cnn(aa)\n",
    "print(res.shape)"
   ]
  },
  {
   "cell_type": "code",
   "execution_count": 95,
   "id": "0c6bbe7b-d979-49a2-8a24-1f792a7e2cfd",
   "metadata": {},
   "outputs": [],
   "source": [
    "import torch.nn.functional as f"
   ]
  },
  {
   "cell_type": "code",
   "execution_count": 96,
   "id": "0ce8b3ba-a8cc-46f2-95f5-798009592d03",
   "metadata": {
    "tags": []
   },
   "outputs": [],
   "source": [
    "class WhiskyDataset(Dataset):\n",
    "    def __init__(self,df):\n",
    "        super().__init__()\n",
    "        self.df = df\n",
    "        self.max_len = max(np.max([len(v) for v in df['his_bid_prices']]),np.max([len(v) for v in df['his_bid_times']]))\n",
    "    def __getitem__(self,idx):\n",
    "        # print(idx,self.df.shape,type(idx))\n",
    "        # print(self.df['Winning bid'].iloc[idx])\n",
    "        y = self.df['Winning bid'].iloc[idx]\n",
    "        x_price = self.df['his_bid_prices'].iloc[idx]\n",
    "        x_time = self.df['his_bid_times'].iloc[idx]\n",
    "        goal_cols = [c for c in self.df.columns if 'bid' not in c and 'hist' not in c]\n",
    "        assert 'Winning bid' not in goal_cols\n",
    "        x_f = self.df.iloc[idx][goal_cols]\n",
    "        return x_f,x_time,x_price,y\n",
    "    def __len__(self):\n",
    "        return self.df.shape[0]\n",
    "def collate_fn(datas):\n",
    "    ys,xps,xts,xfs = [],[],[],[]\n",
    "    for dd in datas:\n",
    "        x_f,x_time,x_price,y = dd\n",
    "        ys.append(y)\n",
    "        # try:\n",
    "        xps.append(torch.tensor(x_price,dtype=torch.float32).reshape(-1,1))\n",
    "        xts.append(torch.tensor(x_time,dtype=torch.float32).reshape(-1,1))\n",
    "        # except Exception as e:\n",
    "            # print(x_price,x_time,e,type(x_price),type(x_time))\n",
    "            # return \n",
    "        xfs.append(torch.tensor(x_f,dtype=torch.float32))\n",
    "    ys = torch.tensor(ys,dtype=torch.float32).reshape(-1,1)\n",
    "    xps = pad_sequence(xps,batch_first=True)\n",
    "    xts = pad_sequence(xts,batch_first=True)\n",
    "    xhis = torch.cat([xps,xts],dim=-1)\n",
    "    xfs = torch.stack(xfs,dim=0)\n",
    "    return (xfs,xhis),ys\n",
    "    \n",
    "class LSTMModel(nn.Module):\n",
    "    def __init__(self,hidden_dim=64,num_layers=2,in_features=7):\n",
    "        super().__init__()\n",
    "        self.lstm = nn.LSTM(input_size=2, hidden_size=hidden_dim, num_layers=num_layers, batch_first=True)\n",
    "        self.numlayer = nn.Linear(in_features=7,out_features=hidden_dim//2)\n",
    "        self.fusein = nn.Linear(hidden_dim+hidden_dim//2,2*hidden_dim)\n",
    "        self.fuseout = nn.Linear(hidden_dim*2,hidden_dim)\n",
    "        self.linear = nn.Linear(hidden_dim, 1)\n",
    "    def forward(self, xfs, xhis):\n",
    "        # print(xhis.dtype)\n",
    "        xh, _ = self.lstm(xhis)\n",
    "        xh = xh.mean(dim=1)\n",
    "        # pri.nt(xfs.shape)\n",
    "        xf = f.relu(self.numlayer(xfs))\n",
    "        # print(xh.shape,xf.shape,xhis.shape,xfs.shape)\n",
    "        x1 = f.relu(self.fusein(torch.cat([xh,xf],dim=1)))\n",
    "        # print(x1.shape)\n",
    "        x2 = f.relu(self.fuseout(x1))\n",
    "        return self.linear(x2)\n",
    "        \n",
    "    \n",
    "def train_and_pred(model,optimizer,train_loader,test_loader,loss_fn,n_epochs=200,device='cpu'):\n",
    "    losses_train = []\n",
    "    losses_test = []\n",
    "    for epoch in range(n_epochs):\n",
    "        model.train()\n",
    "        step = 0\n",
    "        for X_batch, y_batch in train_loader:\n",
    "            Xfs,Xhis = X_batch\n",
    "            Xfs,Xhis = Xfs.to(device),Xhis.to(device)\n",
    "            y_batch = y_batch.to(device)\n",
    "            y_pred = model(Xfs,Xhis)\n",
    "            loss = loss_fn(y_pred, y_batch)\n",
    "            optimizer.zero_grad()\n",
    "            loss.backward()\n",
    "            optimizer.step()\n",
    "            losses_train.append(loss.cpu().detach().numpy())\n",
    "            step += 1\n",
    "            if step == (len(train_loader)-1): \n",
    "                print(f'step:{step}/{len(train_loader)} loss:{loss}')\n",
    "        # Validation\n",
    "        if epoch % 5 != 0 and epoch != n_epochs-1:\n",
    "            continue\n",
    "        model.eval()\n",
    "        with torch.no_grad():\n",
    "            # y_pred = model(X_train)\n",
    "            # train_rmse = np.sqrt(loss_fn(y_pred, y_train))\n",
    "            y_pred,y_test = [],[]\n",
    "            test_loss = 0\n",
    "            for X_batch, y_batch in test_loader:\n",
    "                Xfs,Xhis = X_batch\n",
    "                Xfs,Xhis = Xfs.to(device),Xhis.to(device)\n",
    "                y_batch = y_batch.to(device)\n",
    "                pred_batch = model(Xfs,Xhis)\n",
    "                test_loss += loss_fn(pred_batch, y_batch)\n",
    "                y_pred.append(pred_batch.cpu().numpy())\n",
    "                y_test.append(y_batch.cpu().numpy())\n",
    "            losses_test.append(test_loss.cpu().detach().numpy())\n",
    "            y_pred = np.concatenate(y_pred,axis=0)\n",
    "            y_test = np.concatenate(y_test,axis=0)\n",
    "            test_rmse = np.sqrt(mean_squared_error(y_test,y_pred))\n",
    "            test_mae = mean_absolute_error(y_test,y_pred)\n",
    "            test_r2score = r2_score(y_test,y_pred)\n",
    "            print(y_pred.shape,y_test.shape)\n",
    "        print(\"Epoch %d: test RMSE %.4f test MAE %.4f R2 %.4f\" % (epoch, test_rmse, test_mae, test_r2score))\n",
    "    return losses_train,losses_test\n",
    "    # with torch.no_grad():\n",
    "    #     # shift train predictions for plotting\n",
    "    #     train_plot = np.ones_like(timeseries) * np.nan\n",
    "    #     y_pred = model(X_train)\n",
    "    #     y_pred = y_pred[:, -1, :]\n",
    "    #     train_plot[lookback:train_size] = model(X_train)[:, -1, :]\n",
    "    #     # shift test predictions for plotting\n",
    "    #     test_plot = np.ones_like(timeseries) * np.nan\n",
    "    #     test_plot[train_size+lookback:len(timeseries)] = model(X_test)[:, -1, :]"
   ]
  },
  {
   "cell_type": "code",
   "execution_count": 97,
   "id": "8065d490-ba5e-437a-94a2-a19440e48cf8",
   "metadata": {},
   "outputs": [],
   "source": [
    "class CNNModel(nn.Module):\n",
    "    def __init__(self,hidden_dim=64,in_features=7):\n",
    "        super().__init__()\n",
    "        self.cnn1 = nn.Conv1d(in_channels=2, out_channels=hidden_dim, kernel_size=2)    \n",
    "        self.pool1 = nn.MaxPool1d(kernel_size=2)\n",
    "        self.cnn2 = nn.Conv1d(in_channels=hidden_dim, out_channels=hidden_dim, kernel_size=2)\n",
    "        self.pool2 = nn.MaxPool1d(kernel_size=2)\n",
    "        self.numlayer = nn.Linear(in_features=7,out_features=hidden_dim//2)\n",
    "        self.fusein = nn.Linear(hidden_dim+hidden_dim//2,2*hidden_dim)\n",
    "        self.fuseout = nn.Linear(hidden_dim*2,hidden_dim)\n",
    "        self.linear = nn.Linear(hidden_dim, 1)\n",
    "    def forward(self, xfs,xhis):\n",
    "        xhis = xhis.transpose(-2,-1)\n",
    "        # print(xhis.shape)\n",
    "        xh = self.cnn1(xhis)\n",
    "        xh = self.pool1(xh)\n",
    "        xh = self.cnn2(xh)\n",
    "        xh = self.pool2(xh)\n",
    "        xh = xh.mean(dim=-1)\n",
    "        # print(xh.shape)\n",
    "        xf = f.relu(self.numlayer(xfs))\n",
    "        x1 = f.relu(self.fusein(torch.cat([xh,xf],dim=1)))\n",
    "        x2 = f.relu(self.fuseout(x1))\n",
    "        return self.linear(x2)\n",
    "    \n",
    "class DNNModel(nn.Module):\n",
    "    def __init__(self,hidden_dim=64,in_features=7):\n",
    "        super().__init__()\n",
    "        self.numlayer = nn.Linear(in_features=7,out_features=hidden_dim)\n",
    "        self.fusein = nn.Linear(hidden_dim,2*hidden_dim)\n",
    "        self.fuseout = nn.Linear(hidden_dim*2,hidden_dim)\n",
    "        self.linear = nn.Linear(hidden_dim, 1)\n",
    "    def forward(self, xfs,xhis):\n",
    "        xf = f.relu(self.numlayer(xfs))\n",
    "        x1 = f.relu(self.fusein(xf))\n",
    "        x2 = f.relu(self.fuseout(x1))\n",
    "        return self.linear(x2)"
   ]
  },
  {
   "cell_type": "code",
   "execution_count": 40,
   "id": "c96dd26f-071e-4004-9375-78a6e6a2c022",
   "metadata": {
    "tags": []
   },
   "outputs": [],
   "source": [
    "# train-test split for time series\n",
    "def train_model(train_df,test_df,lr=1e-3,bsz=64,epochs=20,hidden_dim=64,num_layers=2,in_features=7,model_type='lstm'):\n",
    "    if model_type=='lstm':\n",
    "        model = LSTMModel(hidden_dim=hidden_dim,num_layers=num_layers,in_features=in_features).to(device)\n",
    "    elif model_type == 'cnn':\n",
    "        model = CNNModel(hidden_dim=hidden_dim,in_features=in_features).to(device)\n",
    "    else:\n",
    "        assert model_type == 'dnn'\n",
    "        model = DNNModel(hidden_dim=hidden_dim,in_features=in_features).to(device)\n",
    "\n",
    "    optimizer = optim.Adam(model.parameters(),lr=lr)\n",
    "    loss_fn = nn.MSELoss()\n",
    "    train_loader = DataLoader(dataset=WhiskyDataset(train_df), collate_fn=collate_fn,\n",
    "                        batch_size=bsz, shuffle=True, num_workers=10,pin_memory=True,drop_last=True)\n",
    "    \n",
    "    test_loader = DataLoader(dataset=WhiskyDataset(test_df), collate_fn=collate_fn,\n",
    "                        batch_size=bsz*2, shuffle=True, num_workers=10,pin_memory=True,drop_last=False)\n",
    "    losses_train,losses_test = train_and_pred(model,optimizer,train_loader,test_loader,loss_fn,n_epochs=epochs,device=device)\n",
    "    return model,(losses_train,losses_test)\n",
    "    # plot\n",
    "    # plt.plot(timeseries)\n",
    "    # plt.plot(train_plot, c='r')\n",
    "    # plt.plot(test_plot, c='g')\n",
    "    # plt.show()"
   ]
  },
  {
   "cell_type": "code",
   "execution_count": 41,
   "id": "af8a74bc-0625-4631-8759-bfc0325827e4",
   "metadata": {
    "tags": []
   },
   "outputs": [],
   "source": [
    "def get_train_test_split(X,ratio=0.2):\n",
    "    random_idx = np.arange(X.shape[0])\n",
    "    np.random.shuffle(random_idx)\n",
    "    train_num = int(X.shape[0]*(1-ratio))\n",
    "    train_df = X.iloc[random_idx[:train_num],:]\n",
    "    test_df = X.iloc[random_idx[train_num:],:]\n",
    "    print(train_df.shape,test_df.shape)\n",
    "    return train_df,test_df"
   ]
  },
  {
   "cell_type": "code",
   "execution_count": 42,
   "id": "086ee055-fac8-45c0-b030-76f2095e5739",
   "metadata": {},
   "outputs": [],
   "source": [
    "# standard scaler\n",
    "X1 = scale_numerical_cols(d1)\n",
    "X2 = scale_numerical_cols(d2)\n",
    "# X1 = scale_numerical_cols(d_a,method='minmax')\n",
    "# X2 = scale_numerical_cols(d_b,method='minmax')"
   ]
  },
  {
   "cell_type": "code",
   "execution_count": 17,
   "id": "5b35e1be-7774-4b24-a596-451bb5c307fe",
   "metadata": {
    "tags": []
   },
   "outputs": [
    {
     "name": "stdout",
     "output_type": "stream",
     "text": [
      "(24362, 10) (6091, 10)\n"
     ]
    }
   ],
   "source": [
    "train_df,test_df = get_train_test_split(X1)"
   ]
  },
  {
   "cell_type": "code",
   "execution_count": 65,
   "id": "56a6d42c-588f-467d-a5ba-fc9223ee3132",
   "metadata": {},
   "outputs": [
    {
     "name": "stdout",
     "output_type": "stream",
     "text": [
      "torch.Size([2, 7]) torch.Size([2, 7, 2]) torch.Size([2, 1])\n"
     ]
    }
   ],
   "source": [
    "train_loader = DataLoader(dataset=WhiskyDataset(train_df), collate_fn=collate_fn,\n",
    "                    batch_size=2, shuffle=True, num_workers=0,pin_memory=True,drop_last=True)\n",
    "(a,b),c = next(iter(train_loader))\n",
    "print(a.shape,b.shape,c.shape)"
   ]
  },
  {
   "cell_type": "code",
   "execution_count": 47,
   "id": "42df00e6-8bcd-4db5-a7a7-8283a1db2078",
   "metadata": {},
   "outputs": [
    {
     "name": "stdout",
     "output_type": "stream",
     "text": [
      "torch.Size([2, 2, 10])\n",
      "torch.Size([2, 64])\n"
     ]
    },
    {
     "data": {
      "text/plain": [
       "torch.Size([2, 1])"
      ]
     },
     "execution_count": 47,
     "metadata": {},
     "output_type": "execute_result"
    }
   ],
   "source": [
    "(xfs,xhis),_ = next(iter(train_loader))\n",
    "model = CNNModel(hidden_dim=64,in_features=7)\n",
    "model(xfs,xhis).shape"
   ]
  },
  {
   "cell_type": "code",
   "execution_count": 50,
   "id": "7ea6d50c-c919-4734-b442-d6de8d5fac6d",
   "metadata": {},
   "outputs": [
    {
     "data": {
      "text/plain": [
       "torch.Size([2, 1])"
      ]
     },
     "execution_count": 50,
     "metadata": {},
     "output_type": "execute_result"
    }
   ],
   "source": [
    "(xfs,xhis),_ = next(iter(train_loader))\n",
    "model = DNNModel(hidden_dim=64,in_features=7)\n",
    "model(xfs,xhis).shape"
   ]
  },
  {
   "cell_type": "code",
   "execution_count": 43,
   "id": "560cf164-5d25-4691-998f-3afe2853b4ac",
   "metadata": {},
   "outputs": [],
   "source": [
    "def show_train_process(losses_train,losses_test,name):\n",
    "    losses_train = np.asarray(losses_train)\n",
    "    losses_test = np.asarray(losses_test)\n",
    "    # plt.plot(range(len(losses_train)),[v.cpu().detach().numpy() for v in losses_train])\n",
    "    plt.plot(range(len(losses_train)),losses_train)\n",
    "    plt.xlabel('iteration')\n",
    "    plt.ylabel('loss(mse)')\n",
    "    plt.title(f'loss curve in training for {name}')\n",
    "    plt.show()\n",
    "    # losses_train = np.array([v.detach().numpy() for v in losses_train])\n",
    "    # losses_test = np.array([v.detach().numpy() for v in losses_test])\n",
    "    print(losses_train.mean(),losses_train.max(),losses_train.min())\n",
    "    print(losses_test)"
   ]
  },
  {
   "cell_type": "code",
   "execution_count": 44,
   "id": "a300ec1d-8720-467a-b836-c3095b264878",
   "metadata": {
    "tags": []
   },
   "outputs": [
    {
     "name": "stdout",
     "output_type": "stream",
     "text": [
      "step:46/47 loss:646478.875\n",
      "(6091, 1) (6091, 1)\n",
      "Epoch 0: test RMSE 770.3845 test MAE 312.1544 R2 -0.1893\n",
      "step:46/47 loss:596117.875\n",
      "step:46/47 loss:351552.125\n",
      "step:46/47 loss:411422.8125\n",
      "step:46/47 loss:214709.65625\n",
      "step:46/47 loss:242057.71875\n",
      "(6091, 1) (6091, 1)\n",
      "Epoch 5: test RMSE 479.5629 test MAE 220.0910 R2 0.5391\n",
      "step:46/47 loss:164322.84375\n",
      "step:46/47 loss:297302.6875\n",
      "step:46/47 loss:204497.59375\n",
      "step:46/47 loss:289829.3125\n",
      "step:46/47 loss:75555.5859375\n",
      "(6091, 1) (6091, 1)\n",
      "Epoch 10: test RMSE 382.8653 test MAE 192.2777 R2 0.7062\n",
      "step:46/47 loss:156806.578125\n",
      "step:46/47 loss:45703.671875\n",
      "step:46/47 loss:46554.296875\n",
      "step:46/47 loss:37859.2578125\n",
      "step:46/47 loss:69648.4375\n",
      "(6091, 1) (6091, 1)\n",
      "Epoch 15: test RMSE 215.5557 test MAE 86.5951 R2 0.9069\n",
      "step:46/47 loss:38066.125\n",
      "step:46/47 loss:61381.19140625\n",
      "step:46/47 loss:9648.09375\n",
      "step:46/47 loss:67525.65625\n",
      "step:46/47 loss:39221.7265625\n",
      "(6091, 1) (6091, 1)\n",
      "Epoch 20: test RMSE 163.5232 test MAE 74.2951 R2 0.9464\n",
      "step:46/47 loss:14617.05859375\n",
      "step:46/47 loss:28175.955078125\n",
      "step:46/47 loss:44559.24609375\n",
      "step:46/47 loss:15781.0830078125\n",
      "step:46/47 loss:21736.84765625\n",
      "(6091, 1) (6091, 1)\n",
      "Epoch 25: test RMSE 103.4045 test MAE 46.9918 R2 0.9786\n",
      "step:46/47 loss:24861.009765625\n",
      "step:46/47 loss:6900.080078125\n",
      "step:46/47 loss:3208.2314453125\n",
      "step:46/47 loss:8340.38671875\n",
      "(6091, 1) (6091, 1)\n",
      "Epoch 29: test RMSE 98.8231 test MAE 41.2847 R2 0.9804\n"
     ]
    }
   ],
   "source": [
    "lr=5e-4\n",
    "bsz=512\n",
    "epochs=30\n",
    "hidden_dim,num_layers,in_features=64,4,7\n",
    "model1,(losses_train_1,losses_test_1) = train_model(train_df,test_df,lr=lr,bsz=bsz,epochs=epochs,\n",
    "                                                   hidden_dim=hidden_dim,num_layers=num_layers,in_features=in_features,\n",
    "                                                   model_type='lstm')"
   ]
  },
  {
   "cell_type": "code",
   "execution_count": 45,
   "id": "1aefa463-5255-484c-8fa4-7b98d8de1db5",
   "metadata": {},
   "outputs": [
    {
     "data": {
      "image/png": "[encoded data removed]",
      "text/plain": [
       "<Figure size 432x288 with 1 Axes>"
      ]
     },
     "metadata": {
      "needs_background": "light"
     },
     "output_type": "display_data"
    },
    {
     "name": "stdout",
     "output_type": "stream",
     "text": [
      "152975.0 989611.0 3179.8481\n",
      "[3565911.5   1377533.8    881082.94   278528.2    160182.52    64690.133\n",
      "   58604.438]\n"
     ]
    }
   ],
   "source": [
    "show_train_process(losses_train_1,losses_test_1,'dataset 1 with lstm')"
   ]
  },
  {
   "cell_type": "code",
   "execution_count": 20,
   "id": "ea425fe5-c6a0-4fb3-a3dd-5d52c7fe2eb2",
   "metadata": {},
   "outputs": [
    {
     "name": "stdout",
     "output_type": "stream",
     "text": [
      "with out scaler\n",
      "(24362, 10) (6091, 10)\n",
      "(6091, 1) (6091, 1)\n",
      "Epoch 0: test RMSE 781.7126 test MAE 304.6148 R2 -0.1759\n",
      "(6091, 1) (6091, 1)\n",
      "Epoch 5: test RMSE 431.3487 test MAE 172.0335 R2 0.6420\n",
      "(6091, 1) (6091, 1)\n",
      "Epoch 10: test RMSE 297.0891 test MAE 130.6597 R2 0.8302\n",
      "(6091, 1) (6091, 1)\n",
      "Epoch 15: test RMSE 245.1504 test MAE 99.3527 R2 0.8843\n",
      "(6091, 1) (6091, 1)\n",
      "Epoch 20: test RMSE 217.4149 test MAE 105.2722 R2 0.9090\n",
      "(6091, 1) (6091, 1)\n",
      "Epoch 25: test RMSE 255.3044 test MAE 125.0607 R2 0.8746\n",
      "(6091, 1) (6091, 1)\n",
      "Epoch 29: test RMSE 196.7025 test MAE 97.8795 R2 0.9255\n"
     ]
    }
   ],
   "source": [
    "print('with out scaler')\n",
    "X1_wo = scale_numerical_cols(d1,method='')\n",
    "train_df,test_df = get_train_test_split(X1_wo)\n",
    "model1,(losses_train_1,losses_test_1) = train_model(train_df,test_df,lr=lr,bsz=bsz,epochs=epochs,\n",
    "                                                   hidden_dim=hidden_dim,num_layers=num_layers,in_features=in_features)"
   ]
  },
  {
   "cell_type": "code",
   "execution_count": 50,
   "id": "584e9ae7-da78-44cc-9aeb-df47a956abd4",
   "metadata": {},
   "outputs": [
    {
     "name": "stdout",
     "output_type": "stream",
     "text": [
      "using CNN\n",
      "step:46/47 loss:416164.0625\n",
      "(6091, 1) (6091, 1)\n",
      "Epoch 0: test RMSE 523.0601 test MAE 248.2567 R2 0.4517\n",
      "step:46/47 loss:331290.1875\n",
      "step:46/47 loss:132439.015625\n",
      "step:46/47 loss:232953.09375\n",
      "step:46/47 loss:47029.515625\n",
      "step:46/47 loss:42739.60546875\n",
      "(6091, 1) (6091, 1)\n",
      "Epoch 5: test RMSE 247.4417 test MAE 122.6850 R2 0.8773\n",
      "step:46/47 loss:118679.703125\n",
      "step:46/47 loss:111973.359375\n",
      "step:46/47 loss:104594.1015625\n",
      "step:46/47 loss:44801.3828125\n",
      "step:46/47 loss:130284.0625\n",
      "(6091, 1) (6091, 1)\n",
      "Epoch 10: test RMSE 270.3530 test MAE 115.7196 R2 0.8535\n",
      "step:46/47 loss:62745.34375\n",
      "step:46/47 loss:27945.87109375\n",
      "step:46/47 loss:25679.4453125\n",
      "step:46/47 loss:49384.70703125\n",
      "step:46/47 loss:23344.82421875\n",
      "(6091, 1) (6091, 1)\n",
      "Epoch 15: test RMSE 197.1670 test MAE 91.7826 R2 0.9221\n",
      "step:46/47 loss:114942.09375\n",
      "step:46/47 loss:61885.296875\n",
      "step:46/47 loss:57260.4140625\n",
      "step:46/47 loss:81869.9296875\n",
      "step:46/47 loss:52866.6875\n",
      "(6091, 1) (6091, 1)\n",
      "Epoch 20: test RMSE 212.9266 test MAE 107.2596 R2 0.9091\n",
      "step:46/47 loss:73822.3984375\n",
      "step:46/47 loss:63589.10546875\n",
      "step:46/47 loss:25010.23046875\n",
      "step:46/47 loss:93246.203125\n",
      "step:46/47 loss:34218.921875\n",
      "(6091, 1) (6091, 1)\n",
      "Epoch 25: test RMSE 184.1462 test MAE 91.5116 R2 0.9320\n",
      "step:46/47 loss:129637.515625\n",
      "step:46/47 loss:35797.63671875\n",
      "step:46/47 loss:72322.875\n",
      "step:46/47 loss:58423.0078125\n",
      "(6091, 1) (6091, 1)\n",
      "Epoch 29: test RMSE 191.9067 test MAE 85.6204 R2 0.9262\n"
     ]
    }
   ],
   "source": [
    "print('using CNN')\n",
    "model1,(losses_train_cnn_1,losses_test_cnn_1) = train_model(train_df,test_df,lr=lr,bsz=bsz,epochs=epochs,\n",
    "                                                   hidden_dim=hidden_dim,num_layers=num_layers,in_features=in_features,\n",
    "                                                   model_type='cnn')"
   ]
  },
  {
   "cell_type": "code",
   "execution_count": 110,
   "id": "03a7802c-43ab-4930-9671-6f3e1fc7217a",
   "metadata": {},
   "outputs": [
    {
     "data": {
      "image/png": "[encoded data removed]",
      "text/plain": [
       "<Figure size 432x288 with 1 Axes>"
      ]
     },
     "metadata": {
      "needs_background": "light"
     },
     "output_type": "display_data"
    },
    {
     "name": "stdout",
     "output_type": "stream",
     "text": [
      "88475.62 1078118.5 10229.026\n",
      "[1639298.1   368734.1   438850.56  233726.06  271294.44  203782.47\n",
      "  219962.9 ]\n"
     ]
    }
   ],
   "source": [
    "show_train_process(losses_train_cnn_1,losses_test_cnn_1,'dataset 1 with cnn')"
   ]
  },
  {
   "cell_type": "code",
   "execution_count": 104,
   "id": "fd644773-6d86-4c1b-be10-ec838928c119",
   "metadata": {},
   "outputs": [
    {
     "name": "stdout",
     "output_type": "stream",
     "text": [
      "using DNN\n",
      "step:46/47 loss:776294.75\n",
      "(6091, 1) (6091, 1)\n",
      "Epoch 0: test RMSE 774.7316 test MAE 324.4271 R2 -0.2028\n",
      "step:46/47 loss:636847.0\n",
      "step:46/47 loss:579557.75\n",
      "step:46/47 loss:312876.90625\n",
      "step:46/47 loss:362565.0625\n",
      "step:46/47 loss:412367.75\n",
      "(6091, 1) (6091, 1)\n",
      "Epoch 5: test RMSE 638.7837 test MAE 284.1178 R2 0.1823\n",
      "step:46/47 loss:570501.375\n",
      "step:46/47 loss:378084.59375\n",
      "step:46/47 loss:291874.375\n",
      "step:46/47 loss:528230.4375\n",
      "step:46/47 loss:390247.125\n",
      "(6091, 1) (6091, 1)\n",
      "Epoch 10: test RMSE 637.3757 test MAE 294.8913 R2 0.1859\n",
      "step:46/47 loss:471026.15625\n",
      "step:46/47 loss:281309.125\n",
      "step:46/47 loss:440601.15625\n",
      "step:46/47 loss:329593.25\n",
      "step:46/47 loss:601798.75\n",
      "(6091, 1) (6091, 1)\n",
      "Epoch 15: test RMSE 635.9211 test MAE 293.9981 R2 0.1896\n",
      "step:46/47 loss:239660.40625\n",
      "step:46/47 loss:383491.625\n",
      "step:46/47 loss:637693.4375\n",
      "step:46/47 loss:479855.21875\n",
      "step:46/47 loss:189833.125\n",
      "(6091, 1) (6091, 1)\n",
      "Epoch 20: test RMSE 634.3421 test MAE 295.5846 R2 0.1936\n",
      "step:46/47 loss:405227.0625\n",
      "step:46/47 loss:371343.0\n",
      "step:46/47 loss:659892.5\n",
      "step:46/47 loss:343963.6875\n",
      "step:46/47 loss:564321.4375\n",
      "(6091, 1) (6091, 1)\n",
      "Epoch 25: test RMSE 632.4747 test MAE 295.6346 R2 0.1984\n",
      "step:46/47 loss:504793.125\n",
      "step:46/47 loss:464959.78125\n",
      "step:46/47 loss:618654.9375\n",
      "step:46/47 loss:286577.03125\n",
      "(6091, 1) (6091, 1)\n",
      "Epoch 29: test RMSE 631.6010 test MAE 301.1552 R2 0.2006\n"
     ]
    }
   ],
   "source": [
    "print('using DNN')\n",
    "model1,(losses_train_dnn_1,losses_test_dnn_1) = train_model(train_df,test_df,lr=lr,bsz=bsz,epochs=epochs,\n",
    "                                                   hidden_dim=hidden_dim,num_layers=num_layers,in_features=in_features,\n",
    "                                                   model_type='dnn')"
   ]
  },
  {
   "cell_type": "code",
   "execution_count": 109,
   "id": "31685802-14f9-46a4-a6cc-4710330fb852",
   "metadata": {},
   "outputs": [
    {
     "data": {
      "image/png": "[encoded data removed]",
      "text/plain": [
       "<Figure size 432x288 with 1 Axes>"
      ]
     },
     "metadata": {
      "needs_background": "light"
     },
     "output_type": "display_data"
    },
    {
     "name": "stdout",
     "output_type": "stream",
     "text": [
      "447403.12 999930.06 160253.06\n",
      "[3594473.8 2450212.8 2439797.  2430184.5 2418265.2 2391561.  2389659.5]\n"
     ]
    }
   ],
   "source": [
    "show_train_process(losses_train_dnn_1,losses_test_dnn_1,'dataset 1 with dnn')"
   ]
  },
  {
   "cell_type": "code",
   "execution_count": null,
   "id": "8f59ddf7-8827-435e-9c72-781544f72222",
   "metadata": {
    "tags": []
   },
   "outputs": [],
   "source": [
    "# train_df_2,test_df_2 = get_train_test_split(X2)"
   ]
  },
  {
   "cell_type": "code",
   "execution_count": 46,
   "id": "2ad2515e-c429-4965-a21d-49b6c42fa6f1",
   "metadata": {
    "tags": []
   },
   "outputs": [
    {
     "name": "stdout",
     "output_type": "stream",
     "text": [
      "step:126/127 loss:360903.4375\n",
      "(16351, 1) (16351, 1)\n",
      "Epoch 0: test RMSE 700.1442 test MAE 292.2617 R2 0.2169\n",
      "step:126/127 loss:505505.09375\n",
      "step:126/127 loss:1026268.125\n",
      "step:126/127 loss:281823.5\n",
      "step:126/127 loss:196444.28125\n",
      "step:126/127 loss:764432.0625\n",
      "(16351, 1) (16351, 1)\n",
      "Epoch 5: test RMSE 536.2890 test MAE 190.2272 R2 0.5406\n",
      "step:126/127 loss:507632.75\n",
      "step:126/127 loss:237680.625\n",
      "step:126/127 loss:763137.875\n",
      "step:126/127 loss:833836.875\n",
      "step:126/127 loss:48327.3359375\n",
      "(16351, 1) (16351, 1)\n",
      "Epoch 10: test RMSE 358.5669 test MAE 131.4452 R2 0.7946\n",
      "step:126/127 loss:75927.375\n",
      "step:126/127 loss:29513.3515625\n",
      "step:126/127 loss:41945.4765625\n",
      "step:126/127 loss:212366.09375\n",
      "step:126/127 loss:25561.556640625\n",
      "(16351, 1) (16351, 1)\n",
      "Epoch 15: test RMSE 257.5129 test MAE 89.3102 R2 0.8941\n",
      "step:126/127 loss:65308.171875\n",
      "step:126/127 loss:79725.71875\n",
      "step:126/127 loss:116581.046875\n",
      "step:126/127 loss:42063.65625\n",
      "step:126/127 loss:55724.7421875\n",
      "(16351, 1) (16351, 1)\n",
      "Epoch 20: test RMSE 276.9724 test MAE 84.4128 R2 0.8775\n",
      "step:126/127 loss:38075.62890625\n",
      "step:126/127 loss:48417.421875\n",
      "step:126/127 loss:108304.859375\n",
      "step:126/127 loss:47309.40625\n",
      "step:126/127 loss:462594.15625\n",
      "(16351, 1) (16351, 1)\n",
      "Epoch 25: test RMSE 192.0834 test MAE 65.0374 R2 0.9411\n",
      "step:126/127 loss:17326.3828125\n",
      "step:126/127 loss:215284.875\n",
      "step:126/127 loss:69917.125\n",
      "step:126/127 loss:5711.5869140625\n",
      "(16351, 1) (16351, 1)\n",
      "Epoch 29: test RMSE 203.6040 test MAE 56.5339 R2 0.9338\n"
     ]
    }
   ],
   "source": [
    "lr=1e-3\n",
    "bsz=512\n",
    "epochs=30\n",
    "hidden_dim,num_layers,in_features=64,4,7\n",
    "model2,(losses_train_2,losses_test_2) = train_model(train_df_2,test_df_2,\n",
    "                                        lr=lr,bsz=bsz,epochs=epochs,\n",
    "                                        hidden_dim=hidden_dim,num_layers=num_layers,in_features=in_features)"
   ]
  },
  {
   "cell_type": "code",
   "execution_count": 47,
   "id": "ad17a292-580d-472b-88a0-184882918ff0",
   "metadata": {},
   "outputs": [
    {
     "data": {
      "image/png": "[encoded data removed]",
      "text/plain": [
       "<Figure size 432x288 with 1 Axes>"
      ]
     },
     "metadata": {
      "needs_background": "light"
     },
     "output_type": "display_data"
    },
    {
     "name": "stdout",
     "output_type": "stream",
     "text": [
      "229057.98 4045436.8 5424.3223\n",
      "[7848070.  4595975.  2055227.9 1059733.2 1226877.2  594673.3  664016.1]\n"
     ]
    }
   ],
   "source": [
    "show_train_process(losses_train_2,losses_test_2,'dataset 2 with lstm')"
   ]
  },
  {
   "cell_type": "code",
   "execution_count": 48,
   "id": "801f61ec-15b8-48e6-a37f-ef8b95de8f60",
   "metadata": {},
   "outputs": [
    {
     "name": "stdout",
     "output_type": "stream",
     "text": [
      "for merged dataset\n",
      "(89764, 10) (22442, 10)\n",
      "(89764, 10) (22442, 10)\n",
      "step:174/175 loss:262089.15625\n",
      "(22442, 1) (22442, 1)\n",
      "Epoch 0: test RMSE 753.2686 test MAE 281.8441 R2 0.2150\n",
      "step:174/175 loss:391469.28125\n",
      "step:174/175 loss:255294.8125\n",
      "step:174/175 loss:328585.1875\n",
      "step:174/175 loss:146996.3125\n",
      "step:174/175 loss:186954.21875\n",
      "(22442, 1) (22442, 1)\n",
      "Epoch 5: test RMSE 643.4390 test MAE 264.9435 R2 0.4272\n",
      "step:174/175 loss:234058.546875\n",
      "step:174/175 loss:708636.125\n",
      "step:174/175 loss:142951.25\n",
      "step:174/175 loss:376382.1875\n",
      "step:174/175 loss:1446927.0\n",
      "(22442, 1) (22442, 1)\n",
      "Epoch 10: test RMSE 653.8599 test MAE 238.3160 R2 0.4085\n",
      "step:174/175 loss:286580.03125\n",
      "step:174/175 loss:210596.21875\n",
      "step:174/175 loss:424323.71875\n",
      "step:174/175 loss:299969.6875\n",
      "step:174/175 loss:375324.40625\n",
      "(22442, 1) (22442, 1)\n",
      "Epoch 15: test RMSE 639.6487 test MAE 251.9269 R2 0.4339\n",
      "step:174/175 loss:210766.96875\n",
      "step:174/175 loss:227508.0\n",
      "step:174/175 loss:120524.9375\n",
      "step:174/175 loss:193254.265625\n",
      "step:174/175 loss:73279.25\n",
      "(22442, 1) (22442, 1)\n",
      "Epoch 20: test RMSE 559.6133 test MAE 163.6239 R2 0.5667\n",
      "step:174/175 loss:265837.6875\n",
      "step:174/175 loss:64965.4375\n",
      "step:174/175 loss:478174.3125\n",
      "step:174/175 loss:49792.1171875\n",
      "step:174/175 loss:71945.96875\n",
      "(22442, 1) (22442, 1)\n",
      "Epoch 25: test RMSE 475.2755 test MAE 131.6046 R2 0.6875\n",
      "step:174/175 loss:77433.59375\n",
      "step:174/175 loss:264278.125\n",
      "step:174/175 loss:113372.53125\n",
      "step:174/175 loss:90225.234375\n",
      "(22442, 1) (22442, 1)\n",
      "Epoch 29: test RMSE 470.5962 test MAE 130.7320 R2 0.6936\n"
     ]
    }
   ],
   "source": [
    "print('for merged dataset')\n",
    "X3 = scale_numerical_cols(d3)\n",
    "train_df_3,test_df_3 = get_train_test_split(X3)\n",
    "print(train_df_3.shape,test_df_3.shape)\n",
    "lr=1e-3\n",
    "bsz=512\n",
    "epochs=30\n",
    "hidden_dim,num_layers,in_features=64,4,7\n",
    "model3,(losses_train_3,losses_test_3) = train_model(train_df_3,test_df_3,\n",
    "                                        lr=lr,bsz=bsz,epochs=epochs,\n",
    "                                        hidden_dim=hidden_dim,num_layers=num_layers,in_features=in_features)"
   ]
  },
  {
   "cell_type": "code",
   "execution_count": 49,
   "id": "0c5654c6-8aee-42f0-b09f-485a5d600697",
   "metadata": {},
   "outputs": [
    {
     "data": {
      "image/png": "[encoded data removed]",
      "text/plain": [
       "<Figure size 432x288 with 1 Axes>"
      ]
     },
     "metadata": {
      "needs_background": "light"
     },
     "output_type": "display_data"
    },
    {
     "name": "stdout",
     "output_type": "stream",
     "text": [
      "336803.94 3958346.5 27904.637\n",
      "[12480629.   9112527.   9450783.   8992946.   6890051.5  4960741.\n",
      "  4952419. ]\n"
     ]
    }
   ],
   "source": [
    "show_train_process(losses_train_3,losses_test_3,'merged dataset with lstm')"
   ]
  },
  {
   "cell_type": "markdown",
   "id": "52ee5994-be5e-458f-841a-399945132c72",
   "metadata": {},
   "source": [
    "## 2.3 DNN Models Structure"
   ]
  },
  {
   "cell_type": "code",
   "execution_count": 100,
   "id": "96b3189d-0b4f-421a-9f99-a129cf2cac5a",
   "metadata": {},
   "outputs": [],
   "source": [
    "lstm_model = LSTMModel(hidden_dim=64,num_layers=2,in_features=7)\n",
    "cnn_model = CNNModel(hidden_dim=64,in_features=7)\n",
    "dnn_model = DNNModel(hidden_dim=64,in_features=7)"
   ]
  },
  {
   "cell_type": "code",
   "execution_count": 85,
   "id": "7f97fa77-3e1f-4924-b012-3cb7a4d0642e",
   "metadata": {},
   "outputs": [
    {
     "name": "stdout",
     "output_type": "stream",
     "text": [
      "Looking in indexes: https://pypi.tuna.tsinghua.edu.cn/simple\n",
      "Requirement already satisfied: torchinfo in /home/gemengmeng/anaconda3/lib/python3.8/site-packages (1.8.0)\n"
     ]
    }
   ],
   "source": [
    "! pip install torchinfo\n",
    "from torchinfo import summary"
   ]
  },
  {
   "cell_type": "code",
   "execution_count": 101,
   "id": "ca14f5fb-2bb9-4ec2-9ea5-5848741db31b",
   "metadata": {},
   "outputs": [
    {
     "data": {
      "text/plain": [
       "==========================================================================================\n",
       "Layer (type:depth-idx)                   Output Shape              Param #\n",
       "==========================================================================================\n",
       "LSTMModel                                [1, 1]                    --\n",
       "├─LSTM: 1-1                              [1, 16, 64]               50,688\n",
       "├─Linear: 1-2                            [1, 32]                   256\n",
       "├─Linear: 1-3                            [1, 128]                  12,416\n",
       "├─Linear: 1-4                            [1, 64]                   8,256\n",
       "├─Linear: 1-5                            [1, 1]                    65\n",
       "==========================================================================================\n",
       "Total params: 71,681\n",
       "Trainable params: 71,681\n",
       "Non-trainable params: 0\n",
       "Total mult-adds (M): 0.83\n",
       "==========================================================================================\n",
       "Input size (MB): 0.00\n",
       "Forward/backward pass size (MB): 0.01\n",
       "Params size (MB): 0.29\n",
       "Estimated Total Size (MB): 0.30\n",
       "=========================================================================================="
      ]
     },
     "execution_count": 101,
     "metadata": {},
     "output_type": "execute_result"
    }
   ],
   "source": [
    "summary(lstm_model,input_data=[torch.ones((1,7),dtype=torch.float32),torch.ones((1,16,2),dtype=torch.float32)])"
   ]
  },
  {
   "cell_type": "code",
   "execution_count": 102,
   "id": "3bdfb756-6c81-4183-bbd5-73c622b3c8d7",
   "metadata": {},
   "outputs": [
    {
     "data": {
      "text/plain": [
       "==========================================================================================\n",
       "Layer (type:depth-idx)                   Output Shape              Param #\n",
       "==========================================================================================\n",
       "CNNModel                                 [1, 1]                    --\n",
       "├─Conv1d: 1-1                            [1, 64, 15]               320\n",
       "├─MaxPool1d: 1-2                         [1, 64, 7]                --\n",
       "├─Conv1d: 1-3                            [1, 64, 6]                8,256\n",
       "├─MaxPool1d: 1-4                         [1, 64, 3]                --\n",
       "├─Linear: 1-5                            [1, 32]                   256\n",
       "├─Linear: 1-6                            [1, 128]                  12,416\n",
       "├─Linear: 1-7                            [1, 64]                   8,256\n",
       "├─Linear: 1-8                            [1, 1]                    65\n",
       "==========================================================================================\n",
       "Total params: 29,569\n",
       "Trainable params: 29,569\n",
       "Non-trainable params: 0\n",
       "Total mult-adds (M): 0.08\n",
       "==========================================================================================\n",
       "Input size (MB): 0.00\n",
       "Forward/backward pass size (MB): 0.01\n",
       "Params size (MB): 0.12\n",
       "Estimated Total Size (MB): 0.13\n",
       "=========================================================================================="
      ]
     },
     "execution_count": 102,
     "metadata": {},
     "output_type": "execute_result"
    }
   ],
   "source": [
    "summary(cnn_model,input_data=[torch.ones((1,7),dtype=torch.float32),torch.ones((1,16,2),dtype=torch.float32)])"
   ]
  },
  {
   "cell_type": "code",
   "execution_count": 103,
   "id": "07a8c451-0c59-4ea3-bb99-d26a93d68cc3",
   "metadata": {},
   "outputs": [
    {
     "data": {
      "text/plain": [
       "==========================================================================================\n",
       "Layer (type:depth-idx)                   Output Shape              Param #\n",
       "==========================================================================================\n",
       "DNNModel                                 [1, 1]                    --\n",
       "├─Linear: 1-1                            [1, 64]                   512\n",
       "├─Linear: 1-2                            [1, 128]                  8,320\n",
       "├─Linear: 1-3                            [1, 64]                   8,256\n",
       "├─Linear: 1-4                            [1, 1]                    65\n",
       "==========================================================================================\n",
       "Total params: 17,153\n",
       "Trainable params: 17,153\n",
       "Non-trainable params: 0\n",
       "Total mult-adds (M): 0.02\n",
       "==========================================================================================\n",
       "Input size (MB): 0.00\n",
       "Forward/backward pass size (MB): 0.00\n",
       "Params size (MB): 0.07\n",
       "Estimated Total Size (MB): 0.07\n",
       "=========================================================================================="
      ]
     },
     "execution_count": 103,
     "metadata": {},
     "output_type": "execute_result"
    }
   ],
   "source": [
    "summary(dnn_model,input_data=[torch.ones((1,7),dtype=torch.float32),torch.ones((1,16,2),dtype=torch.float32)])"
   ]
  }
 ],
 "metadata": {
  "kernelspec": {
   "display_name": "Python 3",
   "language": "python",
   "name": "python3"
  },
  "language_info": {
   "codemirror_mode": {
    "name": "ipython",
    "version": 3
   },
   "file_extension": ".py",
   "mimetype": "text/x-python",
   "name": "python",
   "nbconvert_exporter": "python",
   "pygments_lexer": "ipython3",
   "version": "3.8.3"
  }
 },
 "nbformat": 4,
 "nbformat_minor": 5
}
