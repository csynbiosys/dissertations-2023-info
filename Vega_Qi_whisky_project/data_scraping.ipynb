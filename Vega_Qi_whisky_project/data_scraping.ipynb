{
 "cells": [
  {
   "cell_type": "markdown",
   "id": "fa7ad1ff-9586-49b7-a9b4-3c5a576db9e6",
   "metadata": {},
   "source": [
    "# 1. Data Scraping"
   ]
  },
  {
   "cell_type": "markdown",
   "id": "95526fbf-d6ba-4cec-8623-ef190adbbaa2",
   "metadata": {},
   "source": [
    "## 1.1 Scraping Dataset No.1 \n",
    "> https://www.scotchwhiskyauctions.com/\n",
    "\n",
    "> with Multi-process and Multi-thread\n",
    "```python\n",
    "python3 crawl_auction.py --run crawl --st 0 --ed 10 &\n",
    "python3 crawl_auction.py --run crawl --st 140 --ed 150 &\n",
    "```"
   ]
  },
  {
   "cell_type": "code",
   "execution_count": null,
   "id": "90124958-ddbe-4347-975f-25dce29c79d2",
   "metadata": {},
   "outputs": [],
   "source": [
    "import requests\n",
    "from bs4 import BeautifulSoup\n",
    "import csv\n",
    "import os\n",
    "import json \n",
    "import threading \n",
    "import pandas as pd \n",
    "from multiprocessing.pool import ThreadPool\n",
    "import argparse\n",
    "import numpy as np \n",
    "# Define the base URL\n",
    "BASE_URL = 'https://www.scotchwhiskyauctions.com/'\n",
    "FILTER_WORD = ['Error 502','Bad Gateway']\n",
    "KEYS = ['distillery','strength','his_bid_prices','his_bid_times','name','url','auction']\n",
    "parsed_keys = {'bottle no', 'causeway collection', 'bottle number', 'distiled', 'edition', 'committee release', 'secret distillery #1batch', 'barrel', 'blended', 'ck', 'td-s', 'cask', 'travel exclusive edition', 'farm', 'no', 'easter elchies', 'batch', 'fine oak', 'cask strength', 'creation of a classic', 'rare cask', 'cask toast level', 'recasked', 'edition no', 'catch type', 'appleton', 'single barrel bottle number', 'dumped', 'serial number', \"founder's reserve\", 'batch number', 'classic cut', 'release number', 'kit number', 'punch bowl', 'barrel number', 'barley type', 'dalbeallie dram no', 'moved to sherry casks', 'bottlled', 'barreled', 'kylver release', 'pact', 'renaissance series no', 'distilled', 'certificate number', 'lot no', 'selection', 'concept no', 'compendium', 'artist no', 'bottled number', 'the renaissance', \"master blender's edition\", 'the home collection', 'distillery', 'botted', 'small batch', 'harmony collection', '18 year old', \"balvenie founder's reserve\", 'set number', 'lalique', 'trilogy part', 'the harmony collection', 'no corners to hide', 'cask numbers', 'cask selection', 'please note', 'cask no', 'lot number', 'released', 'edition series', 'feis 2021 release', 'bottles number', 'white stag', \"whiskymaker's reserve no\", 'cask number', 'cask type', 'home collection', 'single barrel', 'the boutique collection', 'age', 'batch no', 'warehouse', 'casktype', 'barrelled', 'quest collection', 'balvenie doublewood', 'traigh bhan', 'in cask date', 'chichibu', 'bottle numbers', 'tree number', 'winning bid', 'warehouse number', 'selection number', 'bottled', 'mc', 'doublewood', 'dream cask', 'grape', 'botttled', 'solar sytem'}\n",
    "KEYS = set(KEYS) | parsed_keys\n",
    "# print(len(KEYS))\n",
    "fix_keys = ['bidinfo won','lotno']\n",
    "RUN_MODE = 'crawl'\n",
    "\n",
    "# {'daftmill', 'dumbarton', 'allt-a-bhainne', 'annandale', 'hanyu', 'longmorn', 'braeval', 'st|magdalene', 'millburn', 'cardhu', 'kininvie', 'ladyburn', 'hakushu', 'yamazaki', 'north|port', 'glenglassaugh', 'miyashita|shuzo', 'glenallachie', 'glenrothes', 'glen|grant', 'glenlivet', 'laphroaig', 'macduff', 'ardnamurchan', 'cameronbridge', 'glasgow', 'blair|athol', 'tormore', 'glenfarclas', 'karuizawa', 'speyburn', 'ballindalloch', 'imperial', 'invergordon', 'glentauchers', 'balmenach', 'ailsa|bay*', 'tobermory', 'glenlochy', 'harris', 'north|of|scotland/strathmore', 'teaninich', 'springbank', 'glen|albyn', 'chichibu', 'bunnahabhain', 'linkwood', 'tullibardine', 'tomatin', 'cragganmore', 'port|ellen', 'north|british', 'scapa', 'glenlossie', 'strathclyde', 'dallas|dhu', 'ardbeg', 'eden|mill', 'white|oak', 'kilchoman', 'knockando', 'glen|elgin', 'lagavulin', 'aberfeldy', 'ardmore', 'lone|wolf', 'carsebridge', 'glendullan', 'dalwhinnie', 'oban', 'fuji|gotemba', 'convalmore', 'lochside', 'tamnavulin', 'dalmunach*', 'glenfiddich', 'miltonduff', 'pulteney', 'bladnoch', 'abhainn|dearg', 'balvenie', 'glen|flagler', 'girvan', 'inverleven', 'mortlach', 'clynelish', 'caledonian', 'yoichi', 'glenury|royal', 'bowmore', 'ben|nevis', 'glen|spey', 'tamdhu', 'torabhaig', 'caol|ila', 'deanston', 'garnheath/moffat', 'strathisla', 'inchdairnie', 'strathearn', 'wolfburn', 'starlaw', 'isle|of|jura', 'inchgower', 'glencadam', 'dailuaine', 'banff', 'fettercairn', 'glen|scotia', 'benrinnes', 'glen|garioch', 'coleburn', 'auchentoshan', 'mannochmore', 'speyside', 'glenesk', 'benromach', 'glen|moray', 'glen|ord', 'auchroisk', 'glendronach', 'glenkinchie', 'aberlour', 'kinclaith', 'edradour', 'bruichladdich', 'arbikie', 'glengyle', 'strathmill', 'glen|keith', 'talisker', 'arran', 'glengoyne', 'littlemill', 'macallan', 'dornoch', 'dufftown', 'glenburgie', 'miyagikyo', 'tomintoul', 'knockdhu', 'highland|park', 'glenmorangie', 'loch|lomond', 'glenugie', 'glenturret', 'dalmore', 'balblair', 'cambus', 'port|dundas', 'rosebank', 'kingsbarns', 'benriach', 'shinshu', 'caperdonich', 'glen|mhor', 'pittyvaich', 'roseisle*', 'aultmore', 'royal|brackla', 'royal|lochnagar', 'brora', 'craigellachie'}\n",
    "\n",
    "# Define function to get auction details\n",
    "def get_detailed_pages(base_url:str):\n",
    "    url = base_url + 'auctions'\n",
    "    response = requests.get(url)\n",
    "    assert response.status_code == 200,'network error!'\n",
    "    \n",
    "    soup = BeautifulSoup(response.content, 'html.parser')\n",
    "    items = soup.find_all('div', class_=\"auctions\")[0]\n",
    "    pages = [base_url + item['href'] for item in items.find_all('a',class_='auction')]\n",
    "    return pages\n",
    "\n",
    "def get_sub_pages(auction_url:str):\n",
    "    if not auction_url.endswith('/'): \n",
    "        auction_url+='/'\n",
    "    response = requests.get(auction_url)\n",
    "    if response.status_code != 200:\n",
    "        return []\n",
    "    soup = BeautifulSoup(response.content, 'html.parser')\n",
    "    options = soup.find_all('select',{'id':'choosepage'})[0].find_all('option')\n",
    "    subpages = [auction_url + f'?mode=&page={option.text.split(\" \")[1]}' for option in options]\n",
    "    # subpages = sorted(subpages)\n",
    "    return subpages\n",
    "\n",
    "def get_object_pages(sub_page:str):\n",
    "    response = requests.get(sub_page)\n",
    "    if response.status_code != 200:\n",
    "        return []\n",
    "    soup = BeautifulSoup(response.content, 'html.parser')\n",
    "    res = soup.find_all('div',{'id':'lots'})[0].find_all('a',class_='lot')\n",
    "    return [BASE_URL+aval['href'] for aval in res]\n",
    "\n",
    "def parse_obj(object_page:str):\n",
    "    info = {}\n",
    "    response = requests.get(object_page)\n",
    "    if response.status_code != 200:\n",
    "        return None\n",
    "    soup = BeautifulSoup(response.content, 'html.parser')\n",
    "    info['url'] = object_page\n",
    "    info['name'] = soup.select('#contentstart > h1')[0].text\n",
    "    lotinfo = soup.find_all('div',class_='lotinfo')[0]\n",
    "    for pval in lotinfo.find_all('p')[:2]:\n",
    "        if pval.has_attr('class'):\n",
    "            info[' '.join(pval['class'])] = pval.text \n",
    "    info['details'] = [v.text for v in lotinfo.find('div',class_='descr').find_all('p')] \n",
    "    if len(soup.find_all('div',class_='chartwrap'))!=0:\n",
    "        info['his_bid_times'] = soup.find('input',{'id':'chartx'})['value']\n",
    "        info['his_bid_prices'] = soup.find('input',{'id':'charty'})['value']\n",
    "        # print(info)\n",
    "        # exit(0)\n",
    "    else:\n",
    "        info['his_bid_times'] = []\n",
    "        info['his_bid_prices'] = []\n",
    "    \n",
    "    return info \n",
    "\n",
    "\n",
    "\n",
    "def parse_json_info(data_dir,dist_names):\n",
    "    print('start parsing',data_dir)\n",
    "    file_path = os.path.join('data',f'auctions_{data_dir.split(\"-\")[0].split(\"/\")[-1]}.csv')\n",
    "    if os.path.isfile(file_path):\n",
    "        print('has existed for',file_path)\n",
    "        return \n",
    "    all_res = []\n",
    "    for f in os.listdir(data_dir):\n",
    "        if not f.endswith('.json'): continue\n",
    "        org_lst = json.load(open(os.path.join(data_dir,f)))\n",
    "        for org in org_lst:\n",
    "            dd = {k: ([] if k=='details' else None) for k in KEYS}\n",
    "            dd['auction'] = org['url'].split('auctions/')[1].split('/')[0]\n",
    "            dd['url'] = org['url']\n",
    "            dd['name'] = org['name']\n",
    "            dd['his_bid_times'] = [float(v) for v in org['his_bid_times'].split(',')] if len(org['his_bid_times'])!=0 else []\n",
    "            dd['his_bid_prices'] = [float(v) for v in org['his_bid_prices'].split(',')] if len(org['his_bid_times'])!=0 else []\n",
    "            dd['url_id'] = int(dd['url'].split('/')[-2 if dd['url'][-1]=='/' else -1].split('-')[0])\n",
    "            assert len(dd['his_bid_prices']) == len(dd['his_bid_times'])\n",
    "            for k in fix_keys:\n",
    "                if k in org:\n",
    "                    if ': ' not in org[k]: continue \n",
    "                    dd[org[k].split(': ')[0]] = org[k].split(': ')[1].replace('\\u00a3','')\n",
    "            words = org['url'].split('-')\n",
    "            for det in org['details']:\n",
    "                if \": \" in det:\n",
    "                    kk = det.split(': ')[0].replace('\\n',' ').strip().lower()\n",
    "                    if kk in KEYS:\n",
    "                        dd[kk] = ': '.join(det.split(': ')[1:])\n",
    "                if '%' in det and 'cl' in det and '/' in det and len(det.split(' '))<20:\n",
    "                    dd['strength'] = det\n",
    "                if 'distillery' in det.lower() and len(det.split(' '))<20 and all([wd in words for wd in det.strip().lower().split()]):\n",
    "                    dd['distillery'] = det.strip().lower()                    \n",
    "                    # dd['details'].append(det)\n",
    "            for k,v in dd.items():\n",
    "                if v is str and any([wd in v for wd in FILTER_WORD]):\n",
    "                    dd[k] = None\n",
    "            all_res.append(dd)\n",
    "        # break \n",
    "    tmpdf = pd.DataFrame(all_res)\n",
    "    print(tmpdf.shape,len(all_res))\n",
    "    extract_distillery_from_name(tmpdf,dist_names)\n",
    "    tmpdf.to_csv(file_path,index=False)\n",
    "    print('finished parsing',file_path)\n",
    "\n",
    "def get_cand_cols(data_dir):\n",
    "    res = set()\n",
    "    for f in os.listdir(data_dir):\n",
    "        if not f.endswith('.json'): continue\n",
    "        org_lst = json.load(open(os.path.join(data_dir,f)))\n",
    "        for org in org_lst:\n",
    "            for k in fix_keys + ['details']:\n",
    "                if k not in org: continue \n",
    "                if k == 'details':\n",
    "                    for v in org[k]:\n",
    "                        if ': ' in v and len(v.split(' '))<20 and len(v.split(': ')[0].split(' '))<5:\n",
    "                            kk = v.split(': ')[0].replace('\\n',' ').strip().lower()\n",
    "                            if kk not in res:\n",
    "                                print(v)\n",
    "                            res.add(kk)\n",
    "                elif ': ' in org[k]:\n",
    "                    kk = org[k].split(': ')[0].lower()\n",
    "                    if kk not in res:\n",
    "                        print(org[k])\n",
    "                    res.add(kk)\n",
    "                    \n",
    "        # print(res)\n",
    "    return res \n",
    "\n",
    "def get_dist_names():\n",
    "\turl = 'https://whiskymate.net/the-distillery-list/'\n",
    "\tresponse = requests.get(url)\n",
    "\tassert response.status_code == 200,'network error!'\n",
    "\tsoup = BeautifulSoup(response.content, 'html.parser')\n",
    "\titems = soup.find_all('div', class_=\"entry-content\")[0].find_all('p')\n",
    "\tprint(len(items))\n",
    "\tnames = set()\n",
    "\tfor item in items:\n",
    "\t\ttxt = item.text\n",
    "\t\tif ') ' in txt and txt.split(') ')[0][0] in [str(i) for i in range(10)] and 'Name' not in txt:\n",
    "\t\t\tnames.add('|'.join(txt.split(' (')[0].split(') ')[-1].strip().replace('-',' ').lower().split(' ')))\n",
    "\t\telif 'Name: ' in txt and ') ' in txt:\n",
    "\t\t\tnames.add('|'.join(txt.split('Name: ')[-1].strip().replace('-',' ').lower().split(' ')))\n",
    "\tprint('collected names len is',len(names))\n",
    "\treturn names \n",
    "\n",
    "def extract_distillery_from_name(org_csv,dist_names):\n",
    "\t# org_csv = pd.read_csv(file_path)\n",
    "\torg_names = org_csv['name'] #[:100]\n",
    "\tres_dists = [None]*len(org_names)\n",
    "\tfor ii,name in enumerate(org_names):\n",
    "\t\twds = name.strip(' ').replace('-',' ').lower().split(' ')\n",
    "\t\tsuc = False \n",
    "\t\tfor i in range(len(wds)):\n",
    "\t\t\tfor dist in dist_names:\n",
    "\t\t\t\tif wds[i] == dist:\n",
    "\t\t\t\t\tres_dists[ii] = dist \n",
    "\t\t\t\t\tsuc = True \n",
    "\t\t\t\t\tbreak \n",
    "\t\t\t\telif wds[i] in dist:\n",
    "\t\t\t\t\tj = i+1\n",
    "\t\t\t\t\tnow_name = wds[i] \n",
    "\t\t\t\t\twhile j < len(wds):\n",
    "\t\t\t\t\t\tnow_name = '|'.join([now_name,wds[j]])\n",
    "\t\t\t\t\t\tif now_name != dist:\n",
    "\t\t\t\t\t\t\tsuc = False \n",
    "\t\t\t\t\t\t\tbreak \n",
    "\t\t\t\t\t\telif now_name == dist:\n",
    "\t\t\t\t\t\t\tres_dists[ii] = now_name\n",
    "\t\t\t\t\t\t\tsuc = True\n",
    "\t\t\t\t\t\t\tbreak \n",
    "\t\t\t\t\t\telse:\n",
    "\t\t\t\t\t\t\tcontinue\n",
    "\t\t\t\tif suc:\n",
    "\t\t\t\t\tbreak \n",
    "\t\t\tif suc: \n",
    "\t\t\t\tbreak \n",
    "\t\tif suc:\n",
    "\t\t\tassert res_dists[ii] is not None, name \n",
    "\textra_names = [org_names[i] for i in range(len(res_dists)) if res_dists[i] is None]\n",
    "\tprint(len(org_names),len([v for v in res_dists if v is not None]),len(extra_names),len(np.unique([v for v in res_dists if v is not None])))\n",
    "\t# print(res_dists,extra_names,sep='\\n')\n",
    "\torg_csv['extracted_distillery'] = res_dists\n",
    "\t# print(org_csv['extracted_distillery'])\n",
    "\t# org_csv.to_csv(file_path.split('.csv')[0]+'_v1'+'.csv')\n",
    "\treturn res_dists,extra_names\n",
    "\n",
    "\n",
    "\n",
    "NEED_DIRS = {90, 91, 92, 119, 120, 141, 142, 143, 144, 151}\n",
    "if __name__ == '__main__':\n",
    "    parser = argparse.ArgumentParser()\n",
    "    parser.add_argument('--run',choices=['crawl','parse','ex-name'])\n",
    "    parser.add_argument('--st',type=int)\n",
    "    parser.add_argument('--ed',type=int)\n",
    "    args = parser.parse_args()\n",
    "\n",
    "    if args.run == 'crawl':\n",
    "        pages = get_detailed_pages(BASE_URL)[args.st:args.ed]\n",
    "        # print(sorted([int(pg.split('-')[0].split('/')[-1]) for pg in pages]))\n",
    "        # exit(0)\n",
    "        print('the number of auctions are',len(pages),f'from {args.st} to {args.ed}')\n",
    "        data_dir = './data'\n",
    "        pool = ThreadPool(20)\n",
    "\n",
    "        for i,auction_page in enumerate(pages):\n",
    "            if NEED_DIRS is not None and int(auction_page.split('-')[0].split('/')[-1]) not in NEED_DIRS: continue\n",
    "            print(f'current auction page is {auction_page}, and progress is {i}:{len(pages)}')\n",
    "            subpages = get_sub_pages(auction_page)\n",
    "            print(f'the auction with {len(subpages)} subpages')\n",
    "            auction_name = auction_page.split('/')[-1] if not auction_page.endswith('/') else auction_page.split('/')[-2]\n",
    "            # if os.path.exists(os.path.join(data_dir,auction_name)): continue \n",
    "            os.makedirs(os.path.join(data_dir,auction_name),exist_ok=True)\n",
    "            for j,sub_page in enumerate(subpages):\n",
    "                fname = os.path.join(data_dir,auction_name,f'{j}.json')\n",
    "                print(fname)\n",
    "                if os.path.exists(fname): continue\n",
    "                # if j < args.st or j>= args.ed: continue\n",
    "                print(f'current sub page progress is {j}:{len(subpages)}')\n",
    "                object_pages = get_object_pages(sub_page)\n",
    "                print('object nums of cur page is',len(object_pages))\n",
    "                infos = [v for v in pool.map(parse_obj,object_pages) if v is not None]\n",
    "                json.dump(infos,open(fname,'w'),indent=4)\n",
    "                print('----------')\n",
    "            # break # only test one auction \n",
    "        pool.close()\n",
    "    elif args.run == 'parse':\n",
    "        # print(get_cand_cols('data/189-the-144th-auction/'))\n",
    "        dist_names = json.load(open('dist_names.json','r'))\n",
    "        dirnames = sorted([v for v in os.listdir('data') if (not v.startswith('.')) and (os.path.isdir(os.path.join('data',v)))])\n",
    "        print(dirnames)\n",
    "        for ii,dd in enumerate(dirnames):\n",
    "            if NEED_DIRS and (int(dd.split('-')[0]) not in NEED_DIRS): continue\n",
    "            if ii < args.st or ii >= args.ed: continue\n",
    "            parse_json_info(os.path.join('data',dd),dist_names)\n",
    "\n",
    "    elif args.run == 'ex-name':\n",
    "        dist_names = get_dist_names()\n",
    "        json.dump(list(dist_names),open('dist_names.json','w'))\n",
    "        dist_names = json.load(open('dist_names.json','r'))\n",
    "        print(len(dist_names))\n",
    "    \t# print(dist_names)\n",
    "        extract_distillery_from_name('data/189-the-144th-auction/auctions.csv',dist_names)"
   ]
  },
  {
   "cell_type": "markdown",
   "id": "4e10cd2c-1b84-4966-80c1-b4f8478a6baf",
   "metadata": {
    "tags": []
   },
   "source": [
    "## 1.2 Scraping Dataset No.2\n",
    "> https://whiskyauction.com/\n",
    "\n",
    "> with Multi-process and Multi-thread \n",
    "```python\n",
    "python3 crawl_auction.py --run crawl --st 0 --ed 10000 &\n",
    "python3 crawl_auction.py --run crawl --st 480000 --ed 490000 &\n",
    "```"
   ]
  },
  {
   "cell_type": "code",
   "execution_count": null,
   "id": "80e27df2-60f5-47b2-be4a-f6d75e80064e",
   "metadata": {},
   "outputs": [],
   "source": [
    "import requests\n",
    "from bs4 import BeautifulSoup\n",
    "import csv\n",
    "import os\n",
    "import json \n",
    "import threading \n",
    "import pandas as pd \n",
    "from multiprocessing.pool import ThreadPool\n",
    "import argparse\n",
    "import numpy as np\n",
    "# Define the base URL\n",
    "user_agent = {'User-agent': 'Mozilla/5.0 (Macintosh; Intel Mac OSX 10_15_7) AppleWebKit/537.36 (KHTML, like Gecko) Chrome/114.0.0.0Safari/537.36',\n",
    "              \"Cookie\":'SSESSada4ea5ba2305e4ea206db7f05c8d739=O6y%2C-o9cZhhu1jwNCEnbq%2COnBxCXzT6dXEimznjC6E4IUmwR; cookie-agreed-version=1.0.0; cookie-agreed=2'}\n",
    "total_num = 490000 # 492268后面都是空的  \n",
    "KEYS = ['hist_ids','hist_times','hist_prices','hist_codes'] + \\\n",
    "['condition description', 'series', 'ean', 'back label code', 'category', 'alcohol strength', 'packing type', 'addons', 'front label code', 'description', 'auction category', 'bottled for', 'handfilled date', 'age', 'bottom code', 'lot number', 'filling code', 'vp sort description', 'distillery', 'finishing', 'abnumber', 'maturing', 'importer', 'tax banderole code', 'bottler label', 'bottle number', 'distilled date', 'owner', 'name', 'filling level', 'bottled date', 'cask no.', 'content quantity', 'count of bottle', 'brandname', 'release number', 'bottle code', 'whisky type label']\n",
    "# print(len(KEYS))\n",
    "POOL_NUM = 20 \n",
    "DATA_DIR = 'data'\n",
    "step_len = 300\n",
    "\n",
    "def get_ids(i:int):\n",
    "    all_ids = []\n",
    "    r = requests.post('https://whiskyauction.com/wac/whiskyBrowserData', \n",
    "        data={'start':i,'length':step_len,'currentsort':'auction_prose','currentview':'table'},\n",
    "        headers=user_agent)\n",
    "    if r.status_code != 200:\n",
    "        print('error with',str(i))\n",
    "        return None \n",
    "    all_ids += [{'id':dd['id'],'legacy_id':dd['legacy_id'],'item_id':dd['item_id'],'legacy_item_name':dd['legacy_item_name']} for dd in json.loads(r.text)['data']]    \n",
    "    print('now processing for',i,len(all_ids))\n",
    "    return all_ids \n",
    "\n",
    "def get_all_ids():\n",
    "    pool = ThreadPool(POOL_NUM)\n",
    "    i_s = list(np.arange(0,total_num,step_len))\n",
    "    col_ids = [v for v in pool.map(get_ids,i_s) if v is not None]\n",
    "    all_ids = []\n",
    "    for ids in col_ids:\n",
    "        all_ids += ids \n",
    "    print('collected ids num is',len(all_ids))\n",
    "    pool.close()\n",
    "    json.dump(sorted(all_ids,key=lambda x:int(x['id'])),open('all_ids.json','w'))\n",
    "\n",
    "def parse_obj(id:str):\n",
    "    try:\n",
    "        r = requests.get(f'https://whiskyauction.com/item/{id}',headers=user_agent)\n",
    "    except Exception as e:\n",
    "        print(e)\n",
    "        return None \n",
    "    if r.status_code != 200: return None\n",
    "    soup = BeautifulSoup(r.content, 'html.parser')\n",
    "    aa = soup.find('table',class_='detailpage-detaildata')\n",
    "    data = {}\n",
    "    data['id'] = id \n",
    "    for tr in aa.find_all('tr'):\n",
    "        v = tr.find_all('td')\n",
    "        kk = v[0].text.strip().lower().replace(':','')\n",
    "        vv = v[1].text.strip().lower().replace('\\n','')\n",
    "        data[kk] = vv\n",
    "    try:\n",
    "        r = requests.get(f'https://whiskyauction.com/wac/rest/history/{id}?_format=json&action=bh',headers=user_agent)\n",
    "    except Exception as e:\n",
    "        print(e)\n",
    "        return None \n",
    "    if r.status_code != 200: return None \n",
    "    rr = json.loads(r.text)\n",
    "    hists = []\n",
    "    for v in rr['ResultObject']['BottleResults']:\n",
    "        val = {}\n",
    "        val['id'] = v['Id']\n",
    "        val['time'] = v['AuctionNumber']\n",
    "        val['price'] = v['Result']\n",
    "        # val['bottlecode'] = v['BottleCode']['BottleCode'] if 'BottleCode' in v else None\n",
    "        hists.append(val)\n",
    "    data['hist_ids'] = [v['id'] for v in hists]\n",
    "    data['hist_times'] = [v['time'] for v in hists]\n",
    "    data['hist_prices'] = [v['price'] for v in hists]\n",
    "    # data['hist_codes'] = [v['bottlecode'] for v in hists]\n",
    "    print('now processing finished for',id)\n",
    "    # data['history'] = hists\n",
    "    return data \n",
    "\n",
    "def get_key(id:str):\n",
    "    r = requests.get(f'https://whiskyauction.com/item/{id}',headers=user_agent)\n",
    "    print(f'https://whiskyauction.com/item/{id}')\n",
    "    if r.status_code != 200: \n",
    "        print(id)\n",
    "        return None\n",
    "    soup = BeautifulSoup(r.content, 'html.parser')\n",
    "    aa = soup.find('table',class_='detailpage-detaildata')\n",
    "    keys = []\n",
    "    for tr in aa.find_all('tr'):\n",
    "        v = tr.find_all('td')\n",
    "        kk = v[0].text.strip().lower().replace(':','')\n",
    "        keys.append(kk)\n",
    "\n",
    "    # data['history'] = hists\n",
    "    return keys \n",
    "\n",
    "\n",
    "def crawl_all(st,ed):\n",
    "    if os.path.exists(f'data/obj_{st}_{ed}.json'):\n",
    "        return \n",
    "    ids = json.load(open('all_ids.json','r'))\n",
    "    ids = sorted([int(v['item_id']) for v in ids[st:ed]],reverse=True)\n",
    "    pool = ThreadPool(POOL_NUM)\n",
    "    infos = [v for v in pool.map(parse_obj,ids) if v is not None]\n",
    "    infos = sorted(infos,key=lambda x:int(x['id']))\n",
    "    print(len(infos))\n",
    "    json.dump(infos,open(os.path.join(DATA_DIR,f'obj_{st}_{ed}.json'),'w'),indent=4)\n",
    "    pool.close()\n",
    "\n",
    "\n",
    "STEP_SIZE = 200 \n",
    "\n",
    "if __name__ == '__main__':\n",
    "    parser = argparse.ArgumentParser()\n",
    "    parser.add_argument('--run',choices=['crawl','parse','getids'])\n",
    "    parser.add_argument('--st',type=int)\n",
    "    parser.add_argument('--ed',type=int)\n",
    "    args = parser.parse_args()\n",
    "   \n",
    "    if args.run == 'crawl':\n",
    "        assert (args.ed - args.st) % 200 == 0\n",
    "        for st in range(args.st,args.ed,STEP_SIZE):\n",
    "            print('start for',st)\n",
    "            crawl_all(st,st+STEP_SIZE)\n",
    "    elif args.run == 'getids':\n",
    "        # get ids\n",
    "        get_all_ids()\n",
    "    elif args.run == 'parse':\n",
    "        all_recs = []\n",
    "        fnames = sorted([fname for fname in os.listdir('./data') if (fname.endswith('json') and fname.startswith('obj'))],key=lambda x:int(x.split('_')[1]))[args.st:args.ed]\n",
    "        print('the number of fnames are',len(fnames))\n",
    "        for ii,fname in enumerate(fnames):\n",
    "            print(fname)\n",
    "            try:\n",
    "                recs = json.load(open(os.path.join('data',fname),'r'))\n",
    "            except:\n",
    "                print('error in read', fname)\n",
    "                continue\n",
    "            recs = [{k:(v.replace('\\r',' ').replace('\\n',' ').strip().lower() if isinstance(v,str) else v) for k,v in rec.items() if 'hist' not in k} for rec in recs]    \n",
    "            all_recs += recs \n",
    "            print(f'now len of recs are {len(all_recs)} for {ii} in {args.ed-args.st}')\n",
    "        df = pd.DataFrame(all_recs)\n",
    "        df.to_csv(f'data/data_whiskyauction_{args.st}_{args.ed}.csv',index=False)\n",
    "\n",
    "        \n",
    "    \n",
    "    # get cols \n",
    "    # ids = [int(v['item_id']) for v in json.load(open('all_ids.json','r'))]\n",
    "    # ids = sorted(ids,reverse=True)[:1000]\n",
    "    # # print(len(ids),len(np.unique(ids)),np.asarray(ids).min(),np.asarray(ids).max(),ids[:100],ids[-100:])\n",
    "    # all_keys = set()\n",
    "    # pool = ThreadPool(POOL_NUM)\n",
    "    # infos = [v for v in pool.map(get_key,ids) if v is not None]\n",
    "    # for info in infos:\n",
    "    #     all_keys = all_keys | set(info)\n",
    "    # pool.close()"
   ]
  },
  {
   "cell_type": "markdown",
   "id": "c7e62242-4cda-4bba-b06c-836db554c242",
   "metadata": {},
   "source": [
    "# 2. Post Process"
   ]
  },
  {
   "cell_type": "markdown",
   "id": "3541f9bd-524b-4a9b-a217-30302d181fc8",
   "metadata": {},
   "source": [
    "## 2.1 Post Process Stage 1 for Dataset No.1\n",
    "> https://www.scotchwhiskyauctions.com/"
   ]
  },
  {
   "cell_type": "code",
   "execution_count": 2,
   "id": "49dfc440-2743-4537-8a7a-035e3d6ef2cf",
   "metadata": {},
   "outputs": [],
   "source": [
    "import numpy as np \n",
    "import pandas as pd \n",
    "import matplotlib.pyplot as plt \n",
    "import os \n",
    "import sys\n",
    "\n",
    "%matplotlib inline "
   ]
  },
  {
   "cell_type": "code",
   "execution_count": 277,
   "id": "3c5a256d-e8d4-4364-8069-b8d99376f88e",
   "metadata": {},
   "outputs": [
    {
     "name": "stdout",
     "output_type": "stream",
     "text": [
      "147\n"
     ]
    }
   ],
   "source": [
    "files = sorted(os.listdir('data_csv'))\n",
    "files = [os.path.join('data_csv',v) for v in files]\n",
    "print(len(files))"
   ]
  },
  {
   "cell_type": "code",
   "execution_count": 278,
   "id": "3c2dadba-6305-4735-a64c-9f90a4ab8d15",
   "metadata": {},
   "outputs": [
    {
     "name": "stderr",
     "output_type": "stream",
     "text": [
      "/var/folders/n2/47w8btw54tj424xjtwbffw3c0000gn/T/ipykernel_87266/132244412.py:2: DtypeWarning: Columns (0,1,4,11,14,19,25,28,31,39,42,54,55,56,58,66,72,73,77,80,93) have mixed types. Specify dtype option on import or set low_memory=False.\n",
      "  dfs = pd.concat([pd.read_csv(v) for v in files],axis=0,ignore_index=True)\n",
      "/var/folders/n2/47w8btw54tj424xjtwbffw3c0000gn/T/ipykernel_87266/132244412.py:2: DtypeWarning: Columns (4,6,13,40,53,58,74,75,76,83,89,102) have mixed types. Specify dtype option on import or set low_memory=False.\n",
      "  dfs = pd.concat([pd.read_csv(v) for v in files],axis=0,ignore_index=True)\n",
      "/var/folders/n2/47w8btw54tj424xjtwbffw3c0000gn/T/ipykernel_87266/132244412.py:2: DtypeWarning: Columns (2,21,25,30,39,49,54,55,62,77,88,91,98,103) have mixed types. Specify dtype option on import or set low_memory=False.\n",
      "  dfs = pd.concat([pd.read_csv(v) for v in files],axis=0,ignore_index=True)\n",
      "/var/folders/n2/47w8btw54tj424xjtwbffw3c0000gn/T/ipykernel_87266/132244412.py:2: DtypeWarning: Columns (4,6,10,11,22,27,40,50,52,53,58,63,70,75,86,89,99,102,106) have mixed types. Specify dtype option on import or set low_memory=False.\n",
      "  dfs = pd.concat([pd.read_csv(v) for v in files],axis=0,ignore_index=True)\n",
      "/var/folders/n2/47w8btw54tj424xjtwbffw3c0000gn/T/ipykernel_87266/132244412.py:2: DtypeWarning: Columns (4,14,19,22,28,39,54,55,66,74,80,84,87,100) have mixed types. Specify dtype option on import or set low_memory=False.\n",
      "  dfs = pd.concat([pd.read_csv(v) for v in files],axis=0,ignore_index=True)\n",
      "/var/folders/n2/47w8btw54tj424xjtwbffw3c0000gn/T/ipykernel_87266/132244412.py:2: DtypeWarning: Columns (3,4,6,10,11,36,40,50,52,61,63,70,74,75,99,102,106) have mixed types. Specify dtype option on import or set low_memory=False.\n",
      "  dfs = pd.concat([pd.read_csv(v) for v in files],axis=0,ignore_index=True)\n",
      "/var/folders/n2/47w8btw54tj424xjtwbffw3c0000gn/T/ipykernel_87266/132244412.py:2: DtypeWarning: Columns (22,23,27,30,48,58,63,69,75,81,83,86,92,93,99,106) have mixed types. Specify dtype option on import or set low_memory=False.\n",
      "  dfs = pd.concat([pd.read_csv(v) for v in files],axis=0,ignore_index=True)\n",
      "/var/folders/n2/47w8btw54tj424xjtwbffw3c0000gn/T/ipykernel_87266/132244412.py:2: DtypeWarning: Columns (1,4,13,16,25,31,35,37,39,40,54,66,79,80,82,87,90) have mixed types. Specify dtype option on import or set low_memory=False.\n",
      "  dfs = pd.concat([pd.read_csv(v) for v in files],axis=0,ignore_index=True)\n",
      "/var/folders/n2/47w8btw54tj424xjtwbffw3c0000gn/T/ipykernel_87266/132244412.py:2: DtypeWarning: Columns (3,4,22,23,27,34,36,40,45,46,58,61,63,69,70,74,75,78,81,83,84,86,88,90,99,106,107) have mixed types. Specify dtype option on import or set low_memory=False.\n",
      "  dfs = pd.concat([pd.read_csv(v) for v in files],axis=0,ignore_index=True)\n",
      "/var/folders/n2/47w8btw54tj424xjtwbffw3c0000gn/T/ipykernel_87266/132244412.py:2: DtypeWarning: Columns (3,4,6,13,15,22,27,33,34,39,45,46,47,48,53,56,59,69,70,71,74,75,81,83,88,89,90,99,102,105,106,109) have mixed types. Specify dtype option on import or set low_memory=False.\n",
      "  dfs = pd.concat([pd.read_csv(v) for v in files],axis=0,ignore_index=True)\n"
     ]
    },
    {
     "name": "stdout",
     "output_type": "stream",
     "text": [
      "(628398, 114)\n"
     ]
    }
   ],
   "source": [
    "cols = pd.read_csv(files[0]).columns\n",
    "dfs = pd.concat([pd.read_csv(v) for v in files],axis=0,ignore_index=True)\n",
    "print(dfs.shape)"
   ]
  },
  {
   "cell_type": "code",
   "execution_count": 279,
   "id": "501a4578-9413-4516-83ea-6935ae2fdbe9",
   "metadata": {},
   "outputs": [
    {
     "name": "stdout",
     "output_type": "stream",
     "text": [
      "18 year old 627809 589 nonNa ratio: 0.09%\n",
      "Lot number 0 628398 nonNa ratio: 100.0%\n",
      "Winning bid 18312 610086 nonNa ratio: 97.09%\n",
      "age 303063 325335 nonNa ratio: 51.77%\n",
      "appleton 628397 1 nonNa ratio: 0.0%\n",
      "artist no 628396 2 nonNa ratio: 0.0%\n",
      "auction 0 628398 nonNa ratio: 100.0%\n",
      "balvenie doublewood 628357 41 nonNa ratio: 0.01%\n",
      "balvenie founder's reserve 628361 37 nonNa ratio: 0.01%\n",
      "barley type 628324 74 nonNa ratio: 0.01%\n",
      "barrel 626912 1486 nonNa ratio: 0.24%\n",
      "barrel number 624883 3515 nonNa ratio: 0.56%\n",
      "barreled 628281 117 nonNa ratio: 0.02%\n",
      "barrelled 628285 113 nonNa ratio: 0.02%\n",
      "batch 625970 2428 nonNa ratio: 0.39%\n",
      "batch no 627618 780 nonNa ratio: 0.12%\n",
      "batch number 618156 10242 nonNa ratio: 1.63%\n",
      "blended 628242 156 nonNa ratio: 0.02%\n",
      "botted 628396 2 nonNa ratio: 0.0%\n",
      "bottle no 627998 400 nonNa ratio: 0.06%\n",
      "bottle number 405434 222964 nonNa ratio: 35.48%\n",
      "bottle numbers 628294 104 nonNa ratio: 0.02%\n",
      "bottled 405545 222853 nonNa ratio: 35.46%\n",
      "bottled number 628178 220 nonNa ratio: 0.04%\n",
      "bottles number 628151 247 nonNa ratio: 0.04%\n",
      "bottlled 628393 5 nonNa ratio: 0.0%\n",
      "botttled 628387 11 nonNa ratio: 0.0%\n",
      "cask 627625 773 nonNa ratio: 0.12%\n",
      "cask no 628007 391 nonNa ratio: 0.06%\n",
      "cask number 540662 87736 nonNa ratio: 13.96%\n",
      "cask numbers 628135 263 nonNa ratio: 0.04%\n",
      "cask selection 628249 149 nonNa ratio: 0.02%\n",
      "cask strength 628377 21 nonNa ratio: 0.0%\n",
      "cask toast level 628353 45 nonNa ratio: 0.01%\n",
      "cask type 379820 248578 nonNa ratio: 39.56%\n",
      "casktype 628356 42 nonNa ratio: 0.01%\n",
      "catch type 628397 1 nonNa ratio: 0.0%\n",
      "causeway collection 628395 3 nonNa ratio: 0.0%\n",
      "certificate number 628387 11 nonNa ratio: 0.0%\n",
      "chichibu 628397 1 nonNa ratio: 0.0%\n",
      "ck 628397 1 nonNa ratio: 0.0%\n",
      "classic cut 627829 569 nonNa ratio: 0.09%\n",
      "committee release 628056 342 nonNa ratio: 0.05%\n",
      "compendium 628397 1 nonNa ratio: 0.0%\n",
      "concept no 628341 57 nonNa ratio: 0.01%\n",
      "creation of a classic 628397 1 nonNa ratio: 0.0%\n",
      "dalbeallie dram no 628389 9 nonNa ratio: 0.0%\n",
      "distiled 628383 15 nonNa ratio: 0.0%\n",
      "distilled 431518 196880 nonNa ratio: 31.33%\n",
      "distillery 625633 2765 nonNa ratio: 0.44%\n",
      "doublewood 628382 16 nonNa ratio: 0.0%\n",
      "dream cask 628397 1 nonNa ratio: 0.0%\n",
      "dumped 624580 3818 nonNa ratio: 0.61%\n",
      "easter elchies 628392 6 nonNa ratio: 0.0%\n",
      "edition 628273 125 nonNa ratio: 0.02%\n",
      "edition no 628289 109 nonNa ratio: 0.02%\n",
      "edition series 627984 414 nonNa ratio: 0.07%\n",
      "extracted_distillery 171963 456435 nonNa ratio: 72.63%\n",
      "farm 628382 16 nonNa ratio: 0.0%\n",
      "feis 2021 release 628342 56 nonNa ratio: 0.01%\n",
      "fine oak 628304 94 nonNa ratio: 0.01%\n",
      "founder's reserve 628381 17 nonNa ratio: 0.0%\n",
      "grape 628392 6 nonNa ratio: 0.0%\n",
      "harmony collection 628376 22 nonNa ratio: 0.0%\n",
      "his_bid_prices 0 628398 nonNa ratio: 100.0%\n",
      "his_bid_times 0 628398 nonNa ratio: 100.0%\n",
      "home collection 628379 19 nonNa ratio: 0.0%\n",
      "in cask date 628338 60 nonNa ratio: 0.01%\n",
      "kit number 628378 20 nonNa ratio: 0.0%\n",
      "kylver release 628395 3 nonNa ratio: 0.0%\n",
      "lalique 628397 1 nonNa ratio: 0.0%\n",
      "lot no 628292 106 nonNa ratio: 0.02%\n",
      "lot number 628203 195 nonNa ratio: 0.03%\n",
      "master blender's edition 628397 1 nonNa ratio: 0.0%\n",
      "mc 628393 5 nonNa ratio: 0.0%\n",
      "moved to sherry casks 628375 23 nonNa ratio: 0.0%\n",
      "name 0 628398 nonNa ratio: 100.0%\n",
      "no 628378 20 nonNa ratio: 0.0%\n",
      "no corners to hide 628395 3 nonNa ratio: 0.0%\n",
      "pact 628371 27 nonNa ratio: 0.0%\n",
      "please note 627156 1242 nonNa ratio: 0.2%\n",
      "punch bowl 628396 2 nonNa ratio: 0.0%\n",
      "quest collection 628295 103 nonNa ratio: 0.02%\n",
      "rare cask 628374 24 nonNa ratio: 0.0%\n",
      "recasked 628380 18 nonNa ratio: 0.0%\n",
      "release number 628295 103 nonNa ratio: 0.02%\n",
      "released 625822 2576 nonNa ratio: 0.41%\n",
      "renaissance series no 628396 2 nonNa ratio: 0.0%\n",
      "secret distillery #1batch 628397 1 nonNa ratio: 0.0%\n",
      "selection 628393 5 nonNa ratio: 0.0%\n",
      "selection number 628347 51 nonNa ratio: 0.01%\n",
      "serial number 627908 490 nonNa ratio: 0.08%\n",
      "set number 628337 61 nonNa ratio: 0.01%\n",
      "single barrel 628342 56 nonNa ratio: 0.01%\n",
      "single barrel bottle number 628353 45 nonNa ratio: 0.01%\n",
      "small batch 628391 7 nonNa ratio: 0.0%\n",
      "solar sytem 628396 2 nonNa ratio: 0.0%\n",
      "strength 52949 575449 nonNa ratio: 91.57%\n",
      "td-s 628396 2 nonNa ratio: 0.0%\n",
      "the boutique collection 628339 59 nonNa ratio: 0.01%\n",
      "the harmony collection 627358 1040 nonNa ratio: 0.17%\n",
      "the home collection 628390 8 nonNa ratio: 0.0%\n",
      "the renaissance 628395 3 nonNa ratio: 0.0%\n",
      "traigh bhan 628317 81 nonNa ratio: 0.01%\n",
      "travel exclusive edition 628112 286 nonNa ratio: 0.05%\n",
      "tree number 628329 69 nonNa ratio: 0.01%\n",
      "trilogy part 628397 1 nonNa ratio: 0.0%\n",
      "url 0 628398 nonNa ratio: 100.0%\n",
      "url_id 0 628398 nonNa ratio: 100.0%\n",
      "warehouse 626632 1766 nonNa ratio: 0.28%\n",
      "warehouse number 628245 153 nonNa ratio: 0.02%\n",
      "whiskymaker's reserve no 628375 23 nonNa ratio: 0.0%\n",
      "white stag 628396 2 nonNa ratio: 0.0%\n",
      "winning bid 628397 1 nonNa ratio: 0.0%\n"
     ]
    }
   ],
   "source": [
    "cols = sorted(dfs.columns)\n",
    "stats = {}\n",
    "for cc in cols:\n",
    "    na_num = dfs[cc].isna().sum()\n",
    "    nonna_num = dfs[cc].count()\n",
    "    stats[cc] = round(nonna_num/dfs.shape[0]*100,2)\n",
    "    print(cc,na_num,nonna_num,f'nonNa ratio: {round(nonna_num/dfs.shape[0]*100,2)}%')"
   ]
  },
  {
   "cell_type": "code",
   "execution_count": 280,
   "id": "43d7112a-2039-4e4d-aabe-9a600713728c",
   "metadata": {},
   "outputs": [
    {
     "name": "stdout",
     "output_type": "stream",
     "text": [
      "Lot number 100.0%\n",
      "auction 100.0%\n",
      "his_bid_prices 100.0%\n",
      "his_bid_times 100.0%\n",
      "name 100.0%\n",
      "url 100.0%\n",
      "url_id 100.0%\n",
      "Winning bid 97.09%\n",
      "strength 91.57%\n",
      "extracted_distillery 72.63%\n",
      "age 51.77%\n",
      "cask type 39.56%\n",
      "bottle number 35.48%\n",
      "bottled 35.46%\n",
      "distilled 31.33%\n",
      "cask number 13.96%\n",
      "batch number 1.63%\n",
      "dumped 0.61%\n",
      "barrel number 0.56%\n",
      "distillery 0.44%\n",
      "released 0.41%\n",
      "batch 0.39%\n",
      "warehouse 0.28%\n",
      "barrel 0.24%\n",
      "please note 0.2%\n",
      "the harmony collection 0.17%\n",
      "batch no 0.12%\n",
      "cask 0.12%\n",
      "18 year old 0.09%\n",
      "classic cut 0.09%\n",
      "serial number 0.08%\n",
      "edition series 0.07%\n",
      "bottle no 0.06%\n",
      "cask no 0.06%\n",
      "committee release 0.05%\n",
      "travel exclusive edition 0.05%\n",
      "bottled number 0.04%\n",
      "bottles number 0.04%\n",
      "cask numbers 0.04%\n",
      "lot number 0.03%\n",
      "barreled 0.02%\n",
      "barrelled 0.02%\n",
      "blended 0.02%\n",
      "bottle numbers 0.02%\n",
      "cask selection 0.02%\n",
      "edition 0.02%\n",
      "edition no 0.02%\n",
      "lot no 0.02%\n",
      "quest collection 0.02%\n",
      "release number 0.02%\n",
      "warehouse number 0.02%\n",
      "balvenie doublewood 0.01%\n",
      "balvenie founder's reserve 0.01%\n",
      "barley type 0.01%\n",
      "cask toast level 0.01%\n",
      "casktype 0.01%\n",
      "concept no 0.01%\n",
      "feis 2021 release 0.01%\n",
      "fine oak 0.01%\n",
      "in cask date 0.01%\n",
      "selection number 0.01%\n",
      "set number 0.01%\n",
      "single barrel 0.01%\n",
      "single barrel bottle number 0.01%\n",
      "the boutique collection 0.01%\n",
      "traigh bhan 0.01%\n",
      "tree number 0.01%\n",
      "appleton 0.0%\n",
      "artist no 0.0%\n",
      "botted 0.0%\n",
      "bottlled 0.0%\n",
      "botttled 0.0%\n",
      "cask strength 0.0%\n",
      "catch type 0.0%\n",
      "causeway collection 0.0%\n",
      "certificate number 0.0%\n",
      "chichibu 0.0%\n",
      "ck 0.0%\n",
      "compendium 0.0%\n",
      "creation of a classic 0.0%\n",
      "dalbeallie dram no 0.0%\n",
      "distiled 0.0%\n",
      "doublewood 0.0%\n",
      "dream cask 0.0%\n",
      "easter elchies 0.0%\n",
      "farm 0.0%\n",
      "founder's reserve 0.0%\n",
      "grape 0.0%\n",
      "harmony collection 0.0%\n",
      "home collection 0.0%\n",
      "kit number 0.0%\n",
      "kylver release 0.0%\n",
      "lalique 0.0%\n",
      "master blender's edition 0.0%\n",
      "mc 0.0%\n",
      "moved to sherry casks 0.0%\n",
      "no 0.0%\n",
      "no corners to hide 0.0%\n",
      "pact 0.0%\n",
      "punch bowl 0.0%\n",
      "rare cask 0.0%\n",
      "recasked 0.0%\n",
      "renaissance series no 0.0%\n",
      "secret distillery #1batch 0.0%\n",
      "selection 0.0%\n",
      "small batch 0.0%\n",
      "solar sytem 0.0%\n",
      "td-s 0.0%\n",
      "the home collection 0.0%\n",
      "the renaissance 0.0%\n",
      "trilogy part 0.0%\n",
      "whiskymaker's reserve no 0.0%\n",
      "white stag 0.0%\n",
      "winning bid 0.0%\n"
     ]
    }
   ],
   "source": [
    "sorted_stats_keys = sorted(stats.keys(),key=lambda x:stats[x],reverse=True)\n",
    "for k in sorted_stats_keys:\n",
    "    print(k,f'{stats[k]}%')"
   ]
  },
  {
   "cell_type": "code",
   "execution_count": 281,
   "id": "857c726a-6219-4dc4-9381-ca07d5a53a1e",
   "metadata": {},
   "outputs": [
    {
     "name": "stdout",
     "output_type": "stream",
     "text": [
      "16 ['Lot number', 'auction', 'his_bid_prices', 'his_bid_times', 'name', 'url', 'url_id', 'Winning bid', 'strength', 'extracted_distillery', 'age', 'cask type', 'bottle number', 'bottled', 'distilled', 'cask number']\n"
     ]
    }
   ],
   "source": [
    "selected_keys = [k for k in sorted_stats_keys if stats[k]>10.]\n",
    "print(len(selected_keys),selected_keys)"
   ]
  },
  {
   "cell_type": "code",
   "execution_count": 282,
   "id": "fd068b6e-90d6-40a9-9080-9f3f657c6db9",
   "metadata": {},
   "outputs": [
    {
     "name": "stdout",
     "output_type": "stream",
     "text": [
      "(628398, 16)\n"
     ]
    }
   ],
   "source": [
    "dfs_new = dfs[sorted(selected_keys)]\n",
    "print(dfs_new.shape)"
   ]
  },
  {
   "cell_type": "code",
   "execution_count": 283,
   "id": "4503ce7c-b137-4252-9c0b-93d63544bf10",
   "metadata": {},
   "outputs": [
    {
     "data": {
      "text/html": [
       "<div>\n",
       "<style scoped>\n",
       "    .dataframe tbody tr th:only-of-type {\n",
       "        vertical-align: middle;\n",
       "    }\n",
       "\n",
       "    .dataframe tbody tr th {\n",
       "        vertical-align: top;\n",
       "    }\n",
       "\n",
       "    .dataframe thead th {\n",
       "        text-align: right;\n",
       "    }\n",
       "</style>\n",
       "<table border=\"1\" class=\"dataframe\">\n",
       "  <thead>\n",
       "    <tr style=\"text-align: right;\">\n",
       "      <th></th>\n",
       "      <th>Lot number</th>\n",
       "      <th>Winning bid</th>\n",
       "      <th>age</th>\n",
       "      <th>auction</th>\n",
       "      <th>bottle number</th>\n",
       "      <th>bottled</th>\n",
       "      <th>cask number</th>\n",
       "      <th>cask type</th>\n",
       "      <th>distilled</th>\n",
       "      <th>extracted_distillery</th>\n",
       "      <th>his_bid_prices</th>\n",
       "      <th>his_bid_times</th>\n",
       "      <th>name</th>\n",
       "      <th>strength</th>\n",
       "      <th>url</th>\n",
       "      <th>url_id</th>\n",
       "    </tr>\n",
       "  </thead>\n",
       "  <tbody>\n",
       "    <tr>\n",
       "      <th>0</th>\n",
       "      <td>620119</td>\n",
       "      <td>55</td>\n",
       "      <td>NaN</td>\n",
       "      <td>100-the-62nd-auction</td>\n",
       "      <td>NaN</td>\n",
       "      <td>NaN</td>\n",
       "      <td>NaN</td>\n",
       "      <td>NaN</td>\n",
       "      <td>NaN</td>\n",
       "      <td>macallan</td>\n",
       "      <td>[130.0, 88.33, 61.0, 47.5, 48.33, 45.0, 43.75,...</td>\n",
       "      <td>[24.0, 25.0, 26.0, 28.0, 29.0, 31.0, 33.0, 34....</td>\n",
       "      <td>Macallan Director's Edition</td>\n",
       "      <td>40% ABV / 70cl</td>\n",
       "      <td>https://www.scotchwhiskyauctions.com/auctions/...</td>\n",
       "      <td>100333</td>\n",
       "    </tr>\n",
       "    <tr>\n",
       "      <th>1</th>\n",
       "      <td>621531</td>\n",
       "      <td>55</td>\n",
       "      <td>NaN</td>\n",
       "      <td>100-the-62nd-auction</td>\n",
       "      <td>NaN</td>\n",
       "      <td>NaN</td>\n",
       "      <td>NaN</td>\n",
       "      <td>NaN</td>\n",
       "      <td>NaN</td>\n",
       "      <td>macallan</td>\n",
       "      <td>[130.0, 88.33, 61.0, 47.5, 48.33, 45.0, 43.75,...</td>\n",
       "      <td>[24.0, 25.0, 26.0, 28.0, 29.0, 31.0, 33.0, 34....</td>\n",
       "      <td>Macallan Director's Edition</td>\n",
       "      <td>40% ABV / 70cl</td>\n",
       "      <td>https://www.scotchwhiskyauctions.com/auctions/...</td>\n",
       "      <td>101847</td>\n",
       "    </tr>\n",
       "    <tr>\n",
       "      <th>2</th>\n",
       "      <td>622681</td>\n",
       "      <td>55</td>\n",
       "      <td>NaN</td>\n",
       "      <td>100-the-62nd-auction</td>\n",
       "      <td>NaN</td>\n",
       "      <td>NaN</td>\n",
       "      <td>NaN</td>\n",
       "      <td>NaN</td>\n",
       "      <td>NaN</td>\n",
       "      <td>macallan</td>\n",
       "      <td>[130.0, 88.33, 61.0, 47.5, 48.33, 45.0, 43.75,...</td>\n",
       "      <td>[24.0, 25.0, 26.0, 28.0, 29.0, 31.0, 33.0, 34....</td>\n",
       "      <td>Macallan Director's Edition</td>\n",
       "      <td>40% ABV / 70cl</td>\n",
       "      <td>https://www.scotchwhiskyauctions.com/auctions/...</td>\n",
       "      <td>103100</td>\n",
       "    </tr>\n",
       "    <tr>\n",
       "      <th>3</th>\n",
       "      <td>622979</td>\n",
       "      <td>55</td>\n",
       "      <td>NaN</td>\n",
       "      <td>100-the-62nd-auction</td>\n",
       "      <td>NaN</td>\n",
       "      <td>NaN</td>\n",
       "      <td>NaN</td>\n",
       "      <td>NaN</td>\n",
       "      <td>NaN</td>\n",
       "      <td>macallan</td>\n",
       "      <td>[130.0, 88.33, 61.0, 47.5, 48.33, 45.0, 43.75,...</td>\n",
       "      <td>[24.0, 25.0, 26.0, 28.0, 29.0, 31.0, 33.0, 34....</td>\n",
       "      <td>Macallan Director's Edition</td>\n",
       "      <td>40% ABV / 70cl</td>\n",
       "      <td>https://www.scotchwhiskyauctions.com/auctions/...</td>\n",
       "      <td>103453</td>\n",
       "    </tr>\n",
       "    <tr>\n",
       "      <th>4</th>\n",
       "      <td>622168</td>\n",
       "      <td>720</td>\n",
       "      <td>13 years old</td>\n",
       "      <td>100-the-62nd-auction</td>\n",
       "      <td>NaN</td>\n",
       "      <td>2012</td>\n",
       "      <td>6697</td>\n",
       "      <td>Sherry Butt</td>\n",
       "      <td>1999</td>\n",
       "      <td>macallan</td>\n",
       "      <td>[860.0, 533.33, 540.0, 590.0, 600.0, 476.67, 5...</td>\n",
       "      <td>[22.0, 23.0, 24.0, 25.0, 26.0, 27.0, 28.0, 29....</td>\n",
       "      <td>Macallan Easter Elchies 2012</td>\n",
       "      <td>57.2% ABV / 70cl</td>\n",
       "      <td>https://www.scotchwhiskyauctions.com/auctions/...</td>\n",
       "      <td>102514</td>\n",
       "    </tr>\n",
       "  </tbody>\n",
       "</table>\n",
       "</div>"
      ],
      "text/plain": [
       "  Lot number Winning bid           age               auction bottle number  \\\n",
       "0     620119          55           NaN  100-the-62nd-auction           NaN   \n",
       "1     621531          55           NaN  100-the-62nd-auction           NaN   \n",
       "2     622681          55           NaN  100-the-62nd-auction           NaN   \n",
       "3     622979          55           NaN  100-the-62nd-auction           NaN   \n",
       "4     622168         720  13 years old  100-the-62nd-auction           NaN   \n",
       "\n",
       "  bottled cask number    cask type distilled extracted_distillery  \\\n",
       "0     NaN         NaN          NaN       NaN             macallan   \n",
       "1     NaN         NaN          NaN       NaN             macallan   \n",
       "2     NaN         NaN          NaN       NaN             macallan   \n",
       "3     NaN         NaN          NaN       NaN             macallan   \n",
       "4    2012        6697  Sherry Butt      1999             macallan   \n",
       "\n",
       "                                      his_bid_prices  \\\n",
       "0  [130.0, 88.33, 61.0, 47.5, 48.33, 45.0, 43.75,...   \n",
       "1  [130.0, 88.33, 61.0, 47.5, 48.33, 45.0, 43.75,...   \n",
       "2  [130.0, 88.33, 61.0, 47.5, 48.33, 45.0, 43.75,...   \n",
       "3  [130.0, 88.33, 61.0, 47.5, 48.33, 45.0, 43.75,...   \n",
       "4  [860.0, 533.33, 540.0, 590.0, 600.0, 476.67, 5...   \n",
       "\n",
       "                                       his_bid_times  \\\n",
       "0  [24.0, 25.0, 26.0, 28.0, 29.0, 31.0, 33.0, 34....   \n",
       "1  [24.0, 25.0, 26.0, 28.0, 29.0, 31.0, 33.0, 34....   \n",
       "2  [24.0, 25.0, 26.0, 28.0, 29.0, 31.0, 33.0, 34....   \n",
       "3  [24.0, 25.0, 26.0, 28.0, 29.0, 31.0, 33.0, 34....   \n",
       "4  [22.0, 23.0, 24.0, 25.0, 26.0, 27.0, 28.0, 29....   \n",
       "\n",
       "                           name          strength  \\\n",
       "0   Macallan Director's Edition    40% ABV / 70cl   \n",
       "1   Macallan Director's Edition    40% ABV / 70cl   \n",
       "2   Macallan Director's Edition    40% ABV / 70cl   \n",
       "3   Macallan Director's Edition    40% ABV / 70cl   \n",
       "4  Macallan Easter Elchies 2012  57.2% ABV / 70cl   \n",
       "\n",
       "                                                 url  url_id  \n",
       "0  https://www.scotchwhiskyauctions.com/auctions/...  100333  \n",
       "1  https://www.scotchwhiskyauctions.com/auctions/...  101847  \n",
       "2  https://www.scotchwhiskyauctions.com/auctions/...  103100  \n",
       "3  https://www.scotchwhiskyauctions.com/auctions/...  103453  \n",
       "4  https://www.scotchwhiskyauctions.com/auctions/...  102514  "
      ]
     },
     "execution_count": 283,
     "metadata": {},
     "output_type": "execute_result"
    }
   ],
   "source": [
    "dfs_new.head()"
   ]
  },
  {
   "cell_type": "code",
   "execution_count": null,
   "id": "c1dc0885-9471-4c10-b545-f39b3c4b5fb4",
   "metadata": {},
   "outputs": [],
   "source": [
    "res_df = dfs_new.copy()"
   ]
  },
  {
   "cell_type": "code",
   "execution_count": 348,
   "id": "784abc75-a52a-41f0-abc9-37733b7a5133",
   "metadata": {},
   "outputs": [
    {
     "name": "stdout",
     "output_type": "stream",
     "text": [
      "cl 58.8%**cl\n",
      "percent %70cl\n",
      "percent ??%70cl\n",
      "percent ???%70cl\n",
      "percent ????%70cl\n",
      "percent 58.4.8%70cl\n",
      "percent ??%75cl\n",
      "percent **%**cl\n",
      "cl **%**cl\n",
      "percent **%20cl\n",
      "percent 57.8?%70cl\n",
      "cl 51.5%**cl\n",
      "cl 58.4%**cl\n",
      "cl 51.9%**cl\n",
      "cl 57.2%**cl\n",
      "percent **%**cl\n",
      "cl **%**cl\n",
      "cl 52.8%**cl\n",
      "percent **%**cl\n",
      "cl **%**cl\n",
      "percent ??%70cl\n",
      "percent 60.5*%70cl\n",
      "percent **%**cl\n",
      "cl **%**cl\n",
      "percent ??%70cl\n",
      "percent ??%70cl\n",
      "cl 55.5%75*cl\n",
      "percent ????%70cl\n",
      "percent ???%70cl\n",
      "percent ???%70cl\n",
      "percent ???%70cl\n",
      "cl 54.7%**cl\n",
      "cl 59.3%**cl\n",
      "percent ??%70cl\n",
      "percent Nostated%75cl\n",
      "percent Unstated%2x5cl\n",
      "cl 55.8%**cl\n",
      "percent %70cl\n",
      "percent %70cl\n",
      "percent ??%70cl\n",
      "percent Nostated%75cl\n",
      "percent Unstated%5clx2\n",
      "percent 51.5*%70cl\n",
      "percent Nostated%nostatedbottlesizebutapprox70cl\n",
      "percent Nostated%5cl\n",
      "cl 43.9%**cl\n",
      "percent Nostated%Approx.5cl\n",
      "percent %70cl\n",
      "percent ????%70cl\n",
      "percent Nostated%5cl\n",
      "percent 70°Proof,nostated%5cl\n",
      "percent ???%70cl\n",
      "percent Nostated%70cl\n",
      "percent ??%70cl\n",
      "cl 46.9%**cl\n",
      "percent Unstated%2x5cl\n",
      "cl 51.9%**cl\n",
      "cl 52.5%**cl\n",
      "cl 62%**cl\n",
      "cl 51.6%70*cl\n",
      "percent 46*%70cl\n",
      "percent 4o%4cl\n",
      "percent Unstated%2x5cl\n",
      "cl 43.8%**cl\n",
      "percent **%**cl\n",
      "cl **%**cl\n",
      "cl 52.6%**cl\n",
      "cl 55.3%**cl\n",
      "percent **%**cl\n",
      "cl **%**cl\n",
      "cl 40-46%**clx10\n",
      "percent 51.8*%70cl\n",
      "percent ??%70cl\n",
      "cl 40-43%**cl\n",
      "percent ???%70cl\n",
      "percent SeeLabel.%70cl\n",
      "cl 7053.9%**cl\n",
      "cl 40%-60%**clx10\n",
      "cl 52.4%**cl\n",
      "percent 46..5%75cl\n",
      "percent ??%70cl\n",
      "percent 58..8%70cl\n",
      "percent ??%70cl\n",
      "cl 43.2%50*cl\n",
      "percent 57.5?%70cl\n",
      "percent 57.5.?%70cl\n",
      "percent 56.8?%70cl\n",
      "percent 53..1%70cl\n",
      "cl 48.3%**cl\n",
      "percent ??%70cl\n",
      "percent 60..1%75cl\n",
      "cl 47%**cl\n",
      "cl 47%**cl\n",
      "percent ????%70cl\n",
      "percent **%**cl\n",
      "cl **%**cl\n",
      "cl Strathclyde(Milan)1989-201829YearsOld54.2%168bottles\n",
      "cl 43%-49%**clx3\n",
      "percent Nostated%5cl\n",
      "percent 57.1*%70cl\n",
      "percent **%**cl\n",
      "cl **%**cl\n",
      "percent Nostated%5cl\n",
      "percent ***%70cl\n",
      "percent ??%75cl\n",
      "percent **%50cl\n",
      "percent ***%70cl\n",
      "percent ??%70cl\n",
      "percent ???%70cl\n",
      "percent ??%70cl\n",
      "percent ???%70cl\n",
      "percent ***%70cl\n",
      "percent ??%70cl\n",
      "percent ***%70cl\n",
      "percent ***%70cl\n",
      "percent ???%70cl\n",
      "percent 40-%70cl\n",
      "percent 58.7.8%70cl\n",
      "percent ***%70cl\n",
      "percent ***%70cl\n",
      "percent ??%70cl\n",
      "percent ??%70cl\n",
      "cl 54.8%**cl\n",
      "percent ??%70cl\n",
      "percent **%**cl\n",
      "cl **%**cl\n",
      "percent ??%75cl\n",
      "percent ??%70cl\n",
      "percent ???%70cl\n",
      "percent Age:1991,Distilled:04-03-91,Bottled:02-2018,%5570clCaskno:100285Bottleno:0968.\n",
      "percent No%70cl\n",
      "percent **%**cl\n",
      "cl **%**cl\n",
      "percent %70cl\n",
      "percent Nonstated%75cl\n",
      "percent 58..8%70cl\n",
      "percent **%**cl\n",
      "cl **%**cl\n",
      "percent ????%70cl\n",
      "percent 63.7.*%70cl\n",
      "percent ???%70cl\n",
      "percent ADCK.364-171114.58.2%5cl\n",
      "cl LagavulinFeisIle2011.Filled23021998.Bottleno427fromcask1715.7oclat51%.\n",
      "percent ??%70cl\n",
      "percent ???%70cl\n",
      "percent ??.?%70cl\n",
      "percent NoStated%70cl\n",
      "percent ***%70cl\n",
      "percent NotStated%20cl\n",
      "percent NonStated%70cl\n",
      "percent Nostated%5cl\n",
      "percent ???%5cl\n",
      "percent ??%70cl\n",
      "cl 53.4%**cl\n",
      "percent %**cl\n",
      "cl %**cl\n",
      "cl 46&61.67%**cl\n",
      "percent xx%70cl\n",
      "percent ??%75cl\n",
      "percent 40?%70cl\n",
      "cl A1990vintageBowmorebottledinthemid-2000safter16yearsofmaturinginsherrycasks..70cl53.8%\n",
      "cl Caskno21107.Distilled2572007.Bottled4112010at61.8%.BottledexclusivelyforWhiskyImportNederland.\n",
      "cl Caskno212007.Distilled3052007.Bottled4062010at61.8%.BottledexclusivelyforWhiskyImportNederland.\n",
      "cl Caskno21107.Distilled2572007.Bottled4112010at61.8%.BottledexclusivelyforWhiskyImportNederland.\n",
      "cl ThedoublematuredDistillersEdition.Distilledin1979.Limitededitionnolgv.4463.70cland43%\n",
      "cl 51.2%\n",
      "percent BottledtocelebratetheIslayJazzFestival2012. Distilled07051997.54.5%Cask1894Bottle70clBottleno377\n",
      "cl Bottledat40%1litre,bookletenclosed.\n",
      "percent Oneofonly7200bottles.52.8%70cl\n",
      "cl TheGrant'sisaclearplasticbottle,labelsandbottlearepristine,bottledat50%1litre.\n",
      "percent Bottled:16thofMay2006.Casknumber14811,bottleno31of150.Inwoodenpresentationcase.47.3%70cl.\n",
      "cl Caskno212007.Distilled3052007.Bottled4062010at61.8%.BottledexclusivelyforWhiskyImportNederland.\n",
      "percent 7.Glenburgie-Distilled:31.03.66,Bottled:March1990.61.2%5cl.\n",
      "percent Bottlenumber114of153numberedandsignedbyJohnSavage-Onstwedder.56.4%70cl.\n",
      "cl TraditionalMacallandistilledin1963.26and23rdsflozs75°proof.75.7cl43%Vol\n",
      "cl IslayMist8yearoldproudlyproclaimsthatinit'srecipeLaphroaigmakesanappearance.40%1L.\n",
      "cl Thepeatyversionofthefamousbirdandtheclassicblendbothbottledat40%1L.\n",
      "cl Threeclassicfavouritesallbottledat40%1L.ApartfromtheCuttywhichis43%.\n",
      "cl OldstylelabelandboxforthisclassicLowlander.Bottledat43%1L\n",
      "cl 60.0%**cl\n",
      "cl 57.8%70*cl\n",
      "cl Cask992006.Distilled7.6.2006.Bottled7.10.2011at61.8%.BottledexclusivelyforWhiskyImportNederland.\n",
      "cl Includessample:52.1%60ml\n",
      "cl Includessample:51.2%60ml\n",
      "cl Includessample:48.7%60ml\n",
      "cl Includessample:51.2%60ml\n",
      "percent Gordon&MacPhail:Distilled:21.04.1978,Bottled:May1993,Age:15yearsold.61.8%5cl\n",
      "cl 41%**cl\n",
      "cl 50%\n",
      "cl 59.7%**cl\n",
      "cl 52.4%*cl70\n",
      "cl 50%70ccl\n",
      "cl 40%7ocl\n",
      "percent Thiswasoneofthesamplesgivenouttothestaff.47.6%5cl\n",
      "cl 46%75%cl\n",
      "cl 52.4%70*cl\n",
      "percent Riegger'sSelectionDistilled:28.12.1995Bottled:22.02.201146%2cl\n",
      "cl 57%**cl\n",
      "cl 58.2%70*cl\n",
      "cl 50%**cl\n",
      "cl 40%**cl\n",
      "628398 575225 575449\n",
      "628398 575304 575449\n"
     ]
    }
   ],
   "source": [
    "# strength\n",
    "strength = []\n",
    "cl_s = []\n",
    "for v in dfs_new['strength']:\n",
    "    if v is None or v=='' or str(v)=='nan': \n",
    "        strength.append(None)\n",
    "        cl_s.append(None)\n",
    "        continue\n",
    "    tmp = str(v).strip()\n",
    "    tmp = tmp.replace('\\n','').replace(' ','').replace('/','').replace('.%','%').replace('ABV','')\n",
    "    if '%' in tmp or 'cl' in tmp:\n",
    "        try:\n",
    "            # if 'cl' in tmp and re.search('([\\d.]+)cl',tmp) is not None:\n",
    "                # cl = float(re.search('([\\d.]+)cl',tmp).groups()[0])\n",
    "                # if cl < 0.1: \n",
    "                    # cl = 70\n",
    "                # percent = float(re.search('([\\d.]+)%',tmp).groups()[0])\n",
    "                # if percent >= 100 or percent > 100 < 0:\n",
    "                    # strength.append(None)\n",
    "                # else:\n",
    "                # strength.append(/cl)\n",
    "            # else:\n",
    "                # strength.append(float(re.search('([\\d.]+)%',tmp).grou\n",
    "            percent = float(re.search('([\\d.]+)%',tmp).groups()[0])\n",
    "            if percent >= 100 or percent < 0:\n",
    "                strength.append(None)\n",
    "            else:\n",
    "                strength.append(percent)\n",
    "        except:\n",
    "            print('percent',tmp)\n",
    "            strength.append(None)\n",
    "        try:\n",
    "            cl = float(re.search('([\\d.]+)cl',tmp).groups()[0])\n",
    "            if cl < 0 or cl > 1000:\n",
    "                cl_s.append(None)\n",
    "            else:\n",
    "                cl_s.append(cl)\n",
    "        except:\n",
    "            print('cl',tmp)\n",
    "            cl_s.append(None)\n",
    "    else:\n",
    "        print('====',tmp)\n",
    "        strength.append(None)\n",
    "        cl_s.append(None)\n",
    "print(len(strength),len([v for v in strength if v is not None]),dfs_new['strength'].count())\n",
    "print(len(cl_s),len([v for v in cl_s if v is not None]),dfs_new['strength'].count())\n",
    "res_df['strength'] = strength\n",
    "res_df['cl'] = cl_s"
   ]
  },
  {
   "cell_type": "code",
   "execution_count": 349,
   "id": "9f623809-c14e-4023-ab16-3d6da632e59d",
   "metadata": {},
   "outputs": [
    {
     "name": "stdout",
     "output_type": "stream",
     "text": [
      "[40.0, 40.0, 40.0, 40.0, 57.2, 55.3, 48.0, 48.0, 48.0, 48.0, 48.0, 48.0, 48.0, 48.0, 48.0, 48.0, None, None, None, None, 45.8, 45.8, 62.0, 59.9, 57.8, 57.8, 45.8, 45.8, 45.8, 58.1, 57.0, 45.8, None, None, 59.3, 60.0, 45.8, 45.8, 40.0, 40.8, 48.0, 48.0, 48.0, 48.0, 48.0, 48.0, 48.0, 48.0, 48.0, 43.0, 43.0, 43.0, 43.0, 43.0, 43.0, 52.5, 52.9, 52.7, 55.1, 55.1, None, 35.0, None, 40.0, 40.0, 50.5, 40.0, 46.3, None, 40.0, 43.0, 40.0, 40.0, 46.0, 52.2, 40.0, None, 57.5, 40.0, 40.0, 58.2, 46.0, 46.0, 50.0, 46.0, 61.0, 46.0, 58.5, 58.5, 58.2, 50.0, 50.0, 50.0, 46.0, 46.0, 46.0, 63.5, 59.2, 60.4, 46.0] [70.0, 70.0, 70.0, 70.0, 70.0, 70.0, 70.0, 70.0, 70.0, 70.0, 70.0, 70.0, 75.0, 70.0, 70.0, 70.0, None, None, None, None, 70.0, 70.0, 70.0, 70.0, 70.0, 70.0, 70.0, 70.0, 70.0, 70.0, 70.0, 5.0, None, None, 70.0, 70.0, 70.0, 70.0, 70.0, 70.0, 70.0, 70.0, 70.0, 70.0, 70.0, 70.0, 70.0, 70.0, 70.0, 5.0, 70.0, 70.0, 70.0, 70.0, 70.0, 70.0, 70.0, 70.0, 70.0, 70.0, None, 70.0, None, 5.0, 5.0, 5.0, 5.0, 5.0, None, 75.0, 5.0, 5.0, 70.0, 70.0, 70.0, 70.0, None, 70.0, 70.0, 75.0, 5.0, 70.0, 70.0, 70.0, 70.0, 70.0, 70.0, 70.0, 70.0, 70.0, 70.0, 70.0, 70.0, 70.0, 70.0, 70.0, 5.0, 70.0, 70.0, 70.0]\n"
     ]
    }
   ],
   "source": [
    "print(strength[:100],cl_s[:100])"
   ]
  },
  {
   "cell_type": "code",
   "execution_count": 329,
   "id": "80326b9b-b75b-446f-aaa5-0da4883c05f3",
   "metadata": {},
   "outputs": [],
   "source": [
    "res_df['auction'] = [int(v.split('-')[0]) for v in dfs_new['auction'].astype('str') if v!='' and v!='nan']"
   ]
  },
  {
   "cell_type": "code",
   "execution_count": 330,
   "id": "00deff23-db70-47fe-b9a9-e6da68fc7303",
   "metadata": {},
   "outputs": [
    {
     "name": "stdout",
     "output_type": "stream",
     "text": [
      "--- xo\n",
      "--- refill\n",
      "--- xo\n",
      "--- xo\n",
      "--- xo\n",
      "--- xo\n",
      "--- xo\n",
      "--- xo\n",
      "--- ????\n",
      "--- xo\n",
      "--- xo\n",
      "--- xo\n",
      "--- xo\n",
      "--- xo\n",
      "--- xo\n",
      "--- xo\n",
      "--- xo\n",
      "--- xo\n",
      "--- xo\n",
      "--- xo\n",
      "--- xo\n",
      "--- bourbon\n",
      "--- bourbon\n",
      "--- unknown\n",
      "& years old\n",
      "--- xo\n",
      "--- xo\n",
      "--- ???\n",
      "--- first\n",
      "--- xo\n",
      "--- xo\n",
      "--- xo\n",
      "--- xo\n",
      "--- xo\n",
      "--- xo\n",
      "--- xo\n",
      "--- xo\n",
      "--- xo\n",
      "--- xo\n",
      "--- xo\n",
      "--- xo\n",
      "--- xo\n",
      "--- xo\n",
      "--- vsop\n",
      "--- xo\n",
      "--- xo\n",
      "--- xo\n",
      "--- ??????\n",
      "--- xo\n",
      "not very old\n",
      "=== \n",
      "--- refill\n",
      "--- august\n",
      "--- xo\n",
      "--- refill\n",
      "--- non\n",
      "& years old\n",
      "--- xo\n",
      "--- non\n",
      "--- ripped\n",
      "=== \n",
      "--- 19cask\n",
      "--- 45%abv\n",
      "--- vsop\n",
      "--- 46%abv\n",
      "--- refill\n",
      "--- nas\n",
      "--- nas\n",
      "--- xo\n",
      "--- refill\n",
      "--- xo\n",
      "628398 325264 325335\n"
     ]
    }
   ],
   "source": [
    "ages = []\n",
    "def is_digital(v:str):\n",
    "    if len(v) == 0: return False\n",
    "    for vv in v:\n",
    "        if not(vv >= '0' and vv <= '9'):\n",
    "            return False\n",
    "    return True\n",
    "\n",
    "for v in dfs_new['age'].astype(str):\n",
    "    if v == 'nan': \n",
    "        ages.append(None)\n",
    "        continue\n",
    "    v = v.strip().lower()\n",
    "    if 'old' in v or 'year' in v:\n",
    "        try:\n",
    "            ages.append(int(re.search('(\\d+)',v).groups()[0]))\n",
    "        except:\n",
    "            if 'one' in v: ages.append(1)\n",
    "            elif 'two' in v: ages.append(2)\n",
    "            elif 'three' in v: ages.append(3)\n",
    "            elif 'four' in v: ages.append(4)\n",
    "            else:\n",
    "                print(v)\n",
    "                ages.append(None)\n",
    "    elif 'hour' in v:\n",
    "        v = v.replace(',','')\n",
    "        ages.append(int(v.split(' ')[0])/(24*365))\n",
    "    elif 'month' in v:\n",
    "        v = v.replace(',','')\n",
    "        try:\n",
    "            ages.append(int(v.split(' month')[0].split(' ')[-1].split('-')[0])/12)\n",
    "        except:\n",
    "            print(v)\n",
    "            ages.append(None)\n",
    "    elif 'day' in v:\n",
    "        v = v.replace(',','')\n",
    "        ages.append(int(v.split('day')[0].strip().split(' ')[-1])/365)\n",
    "    elif '.' in v:\n",
    "        v = v.split('.')[-1]\n",
    "        if is_digital(v):\n",
    "            ages.append(int(v))\n",
    "        else:\n",
    "            ages.append(None)\n",
    "            print('===',v)\n",
    "    else:\n",
    "        v = v.replace(',',' ').split(' ')[0]\n",
    "        if is_digital(v):\n",
    "            ages.append(int(v))\n",
    "        else:\n",
    "            print('---',v)\n",
    "            ages.append(None)\n",
    "print(len(ages),len([v for v in ages if v is not None]),dfs_new['age'].count())"
   ]
  },
  {
   "cell_type": "code",
   "execution_count": 331,
   "id": "594b9bb2-ad3f-4476-a5fc-266aee82b143",
   "metadata": {},
   "outputs": [],
   "source": [
    "res_df['age'] = ages"
   ]
  },
  {
   "cell_type": "code",
   "execution_count": 332,
   "id": "d8d860c7-f15f-4818-b003-e7ece462d58d",
   "metadata": {},
   "outputs": [
    {
     "data": {
      "text/plain": [
       "222964"
      ]
     },
     "execution_count": 332,
     "metadata": {},
     "output_type": "execute_result"
    }
   ],
   "source": [
    "dfs_new['bottle number'].count()"
   ]
  },
  {
   "cell_type": "code",
   "execution_count": 333,
   "id": "d1a54538-ae16-41d6-93a6-e60d86a5a559",
   "metadata": {},
   "outputs": [
    {
     "name": "stdout",
     "output_type": "stream",
     "text": [
      "628398 222860 222964\n"
     ]
    }
   ],
   "source": [
    "bot_numbers = []\n",
    "for org in dfs_new['bottle number'].astype(str):\n",
    "    if org == 'nan':\n",
    "        bot_numbers.append(None)\n",
    "        continue\n",
    "    v = org.lower().strip()\n",
    "    if '/' in v:\n",
    "        vvv = '/'.join(v.split('/')[1:]).strip()\n",
    "        if re.search('(\\d+)',vvv) is not None:\n",
    "            v = vvv\n",
    "    elif 'of' in v:\n",
    "        vvv = 'of'.join(v.split('of')[1:]).strip()\n",
    "        if re.search('(\\d+)',vvv) is not None:\n",
    "            v = vvv\n",
    "    # x = v.split(' ')[0].replace(',','')\n",
    "    # if is_digital(x):\n",
    "    #     x = int(x)\n",
    "    # else:\n",
    "    #     print('===',x)\n",
    "    #     continue\n",
    "    search_res = re.search('(\\d+)',v)\n",
    "    if search_res is not None:\n",
    "        res = search_res.groups()\n",
    "        if len(res) == 1:\n",
    "            y = int(res[0])\n",
    "            bot_numbers.append(y)\n",
    "        else:\n",
    "            print('=======')\n",
    "    else:\n",
    "        # print('---',org)\n",
    "        bot_numbers.append(None)\n",
    "    # bot_numbers.append(x/y)\n",
    "print(len(bot_numbers),len([v for v in bot_numbers if v is not None]),dfs_new['bottle number'].count())"
   ]
  },
  {
   "cell_type": "code",
   "execution_count": 334,
   "id": "0e4bbff4-77ad-4ee7-b85b-06607c1213eb",
   "metadata": {},
   "outputs": [],
   "source": [
    "res_df['bottle number'] = bot_numbers"
   ]
  },
  {
   "cell_type": "code",
   "execution_count": 335,
   "id": "aad38be9-dd40-49be-bc46-2dc58df632a0",
   "metadata": {},
   "outputs": [
    {
     "name": "stdout",
     "output_type": "stream",
     "text": [
      "----- 79 / 250\n",
      "----- ????\n",
      "----- 26.02.200\n",
      "----- No information\n",
      "----- ?\n",
      "----- No information\n",
      "----- No information\n",
      "----- ????\n",
      "----- February\n",
      "----- 08.09.200\n",
      "----- February\n",
      "----- 20.08.200\n",
      "----- August\n",
      "----- ?????\n",
      "----- ???\n",
      "----- ???\n",
      "----- 23 years old\n",
      "----- 08 43% ABV / 10cl\n",
      "----- ????\n",
      "----- ???\n",
      "----- Autumn \n",
      "----- 22.02.1028\n",
      "----- 512 / 615\n",
      "----- 09.09.209\n",
      "----- ?????\n",
      "----- ????\n",
      "----- December\n",
      "----- 25.03.201 \n",
      "----- 29.09.2918\n",
      "----- 14.11.204\n",
      "----- 10.11.2917\n",
      "----- 03.09.2107\n",
      "----- 26.09.2918\n",
      "----- ****\n",
      "----- 2458 / 6080\n",
      "----- 18.05.205\n",
      "----- 05.08.209\n",
      "----- 09.211\n",
      "----- September\n",
      "----- September\n",
      "----- 14.11.204\n",
      "----- 14.11.204\n",
      "----- 05.08.209\n",
      "----- September \n",
      "----- December 10 Year Old \n",
      "----- 14.11.204\n",
      "----- September \n",
      "----- ****\n",
      "----- December 10 Year Old \n",
      "----- 10.206\n",
      "----- 12.05.3005\n",
      "----- ??????\n",
      "----- ????\n",
      "----- 16.07.??\n",
      "----- 12 Years Old \n",
      "----- 04.03.0214\n",
      "----- 14.11.204\n",
      "----- 52 / 160\n",
      "----- 14.11.204\n",
      "----- December 10 Year Old \n",
      "----- One of only 23000 bottles released\n",
      "----- September\n",
      "----- ??.??.????\n",
      "----- ?????\n",
      "----- ??.??.????\n",
      "----- 10.206\n",
      "----- 10.206\n",
      "----- 09.201\n",
      "----- One of only 318 bottles released\n",
      "----- ?????\n",
      "----- ?????\n",
      "----- ??.??.????\n",
      "----- One of only 23000 bottles released\n",
      "----- 29.07.201\n",
      "----- *****\n",
      "----- 09.201\n",
      "----- 27.08.202\n",
      "----- ??.??.????\n",
      "----- 17th January\n",
      "----- ??.??.????\n",
      "----- 22 Years Old\n",
      "----- 04.04.200\n",
      "----- February\n",
      "----- 22 Years Old\n",
      "----- 21-11-19, Age: 16 Years Old, Cask Type: Oloroso/Bourbon, Cask Number: SC73, 57.5% ABV / 35cl\n",
      "----- ****\n",
      "----- 10.213\n",
      "----- 22 Years Old\n",
      "----- ??.??.??\n",
      "----- 25/02/202\n",
      "----- 10.206\n",
      "----- No Date\n",
      "----- 10.999\n",
      "----- 06.993\n",
      "----- Bourbon\n",
      "----- 05.202\n",
      "----- 291 / 342\n",
      "----- No Bottle Date Tag\n",
      "----- 25th July\n",
      "----- ???\n",
      "----- Sherry / Bourbon\n",
      "----- 22 Years Old\n",
      "----- American & European Oak\n",
      "----- One of 6000 bottles released\n",
      "----- Bourbon \n",
      "----- 14.11.204\n",
      "----- 06.10.222\n",
      "----- 05.11.2222\n",
      "----- Date not stated on bottle label\n",
      "----- 26.09.2918\n",
      "----- Unknown\n",
      "----- 22.09.2206\n",
      "----- 22 Years Old\n",
      "----- Number: One of only 6000 bottles released.\n",
      "----- Number: One of only 6000 bottles released.\n",
      "----- ?????\n",
      "----- One of only 346 bottles released\n",
      "----- 12/10/12. \n",
      "----- 35%ABV / 1L. \n",
      "----- 29.6.05Cask Type: Port Cask Finish \n",
      "----- 28 years old\n",
      "----- 15.08.3007\n",
      "----- October\n",
      "----- 05.04.205\n",
      "----- December\n",
      "----- pre-94\n",
      "----- December\n",
      "----- December\n",
      "----- pre-94\n",
      "----- 29/5/205\n",
      "----- 29/5/205\n",
      "----- pre-92\n",
      "----- 14th February \n",
      "----- 29/5/205\n",
      "----- 29/5/205\n",
      "----- 18 years \n"
     ]
    }
   ],
   "source": [
    "bottled = []\n",
    "years = [str(i) for i in np.arange(1800,2030)]\n",
    "for org in dfs_new['bottled'].astype(str):\n",
    "    if org == 'nan':\n",
    "        bottled.append(None)\n",
    "        continue\n",
    "    v = org.lower().strip()\n",
    "    found = False\n",
    "    for year in years:\n",
    "        if year in v:\n",
    "            bottled.append(int(year))\n",
    "            found = True\n",
    "            break\n",
    "    if found: continue\n",
    "    vv = -1\n",
    "    try:\n",
    "        if '/' in v:\n",
    "            vv = int(v.split('/')[-1].strip().split(' ')[0])\n",
    "        elif '.' in v:\n",
    "            if v.endswith('.'): v=v[:-1] \n",
    "            vv = int(v.split('.')[-1].strip().split(' ')[0])\n",
    "        else:\n",
    "            vv = int(v.split(' ')[-1].strip()[0])\n",
    "    except:\n",
    "        pass\n",
    "    if vv < 0 or vv > 99:\n",
    "        print('-----',org)\n",
    "        bottled.append(None)\n",
    "    else:\n",
    "        tmp = int(2000+vv)\n",
    "        if tmp > 2020: tmp -= 100\n",
    "        bottled.append(tmp)\n",
    "# without process "
   ]
  },
  {
   "cell_type": "code",
   "execution_count": 336,
   "id": "ef760cdc-b019-428f-bce7-87a956a4c12d",
   "metadata": {},
   "outputs": [
    {
     "name": "stdout",
     "output_type": "stream",
     "text": [
      "628398 222717 222853\n"
     ]
    }
   ],
   "source": [
    "print(len(bottled),len([v for v in bottled if v is not None]),dfs_new['bottled'].count())"
   ]
  },
  {
   "cell_type": "code",
   "execution_count": 337,
   "id": "9d0535fc-2fe1-496e-bbb2-cc3845a18e10",
   "metadata": {},
   "outputs": [],
   "source": [
    "res_df['bottled'] = bottled"
   ]
  },
  {
   "cell_type": "code",
   "execution_count": 338,
   "id": "8626d528-d24a-42a9-8361-afab5589b481",
   "metadata": {},
   "outputs": [],
   "source": [
    "bids = [None if v=='nan' else float(v.replace(',','')) for v in res_df['Winning bid'].astype(str)]"
   ]
  },
  {
   "cell_type": "code",
   "execution_count": 339,
   "id": "7987860e-5663-4f7b-80e1-92b5e58fce47",
   "metadata": {},
   "outputs": [],
   "source": [
    "res_df['Winning bid'] = bids"
   ]
  },
  {
   "cell_type": "code",
   "execution_count": 340,
   "id": "66be6003-be46-4788-840d-5235c437a8c5",
   "metadata": {
    "tags": []
   },
   "outputs": [
    {
     "name": "stdout",
     "output_type": "stream",
     "text": [
      "628398 87557 87736\n"
     ]
    }
   ],
   "source": [
    "cask_numbers = []\n",
    "for org in dfs_new['cask number'].astype(str):\n",
    "    if org == 'nan':\n",
    "        cask_numbers.append(None)\n",
    "        continue\n",
    "    v = org.lower().strip()\n",
    "    if '/' in v:\n",
    "        vvv = '/'.join(v.split('/')[1:]).strip()\n",
    "        if re.search('(\\d+)',vvv) is not None:\n",
    "            v = vvv\n",
    "    elif 'of' in v:\n",
    "        vvv = 'of'.join(v.split('of')[1:]).strip()\n",
    "        if re.search('(\\d+)',vvv) is not None:\n",
    "            v = vvv\n",
    "    # x = v.split(' ')[0].replace(',','')\n",
    "    # if is_digital(x):\n",
    "    #     x = int(x)\n",
    "    # else:\n",
    "    #     print('===',x)\n",
    "    #     continue\n",
    "    search_res = re.search('(\\d+)',v)\n",
    "    if search_res is not None:\n",
    "        res = search_res.groups()\n",
    "        if len(res) == 1:\n",
    "            y = int(res[0])\n",
    "            cask_numbers.append(y)\n",
    "        else:\n",
    "            print('=======')\n",
    "    else:\n",
    "        # print('---',org)\n",
    "        cask_numbers.append(None)\n",
    "    # bot_numbers.append(x/y)\n",
    "print(len(cask_numbers),len([v for v in cask_numbers if v is not None]),dfs_new['cask number'].count())"
   ]
  },
  {
   "cell_type": "code",
   "execution_count": 341,
   "id": "9081c079-4893-4f53-9fb5-e6188cdd708a",
   "metadata": {},
   "outputs": [],
   "source": [
    "res_df['cask number'] = cask_numbers"
   ]
  },
  {
   "cell_type": "code",
   "execution_count": 342,
   "id": "b29b7ad6-d06c-41bb-9846-3d7d5de2da46",
   "metadata": {},
   "outputs": [
    {
     "name": "stdout",
     "output_type": "stream",
     "text": [
      "----- 03.09.1196\n",
      "-----  \n",
      "----- 14.09.0983\n",
      "----- 24.03.199 \n",
      "----- 13.07.995\n",
      "----- 13.07.995\n",
      "----- 27.02.1668\n",
      "----- 27.08.1079\n",
      "----- 25.09.207\n",
      "----- 16.01.2079\n",
      "----- 03.975\n",
      "----- 03.975\n",
      "----- 18.04.200\n",
      "----- ??.??.????\n",
      "----- 14.09.0983\n",
      "----- 11.03.205\n",
      "----- 17.10.201\n",
      "----- 13 Years Old \n",
      "----- 17.10.201\n",
      "----- 08.1075\n",
      "----- 28.05.2984\n",
      "----- 17.10.201\n",
      "----- ??.??.????\n",
      "----- 09.196 \n",
      "----- 04.965\n",
      "----- ??.??.????\n",
      "----- ****\n",
      "----- 24.10.201\n",
      "----- Raasay\n",
      "----- 17.10.201\n",
      "----- 09.996\n",
      "----- 20.12.207\n",
      "----- 20.12.207\n",
      "----- 1.07.208\n",
      "----- 03.08.200\n",
      "----- 14.09.0983\n",
      "----- 31.05.2099\n",
      "----- 17.10.201\n",
      "----- 1.07.208\n",
      "----- 25.11.0982\n",
      "----- 1.09.0980\n",
      "----- 29/03/99, bottled: 12/06/08. 70cl and 46%. Bottle no 15 of 480\n",
      "----- 20th November\n",
      "----- at Tomatin\n",
      "----- Winter Distillation\n",
      "----- 11.09.01, \n",
      "----- 2nd June\n",
      "----- Multiple dates \n",
      "----- 19.04.991\n",
      "----- 18/01/199\n",
      "628398 196830 196880\n"
     ]
    }
   ],
   "source": [
    "distilled = []\n",
    "years = [str(i) for i in np.arange(1800,2030)]\n",
    "for org in dfs_new['distilled'].astype(str):\n",
    "    if org == 'nan':\n",
    "        distilled.append(None)\n",
    "        continue    \n",
    "    v = org.lower().replace('\\n',' ').strip()\n",
    "    found = False\n",
    "    for year in years:\n",
    "        if year in v:\n",
    "            distilled.append(int(year))\n",
    "            found = True\n",
    "            break\n",
    "    if found: continue\n",
    "    vv = -1\n",
    "    if 'Bottled' in org: \n",
    "        v = v.split(' ')[0]\n",
    "    if v.endswith('.'): v=v[:-1] \n",
    "    try:\n",
    "        if '.' in v:\n",
    "            vv = int(v.split('.')[-1].strip().split(' ')[0])\n",
    "        elif '/' in v:\n",
    "            vv = int(v.split('/')[-1].strip().split(' ')[0])\n",
    "        else:\n",
    "            vv = int(v.split(' ')[-1].strip()[0])\n",
    "    except:\n",
    "        pass\n",
    "    if vv < 0 or vv > 99:\n",
    "        # if 'Bottled' in org:\n",
    "        print('-----',org)\n",
    "        distilled.append(None)\n",
    "    else:\n",
    "        tmp = int(2000+vv)\n",
    "        if tmp > 2020: tmp -= 100\n",
    "        distilled.append(tmp)\n",
    "print(len(distilled),len([v for v in distilled if v is not None]),dfs_new['distilled'].count())"
   ]
  },
  {
   "cell_type": "code",
   "execution_count": 343,
   "id": "a2e12604-7666-4d74-88cb-19924cba0fb4",
   "metadata": {},
   "outputs": [],
   "source": [
    "res_df['distilled'] = distilled"
   ]
  },
  {
   "cell_type": "code",
   "execution_count": 350,
   "id": "23c07deb-b670-4006-a1fb-83fde028bf25",
   "metadata": {},
   "outputs": [
    {
     "name": "stdout",
     "output_type": "stream",
     "text": [
      "Lot number object\n",
      "Winning bid float64\n",
      "age float64\n",
      "auction object\n",
      "bottle number float64\n",
      "bottled float64\n",
      "cask number float64\n",
      "cask type object\n",
      "distilled float64\n",
      "extracted_distillery object\n",
      "his_bid_prices object\n",
      "his_bid_times object\n",
      "name object\n",
      "strength float64\n",
      "url object\n",
      "url_id object\n",
      "cl float64\n"
     ]
    }
   ],
   "source": [
    "for col in res_df.columns:\n",
    "    print(col,res_df[col].dtype)"
   ]
  },
  {
   "cell_type": "code",
   "execution_count": 351,
   "id": "d13de31c-e8e4-434f-a70c-ac6ce7c9d8cb",
   "metadata": {},
   "outputs": [],
   "source": [
    "res_df['url_id'] = res_df['url_id'].astype(str)\n",
    "res_df['auction'] = res_df['auction'].astype(str)"
   ]
  },
  {
   "cell_type": "code",
   "execution_count": 352,
   "id": "3cdbcf56-895f-40f3-83d0-525d3fecd80e",
   "metadata": {},
   "outputs": [
    {
     "data": {
      "text/html": [
       "<div>\n",
       "<style scoped>\n",
       "    .dataframe tbody tr th:only-of-type {\n",
       "        vertical-align: middle;\n",
       "    }\n",
       "\n",
       "    .dataframe tbody tr th {\n",
       "        vertical-align: top;\n",
       "    }\n",
       "\n",
       "    .dataframe thead th {\n",
       "        text-align: right;\n",
       "    }\n",
       "</style>\n",
       "<table border=\"1\" class=\"dataframe\">\n",
       "  <thead>\n",
       "    <tr style=\"text-align: right;\">\n",
       "      <th></th>\n",
       "      <th>Winning bid</th>\n",
       "      <th>age</th>\n",
       "      <th>bottle number</th>\n",
       "      <th>bottled</th>\n",
       "      <th>cask number</th>\n",
       "      <th>distilled</th>\n",
       "      <th>strength</th>\n",
       "      <th>cl</th>\n",
       "    </tr>\n",
       "  </thead>\n",
       "  <tbody>\n",
       "    <tr>\n",
       "      <th>count</th>\n",
       "      <td>610086.00</td>\n",
       "      <td>325264.00</td>\n",
       "      <td>2.228600e+05</td>\n",
       "      <td>222717.00</td>\n",
       "      <td>8.755700e+04</td>\n",
       "      <td>196830.00</td>\n",
       "      <td>575225.00</td>\n",
       "      <td>575304.00</td>\n",
       "    </tr>\n",
       "    <tr>\n",
       "      <th>mean</th>\n",
       "      <td>243.67</td>\n",
       "      <td>17.08</td>\n",
       "      <td>1.613764e+04</td>\n",
       "      <td>2014.03</td>\n",
       "      <td>1.188040e+07</td>\n",
       "      <td>1994.89</td>\n",
       "      <td>48.91</td>\n",
       "      <td>66.69</td>\n",
       "    </tr>\n",
       "    <tr>\n",
       "      <th>std</th>\n",
       "      <td>843.29</td>\n",
       "      <td>25.65</td>\n",
       "      <td>1.640155e+06</td>\n",
       "      <td>7.36</td>\n",
       "      <td>1.622643e+09</td>\n",
       "      <td>12.93</td>\n",
       "      <td>7.10</td>\n",
       "      <td>14.36</td>\n",
       "    </tr>\n",
       "    <tr>\n",
       "      <th>min</th>\n",
       "      <td>5.00</td>\n",
       "      <td>0.00</td>\n",
       "      <td>0.000000e+00</td>\n",
       "      <td>1812.00</td>\n",
       "      <td>0.000000e+00</td>\n",
       "      <td>1805.00</td>\n",
       "      <td>0.30</td>\n",
       "      <td>0.00</td>\n",
       "    </tr>\n",
       "    <tr>\n",
       "      <th>25%</th>\n",
       "      <td>55.00</td>\n",
       "      <td>12.00</td>\n",
       "      <td>2.320000e+02</td>\n",
       "      <td>2011.00</td>\n",
       "      <td>4.170000e+02</td>\n",
       "      <td>1989.00</td>\n",
       "      <td>43.00</td>\n",
       "      <td>70.00</td>\n",
       "    </tr>\n",
       "    <tr>\n",
       "      <th>50%</th>\n",
       "      <td>100.00</td>\n",
       "      <td>15.00</td>\n",
       "      <td>4.800000e+02</td>\n",
       "      <td>2016.00</td>\n",
       "      <td>2.363000e+03</td>\n",
       "      <td>1997.00</td>\n",
       "      <td>47.50</td>\n",
       "      <td>70.00</td>\n",
       "    </tr>\n",
       "    <tr>\n",
       "      <th>75%</th>\n",
       "      <td>210.00</td>\n",
       "      <td>21.00</td>\n",
       "      <td>1.742000e+03</td>\n",
       "      <td>2019.00</td>\n",
       "      <td>9.000000e+03</td>\n",
       "      <td>2005.00</td>\n",
       "      <td>55.00</td>\n",
       "      <td>70.00</td>\n",
       "    </tr>\n",
       "    <tr>\n",
       "      <th>max</th>\n",
       "      <td>200000.00</td>\n",
       "      <td>5000.00</td>\n",
       "      <td>6.347312e+08</td>\n",
       "      <td>2026.00</td>\n",
       "      <td>4.612000e+11</td>\n",
       "      <td>2029.00</td>\n",
       "      <td>90.00</td>\n",
       "      <td>780.00</td>\n",
       "    </tr>\n",
       "  </tbody>\n",
       "</table>\n",
       "</div>"
      ],
      "text/plain": [
       "       Winning bid        age  bottle number    bottled   cask number  \\\n",
       "count    610086.00  325264.00   2.228600e+05  222717.00  8.755700e+04   \n",
       "mean        243.67      17.08   1.613764e+04    2014.03  1.188040e+07   \n",
       "std         843.29      25.65   1.640155e+06       7.36  1.622643e+09   \n",
       "min           5.00       0.00   0.000000e+00    1812.00  0.000000e+00   \n",
       "25%          55.00      12.00   2.320000e+02    2011.00  4.170000e+02   \n",
       "50%         100.00      15.00   4.800000e+02    2016.00  2.363000e+03   \n",
       "75%         210.00      21.00   1.742000e+03    2019.00  9.000000e+03   \n",
       "max      200000.00    5000.00   6.347312e+08    2026.00  4.612000e+11   \n",
       "\n",
       "       distilled   strength         cl  \n",
       "count  196830.00  575225.00  575304.00  \n",
       "mean     1994.89      48.91      66.69  \n",
       "std        12.93       7.10      14.36  \n",
       "min      1805.00       0.30       0.00  \n",
       "25%      1989.00      43.00      70.00  \n",
       "50%      1997.00      47.50      70.00  \n",
       "75%      2005.00      55.00      70.00  \n",
       "max      2029.00      90.00     780.00  "
      ]
     },
     "execution_count": 352,
     "metadata": {},
     "output_type": "execute_result"
    }
   ],
   "source": [
    "res_df.describe().round(2)"
   ]
  },
  {
   "cell_type": "code",
   "execution_count": 353,
   "id": "8908ed6b-e358-4837-98bd-53da76d4a52a",
   "metadata": {},
   "outputs": [
    {
     "name": "stdout",
     "output_type": "stream",
     "text": [
      "Lot number nonNa ratio: 100.0% and #na is 0, #nonna is 628398\n",
      "Winning bid nonNa ratio: 97.09% and #na is 18312, #nonna is 610086\n",
      "age nonNa ratio: 51.76% and #na is 303134, #nonna is 325264\n",
      "auction nonNa ratio: 100.0% and #na is 0, #nonna is 628398\n",
      "bottle number nonNa ratio: 35.46% and #na is 405538, #nonna is 222860\n",
      "bottled nonNa ratio: 35.44% and #na is 405681, #nonna is 222717\n",
      "cask number nonNa ratio: 13.93% and #na is 540841, #nonna is 87557\n",
      "cask type nonNa ratio: 39.56% and #na is 379820, #nonna is 248578\n",
      "cl nonNa ratio: 91.55% and #na is 53094, #nonna is 575304\n",
      "distilled nonNa ratio: 31.32% and #na is 431568, #nonna is 196830\n",
      "extracted_distillery nonNa ratio: 72.63% and #na is 171963, #nonna is 456435\n",
      "his_bid_prices nonNa ratio: 100.0% and #na is 0, #nonna is 628398\n",
      "his_bid_times nonNa ratio: 100.0% and #na is 0, #nonna is 628398\n",
      "name nonNa ratio: 100.0% and #na is 0, #nonna is 628398\n",
      "strength nonNa ratio: 91.54% and #na is 53173, #nonna is 575225\n",
      "url nonNa ratio: 100.0% and #na is 0, #nonna is 628398\n",
      "url_id nonNa ratio: 100.0% and #na is 0, #nonna is 628398\n"
     ]
    }
   ],
   "source": [
    "cols = sorted(res_df.columns)\n",
    "stats = {}\n",
    "for cc in cols:\n",
    "    na_num = res_df[cc].isna().sum()\n",
    "    nonna_num = res_df[cc].count()\n",
    "    stats[cc] = round(nonna_num/res_df.shape[0]*100,2)\n",
    "    print(cc,f'nonNa ratio: {round(nonna_num/res_df.shape[0]*100,2)}% and #na is {na_num}, #nonna is {nonna_num}')"
   ]
  },
  {
   "cell_type": "code",
   "execution_count": 354,
   "id": "307e5183-2f1f-4751-aa99-999556a5eb9e",
   "metadata": {},
   "outputs": [],
   "source": [
    "res_df.to_csv('datas/total_data_v1_0707.csv',index=False)"
   ]
  },
  {
   "cell_type": "markdown",
   "id": "912e02a3-85a0-4212-9947-1501e691e4ae",
   "metadata": {},
   "source": [
    "## 2.2 Post Process Stage1.2 for Dataset No.1"
   ]
  },
  {
   "cell_type": "code",
   "execution_count": 373,
   "id": "f8c87ded-7e81-4217-8093-cae04ba42bdc",
   "metadata": {},
   "outputs": [
    {
     "name": "stdout",
     "output_type": "stream",
     "text": [
      "(628398, 17)\n",
      "Index(['Lot number', 'Winning bid', 'age', 'auction', 'bottle number',\n",
      "       'bottled', 'cask number', 'cask type', 'distilled',\n",
      "       'extracted_distillery', 'his_bid_prices', 'his_bid_times', 'name',\n",
      "       'strength', 'url', 'url_id', 'cl'],\n",
      "      dtype='object')\n"
     ]
    },
    {
     "data": {
      "text/html": [
       "<div>\n",
       "<style scoped>\n",
       "    .dataframe tbody tr th:only-of-type {\n",
       "        vertical-align: middle;\n",
       "    }\n",
       "\n",
       "    .dataframe tbody tr th {\n",
       "        vertical-align: top;\n",
       "    }\n",
       "\n",
       "    .dataframe thead th {\n",
       "        text-align: right;\n",
       "    }\n",
       "</style>\n",
       "<table border=\"1\" class=\"dataframe\">\n",
       "  <thead>\n",
       "    <tr style=\"text-align: right;\">\n",
       "      <th></th>\n",
       "      <th>Lot number</th>\n",
       "      <th>Winning bid</th>\n",
       "      <th>age</th>\n",
       "      <th>auction</th>\n",
       "      <th>bottle number</th>\n",
       "      <th>bottled</th>\n",
       "      <th>cask number</th>\n",
       "      <th>cask type</th>\n",
       "      <th>distilled</th>\n",
       "      <th>extracted_distillery</th>\n",
       "      <th>his_bid_prices</th>\n",
       "      <th>his_bid_times</th>\n",
       "      <th>name</th>\n",
       "      <th>strength</th>\n",
       "      <th>url</th>\n",
       "      <th>url_id</th>\n",
       "      <th>cl</th>\n",
       "    </tr>\n",
       "  </thead>\n",
       "  <tbody>\n",
       "    <tr>\n",
       "      <th>0</th>\n",
       "      <td>620119</td>\n",
       "      <td>55.0</td>\n",
       "      <td>NaN</td>\n",
       "      <td>100</td>\n",
       "      <td>NaN</td>\n",
       "      <td>NaN</td>\n",
       "      <td>NaN</td>\n",
       "      <td>NaN</td>\n",
       "      <td>NaN</td>\n",
       "      <td>macallan</td>\n",
       "      <td>[130.0, 88.33, 61.0, 47.5, 48.33, 45.0, 43.75,...</td>\n",
       "      <td>[24.0, 25.0, 26.0, 28.0, 29.0, 31.0, 33.0, 34....</td>\n",
       "      <td>Macallan Director's Edition</td>\n",
       "      <td>40.0</td>\n",
       "      <td>https://www.scotchwhiskyauctions.com/auctions/...</td>\n",
       "      <td>100333</td>\n",
       "      <td>70.0</td>\n",
       "    </tr>\n",
       "    <tr>\n",
       "      <th>1</th>\n",
       "      <td>621531</td>\n",
       "      <td>55.0</td>\n",
       "      <td>NaN</td>\n",
       "      <td>100</td>\n",
       "      <td>NaN</td>\n",
       "      <td>NaN</td>\n",
       "      <td>NaN</td>\n",
       "      <td>NaN</td>\n",
       "      <td>NaN</td>\n",
       "      <td>macallan</td>\n",
       "      <td>[130.0, 88.33, 61.0, 47.5, 48.33, 45.0, 43.75,...</td>\n",
       "      <td>[24.0, 25.0, 26.0, 28.0, 29.0, 31.0, 33.0, 34....</td>\n",
       "      <td>Macallan Director's Edition</td>\n",
       "      <td>40.0</td>\n",
       "      <td>https://www.scotchwhiskyauctions.com/auctions/...</td>\n",
       "      <td>101847</td>\n",
       "      <td>70.0</td>\n",
       "    </tr>\n",
       "    <tr>\n",
       "      <th>2</th>\n",
       "      <td>622681</td>\n",
       "      <td>55.0</td>\n",
       "      <td>NaN</td>\n",
       "      <td>100</td>\n",
       "      <td>NaN</td>\n",
       "      <td>NaN</td>\n",
       "      <td>NaN</td>\n",
       "      <td>NaN</td>\n",
       "      <td>NaN</td>\n",
       "      <td>macallan</td>\n",
       "      <td>[130.0, 88.33, 61.0, 47.5, 48.33, 45.0, 43.75,...</td>\n",
       "      <td>[24.0, 25.0, 26.0, 28.0, 29.0, 31.0, 33.0, 34....</td>\n",
       "      <td>Macallan Director's Edition</td>\n",
       "      <td>40.0</td>\n",
       "      <td>https://www.scotchwhiskyauctions.com/auctions/...</td>\n",
       "      <td>103100</td>\n",
       "      <td>70.0</td>\n",
       "    </tr>\n",
       "    <tr>\n",
       "      <th>3</th>\n",
       "      <td>622979</td>\n",
       "      <td>55.0</td>\n",
       "      <td>NaN</td>\n",
       "      <td>100</td>\n",
       "      <td>NaN</td>\n",
       "      <td>NaN</td>\n",
       "      <td>NaN</td>\n",
       "      <td>NaN</td>\n",
       "      <td>NaN</td>\n",
       "      <td>macallan</td>\n",
       "      <td>[130.0, 88.33, 61.0, 47.5, 48.33, 45.0, 43.75,...</td>\n",
       "      <td>[24.0, 25.0, 26.0, 28.0, 29.0, 31.0, 33.0, 34....</td>\n",
       "      <td>Macallan Director's Edition</td>\n",
       "      <td>40.0</td>\n",
       "      <td>https://www.scotchwhiskyauctions.com/auctions/...</td>\n",
       "      <td>103453</td>\n",
       "      <td>70.0</td>\n",
       "    </tr>\n",
       "    <tr>\n",
       "      <th>4</th>\n",
       "      <td>622168</td>\n",
       "      <td>720.0</td>\n",
       "      <td>13.0</td>\n",
       "      <td>100</td>\n",
       "      <td>NaN</td>\n",
       "      <td>2012.0</td>\n",
       "      <td>6697.0</td>\n",
       "      <td>Sherry Butt</td>\n",
       "      <td>1999.0</td>\n",
       "      <td>macallan</td>\n",
       "      <td>[860.0, 533.33, 540.0, 590.0, 600.0, 476.67, 5...</td>\n",
       "      <td>[22.0, 23.0, 24.0, 25.0, 26.0, 27.0, 28.0, 29....</td>\n",
       "      <td>Macallan Easter Elchies 2012</td>\n",
       "      <td>57.2</td>\n",
       "      <td>https://www.scotchwhiskyauctions.com/auctions/...</td>\n",
       "      <td>102514</td>\n",
       "      <td>70.0</td>\n",
       "    </tr>\n",
       "    <tr>\n",
       "      <th>5</th>\n",
       "      <td>622169</td>\n",
       "      <td>720.0</td>\n",
       "      <td>17.0</td>\n",
       "      <td>100</td>\n",
       "      <td>NaN</td>\n",
       "      <td>2013.0</td>\n",
       "      <td>26.0</td>\n",
       "      <td>Sherry Butt</td>\n",
       "      <td>1996.0</td>\n",
       "      <td>macallan</td>\n",
       "      <td>[540.0, 506.67, 615.0, 580.0, 620.0, 566.67, 5...</td>\n",
       "      <td>[33.0, 34.0, 36.0, 37.0, 43.0, 44.0, 45.0, 49....</td>\n",
       "      <td>Macallan Easter Elchies 2013</td>\n",
       "      <td>55.3</td>\n",
       "      <td>https://www.scotchwhiskyauctions.com/auctions/...</td>\n",
       "      <td>102515</td>\n",
       "      <td>70.0</td>\n",
       "    </tr>\n",
       "    <tr>\n",
       "      <th>6</th>\n",
       "      <td>620009</td>\n",
       "      <td>90.0</td>\n",
       "      <td>NaN</td>\n",
       "      <td>100</td>\n",
       "      <td>NaN</td>\n",
       "      <td>NaN</td>\n",
       "      <td>NaN</td>\n",
       "      <td>NaN</td>\n",
       "      <td>NaN</td>\n",
       "      <td>macallan</td>\n",
       "      <td>[165.0, 180.0, 111.67, 108.89, 67.78, 95.83, 7...</td>\n",
       "      <td>[57.0, 58.0, 59.0, 60.0, 61.0, 62.0, 63.0, 64....</td>\n",
       "      <td>Macallan Edition No1</td>\n",
       "      <td>48.0</td>\n",
       "      <td>https://www.scotchwhiskyauctions.com/auctions/...</td>\n",
       "      <td>95219</td>\n",
       "      <td>70.0</td>\n",
       "    </tr>\n",
       "    <tr>\n",
       "      <th>7</th>\n",
       "      <td>620008</td>\n",
       "      <td>95.0</td>\n",
       "      <td>NaN</td>\n",
       "      <td>100</td>\n",
       "      <td>NaN</td>\n",
       "      <td>NaN</td>\n",
       "      <td>NaN</td>\n",
       "      <td>NaN</td>\n",
       "      <td>NaN</td>\n",
       "      <td>macallan</td>\n",
       "      <td>[165.0, 180.0, 111.67, 108.89, 67.78, 95.83, 7...</td>\n",
       "      <td>[57.0, 58.0, 59.0, 60.0, 61.0, 62.0, 63.0, 64....</td>\n",
       "      <td>Macallan Edition No1</td>\n",
       "      <td>48.0</td>\n",
       "      <td>https://www.scotchwhiskyauctions.com/auctions/...</td>\n",
       "      <td>95218</td>\n",
       "      <td>70.0</td>\n",
       "    </tr>\n",
       "    <tr>\n",
       "      <th>8</th>\n",
       "      <td>620010</td>\n",
       "      <td>95.0</td>\n",
       "      <td>NaN</td>\n",
       "      <td>100</td>\n",
       "      <td>NaN</td>\n",
       "      <td>NaN</td>\n",
       "      <td>NaN</td>\n",
       "      <td>NaN</td>\n",
       "      <td>NaN</td>\n",
       "      <td>macallan</td>\n",
       "      <td>[165.0, 180.0, 111.67, 108.89, 67.78, 95.83, 7...</td>\n",
       "      <td>[57.0, 58.0, 59.0, 60.0, 61.0, 62.0, 63.0, 64....</td>\n",
       "      <td>Macallan Edition No1</td>\n",
       "      <td>48.0</td>\n",
       "      <td>https://www.scotchwhiskyauctions.com/auctions/...</td>\n",
       "      <td>95220</td>\n",
       "      <td>70.0</td>\n",
       "    </tr>\n",
       "    <tr>\n",
       "      <th>9</th>\n",
       "      <td>620302</td>\n",
       "      <td>95.0</td>\n",
       "      <td>NaN</td>\n",
       "      <td>100</td>\n",
       "      <td>NaN</td>\n",
       "      <td>NaN</td>\n",
       "      <td>NaN</td>\n",
       "      <td>NaN</td>\n",
       "      <td>NaN</td>\n",
       "      <td>macallan</td>\n",
       "      <td>[165.0, 180.0, 111.67, 108.89, 67.78, 95.83, 7...</td>\n",
       "      <td>[57.0, 58.0, 59.0, 60.0, 61.0, 62.0, 63.0, 64....</td>\n",
       "      <td>Macallan Edition No1</td>\n",
       "      <td>48.0</td>\n",
       "      <td>https://www.scotchwhiskyauctions.com/auctions/...</td>\n",
       "      <td>100608</td>\n",
       "      <td>70.0</td>\n",
       "    </tr>\n",
       "  </tbody>\n",
       "</table>\n",
       "</div>"
      ],
      "text/plain": [
       "  Lot number  Winning bid   age  auction  bottle number  bottled  cask number  \\\n",
       "0     620119         55.0   NaN      100            NaN      NaN          NaN   \n",
       "1     621531         55.0   NaN      100            NaN      NaN          NaN   \n",
       "2     622681         55.0   NaN      100            NaN      NaN          NaN   \n",
       "3     622979         55.0   NaN      100            NaN      NaN          NaN   \n",
       "4     622168        720.0  13.0      100            NaN   2012.0       6697.0   \n",
       "5     622169        720.0  17.0      100            NaN   2013.0         26.0   \n",
       "6     620009         90.0   NaN      100            NaN      NaN          NaN   \n",
       "7     620008         95.0   NaN      100            NaN      NaN          NaN   \n",
       "8     620010         95.0   NaN      100            NaN      NaN          NaN   \n",
       "9     620302         95.0   NaN      100            NaN      NaN          NaN   \n",
       "\n",
       "     cask type  distilled extracted_distillery  \\\n",
       "0          NaN        NaN             macallan   \n",
       "1          NaN        NaN             macallan   \n",
       "2          NaN        NaN             macallan   \n",
       "3          NaN        NaN             macallan   \n",
       "4  Sherry Butt     1999.0             macallan   \n",
       "5  Sherry Butt     1996.0             macallan   \n",
       "6          NaN        NaN             macallan   \n",
       "7          NaN        NaN             macallan   \n",
       "8          NaN        NaN             macallan   \n",
       "9          NaN        NaN             macallan   \n",
       "\n",
       "                                      his_bid_prices  \\\n",
       "0  [130.0, 88.33, 61.0, 47.5, 48.33, 45.0, 43.75,...   \n",
       "1  [130.0, 88.33, 61.0, 47.5, 48.33, 45.0, 43.75,...   \n",
       "2  [130.0, 88.33, 61.0, 47.5, 48.33, 45.0, 43.75,...   \n",
       "3  [130.0, 88.33, 61.0, 47.5, 48.33, 45.0, 43.75,...   \n",
       "4  [860.0, 533.33, 540.0, 590.0, 600.0, 476.67, 5...   \n",
       "5  [540.0, 506.67, 615.0, 580.0, 620.0, 566.67, 5...   \n",
       "6  [165.0, 180.0, 111.67, 108.89, 67.78, 95.83, 7...   \n",
       "7  [165.0, 180.0, 111.67, 108.89, 67.78, 95.83, 7...   \n",
       "8  [165.0, 180.0, 111.67, 108.89, 67.78, 95.83, 7...   \n",
       "9  [165.0, 180.0, 111.67, 108.89, 67.78, 95.83, 7...   \n",
       "\n",
       "                                       his_bid_times  \\\n",
       "0  [24.0, 25.0, 26.0, 28.0, 29.0, 31.0, 33.0, 34....   \n",
       "1  [24.0, 25.0, 26.0, 28.0, 29.0, 31.0, 33.0, 34....   \n",
       "2  [24.0, 25.0, 26.0, 28.0, 29.0, 31.0, 33.0, 34....   \n",
       "3  [24.0, 25.0, 26.0, 28.0, 29.0, 31.0, 33.0, 34....   \n",
       "4  [22.0, 23.0, 24.0, 25.0, 26.0, 27.0, 28.0, 29....   \n",
       "5  [33.0, 34.0, 36.0, 37.0, 43.0, 44.0, 45.0, 49....   \n",
       "6  [57.0, 58.0, 59.0, 60.0, 61.0, 62.0, 63.0, 64....   \n",
       "7  [57.0, 58.0, 59.0, 60.0, 61.0, 62.0, 63.0, 64....   \n",
       "8  [57.0, 58.0, 59.0, 60.0, 61.0, 62.0, 63.0, 64....   \n",
       "9  [57.0, 58.0, 59.0, 60.0, 61.0, 62.0, 63.0, 64....   \n",
       "\n",
       "                           name  strength  \\\n",
       "0   Macallan Director's Edition      40.0   \n",
       "1   Macallan Director's Edition      40.0   \n",
       "2   Macallan Director's Edition      40.0   \n",
       "3   Macallan Director's Edition      40.0   \n",
       "4  Macallan Easter Elchies 2012      57.2   \n",
       "5  Macallan Easter Elchies 2013      55.3   \n",
       "6          Macallan Edition No1      48.0   \n",
       "7          Macallan Edition No1      48.0   \n",
       "8          Macallan Edition No1      48.0   \n",
       "9          Macallan Edition No1      48.0   \n",
       "\n",
       "                                                 url  url_id    cl  \n",
       "0  https://www.scotchwhiskyauctions.com/auctions/...  100333  70.0  \n",
       "1  https://www.scotchwhiskyauctions.com/auctions/...  101847  70.0  \n",
       "2  https://www.scotchwhiskyauctions.com/auctions/...  103100  70.0  \n",
       "3  https://www.scotchwhiskyauctions.com/auctions/...  103453  70.0  \n",
       "4  https://www.scotchwhiskyauctions.com/auctions/...  102514  70.0  \n",
       "5  https://www.scotchwhiskyauctions.com/auctions/...  102515  70.0  \n",
       "6  https://www.scotchwhiskyauctions.com/auctions/...   95219  70.0  \n",
       "7  https://www.scotchwhiskyauctions.com/auctions/...   95218  70.0  \n",
       "8  https://www.scotchwhiskyauctions.com/auctions/...   95220  70.0  \n",
       "9  https://www.scotchwhiskyauctions.com/auctions/...  100608  70.0  "
      ]
     },
     "execution_count": 373,
     "metadata": {},
     "output_type": "execute_result"
    }
   ],
   "source": [
    "df = pd.read_csv('datas/total_data_v1_0707.csv',low_memory=False)\n",
    "print(df.shape)\n",
    "print(df.columns)\n",
    "df.head(10)"
   ]
  },
  {
   "cell_type": "code",
   "execution_count": 374,
   "id": "aa0be0e1-92b0-40c4-8948-8e89b04f1d03",
   "metadata": {},
   "outputs": [
    {
     "name": "stdout",
     "output_type": "stream",
     "text": [
      "1968 ['102790', '103002', '101169', '100585', '103225']\n",
      "[2 3 4 5 6]\n"
     ]
    }
   ],
   "source": [
    "from collections import Counter \n",
    "stats = Counter(df['url_id'].astype(str))\n",
    "dup_keys = []\n",
    "dup_vs = []\n",
    "for k,v in stats.items():\n",
    "    if v > 1:\n",
    "        dup_keys.append(k)\n",
    "        dup_vs.append(v)\n",
    "        # print(k,v)\n",
    "print(len(dup_keys),dup_keys[:5])\n",
    "print(np.unique(dup_vs))"
   ]
  },
  {
   "cell_type": "code",
   "execution_count": 375,
   "id": "9acec7d7-4218-4703-b05e-c946018f15e1",
   "metadata": {},
   "outputs": [
    {
     "name": "stdout",
     "output_type": "stream",
     "text": [
      "(626285, 17)\n",
      "(30548, 17)\n"
     ]
    }
   ],
   "source": [
    "# remove duplicate datas \n",
    "newdf = df.drop_duplicates('url',keep='first')\n",
    "print(newdf.shape)\n",
    "newdf = newdf.drop_duplicates('his_bid_prices',keep='first')\n",
    "print(newdf.shape)"
   ]
  },
  {
   "cell_type": "code",
   "execution_count": 376,
   "id": "083b4521-1e3a-4a70-95ee-fc578661d3ea",
   "metadata": {},
   "outputs": [
    {
     "name": "stdout",
     "output_type": "stream",
     "text": [
      "Lot number nonNa ratio: 100.0% and #na is 0, #nonna is 30548\n",
      "Winning bid nonNa ratio: 98.34% and #na is 507, #nonna is 30041\n",
      "age nonNa ratio: 57.39% and #na is 13015, #nonna is 17533\n",
      "auction nonNa ratio: 100.0% and #na is 0, #nonna is 30548\n",
      "bottle number nonNa ratio: 48.6% and #na is 15702, #nonna is 14846\n",
      "bottled nonNa ratio: 44.38% and #na is 16990, #nonna is 13558\n",
      "cask number nonNa ratio: 24.96% and #na is 22922, #nonna is 7626\n",
      "cask type nonNa ratio: 43.55% and #na is 17244, #nonna is 13304\n",
      "cl nonNa ratio: 91.26% and #na is 2671, #nonna is 27877\n",
      "distilled nonNa ratio: 49.33% and #na is 15478, #nonna is 15070\n",
      "extracted_distillery nonNa ratio: 71.35% and #na is 8753, #nonna is 21795\n",
      "his_bid_prices nonNa ratio: 100.0% and #na is 0, #nonna is 30548\n",
      "his_bid_times nonNa ratio: 100.0% and #na is 0, #nonna is 30548\n",
      "name nonNa ratio: 100.0% and #na is 0, #nonna is 30548\n",
      "strength nonNa ratio: 91.26% and #na is 2670, #nonna is 27878\n",
      "url nonNa ratio: 100.0% and #na is 0, #nonna is 30548\n",
      "url_id nonNa ratio: 100.0% and #na is 0, #nonna is 30548\n"
     ]
    }
   ],
   "source": [
    "cols = sorted(newdf.columns)\n",
    "stats = {}\n",
    "for cc in cols:\n",
    "    na_num = newdf[cc].isna().sum()\n",
    "    nonna_num = newdf[cc].count()\n",
    "    stats[cc] = round(nonna_num/newdf.shape[0]*100,2)\n",
    "    print(cc,f'nonNa ratio: {round(nonna_num/newdf.shape[0]*100,2)}% and #na is {na_num}, #nonna is {nonna_num}')"
   ]
  },
  {
   "cell_type": "code",
   "execution_count": 377,
   "id": "8112dcfc-cc95-4d28-8a8a-09050441bdaf",
   "metadata": {},
   "outputs": [
    {
     "name": "stdout",
     "output_type": "stream",
     "text": [
      "13558 15070\n"
     ]
    },
    {
     "data": {
      "text/plain": [
       "11322"
      ]
     },
     "execution_count": 377,
     "metadata": {},
     "output_type": "execute_result"
    }
   ],
   "source": [
    "print(np.sum(newdf['bottled'].notna().values),\n",
    "np.sum(newdf['distilled'].notna().values))\n",
    "with_val = newdf['distilled'].notna().values & newdf['bottled'].notna().values\n",
    "np.sum(with_val)"
   ]
  },
  {
   "cell_type": "code",
   "execution_count": 378,
   "id": "2542b716-4591-4790-860a-b4fdcb011420",
   "metadata": {},
   "outputs": [
    {
     "name": "stdout",
     "output_type": "stream",
     "text": [
      "17533 3649\n"
     ]
    }
   ],
   "source": [
    "need_fill = newdf['age'].isna().values & with_val\n",
    "print(np.sum(newdf['age'].notna().values),np.sum(need_fill))"
   ]
  },
  {
   "cell_type": "code",
   "execution_count": 379,
   "id": "38540c44-f5f5-4d14-8fc1-b73ec25848a1",
   "metadata": {},
   "outputs": [
    {
     "data": {
      "text/plain": [
       "(1974.0, 2023.0, 1900.0, 2019.0)"
      ]
     },
     "execution_count": 379,
     "metadata": {},
     "output_type": "execute_result"
    }
   ],
   "source": [
    "newdf[need_fill]['bottled'].min(),newdf[need_fill]['bottled'].max(), newdf[need_fill]['distilled'].min(),newdf[need_fill]['distilled'].max()"
   ]
  },
  {
   "cell_type": "code",
   "execution_count": 380,
   "id": "350ec3d5-e94f-45ed-9815-071e9ea763da",
   "metadata": {},
   "outputs": [],
   "source": [
    "newdf.loc[need_fill,'age'] = newdf[need_fill]['bottled'].values - newdf[need_fill]['distilled'].values"
   ]
  },
  {
   "cell_type": "code",
   "execution_count": 381,
   "id": "c3ab9de0-e120-4c65-8044-b7500f8d1229",
   "metadata": {},
   "outputs": [
    {
     "name": "stdout",
     "output_type": "stream",
     "text": [
      "21182\n"
     ]
    }
   ],
   "source": [
    "print(np.sum(newdf['age'].notna().values))"
   ]
  },
  {
   "cell_type": "code",
   "execution_count": 382,
   "id": "510f3a98-cc01-4a54-93e1-3ba97dd0bd1c",
   "metadata": {},
   "outputs": [],
   "source": [
    "newdf = newdf.drop(columns=['Lot number'])"
   ]
  },
  {
   "cell_type": "code",
   "execution_count": 383,
   "id": "65a3ce0e-518e-4a47-b0a3-f23d8b690b02",
   "metadata": {},
   "outputs": [
    {
     "data": {
      "text/plain": [
       "array([  -3.,    7.,    9.,   10.,   11.,   12.,   12.,   13.,   14.,\n",
       "         15.,   17.,   18.,   19.,   21.,   22.,   24.,   25.,   28.,\n",
       "         30.,   36., 2022.])"
      ]
     },
     "execution_count": 383,
     "metadata": {},
     "output_type": "execute_result"
    }
   ],
   "source": [
    "np.percentile(newdf[newdf['age'].notna()]['age'],range(0,105,5))"
   ]
  },
  {
   "cell_type": "code",
   "execution_count": 384,
   "id": "9b0ed2a7-0e65-4f6f-b5dc-09742d395e62",
   "metadata": {
    "tags": []
   },
   "outputs": [
    {
     "name": "stdout",
     "output_type": "stream",
     "text": [
      "(30548, 16)\n",
      "(30547, 16)\n"
     ]
    }
   ],
   "source": [
    "newdf['his_bid_prices'] = [v[1:-1].split(', ') if v[1:-1].split(', ')[0]!='' else None  for v in newdf['his_bid_prices']]\n",
    "print(newdf.shape)\n",
    "newdf = newdf.dropna('index',subset=['his_bid_prices'])\n",
    "print(newdf.shape)"
   ]
  },
  {
   "cell_type": "code",
   "execution_count": 385,
   "id": "60d6bdf2-f244-4fc1-bbdf-cf1277fc8013",
   "metadata": {},
   "outputs": [],
   "source": [
    "newdf['Winning bid'] = [float(v[-1]) for v in newdf['his_bid_prices']]"
   ]
  },
  {
   "cell_type": "code",
   "execution_count": 386,
   "id": "1d4d777e-d300-4ac3-a806-20a3b9bd9807",
   "metadata": {},
   "outputs": [
    {
     "data": {
      "text/plain": [
       "array([5.000e+00, 3.000e+01, 4.000e+01, 4.667e+01, 5.500e+01, 6.500e+01,\n",
       "       7.500e+01, 8.500e+01, 9.500e+01, 1.100e+02, 1.300e+02, 1.500e+02,\n",
       "       1.700e+02, 2.000e+02, 2.500e+02, 3.000e+02, 4.000e+02, 5.200e+02,\n",
       "       8.000e+02, 1.500e+03, 7.800e+04])"
      ]
     },
     "execution_count": 386,
     "metadata": {},
     "output_type": "execute_result"
    }
   ],
   "source": [
    "np.percentile(newdf[newdf['Winning bid'].notna()]['Winning bid'],range(0,105,5))"
   ]
  },
  {
   "cell_type": "code",
   "execution_count": 387,
   "id": "260bca60-dfda-482d-9058-cfe3fc4f3807",
   "metadata": {},
   "outputs": [
    {
     "name": "stdout",
     "output_type": "stream",
     "text": [
      "(30453, 16)\n"
     ]
    }
   ],
   "source": [
    "newdf = newdf[True ^ (newdf['age']<0)]\n",
    "newdf = newdf[True ^ (newdf['age']>300)]\n",
    "newdf = newdf[True ^ (newdf['Winning bid']>10000)]\n",
    "print(newdf.shape)"
   ]
  },
  {
   "cell_type": "code",
   "execution_count": 388,
   "id": "7bb2c694-4f81-4b15-a8d4-2648e28122ee",
   "metadata": {
    "tags": []
   },
   "outputs": [],
   "source": [
    "import requests\n",
    "import re\n",
    "from bs4 import BeautifulSoup\n",
    "import json "
   ]
  },
  {
   "cell_type": "code",
   "execution_count": 389,
   "id": "0ec408f3-3dd9-4f8a-9228-a416a83f34f0",
   "metadata": {},
   "outputs": [
    {
     "data": {
      "text/plain": [
       "array([ 14,  15,  18,  23,  27,  29,  30,  31,  33,  34,  37,  38,  39,\n",
       "        40,  43,  44,  45,  46,  47,  48,  49,  50,  51,  53,  55,  56,\n",
       "        58,  59,  60,  61,  62,  63,  64,  65,  66,  67,  68,  69,  70,\n",
       "        71,  72,  73,  74,  79,  80,  81,  84,  85,  87,  88,  89,  90,\n",
       "        91,  92,  93,  94,  95,  96,  97,  98,  99, 100, 101, 102, 103,\n",
       "       104, 105, 106, 107, 108, 109, 110, 111, 112, 113, 114, 115, 116,\n",
       "       117, 118, 119, 120, 121, 122, 123, 124, 125, 126, 127, 128, 129,\n",
       "       130, 131, 133, 134, 137, 138, 139, 140, 141, 142, 143, 144, 145,\n",
       "       146, 147, 148, 149, 150, 151, 152, 153, 155, 156, 157, 158, 159,\n",
       "       160, 161, 162, 163, 164, 165, 166, 167, 169, 171, 172, 173, 174,\n",
       "       175, 176, 177, 178, 179, 180, 181, 183, 184, 185, 186, 187, 188,\n",
       "       189, 190])"
      ]
     },
     "execution_count": 389,
     "metadata": {},
     "output_type": "execute_result"
    }
   ],
   "source": [
    "np.unique(newdf['auction'])"
   ]
  },
  {
   "cell_type": "code",
   "execution_count": 390,
   "id": "8021087b-d2a6-41ed-956e-6e588da36588",
   "metadata": {},
   "outputs": [
    {
     "name": "stdout",
     "output_type": "stream",
     "text": [
      "                                       his_bid_times  auction\n",
      "0  [24.0, 25.0, 26.0, 28.0, 29.0, 31.0, 33.0, 34....      143\n"
     ]
    }
   ],
   "source": [
    "newdf['his_bid_times'] = [v[1:-1].split(', ') if v[1:-1].split(', ')[0]!='' else None for v in newdf['his_bid_times']]\n",
    "newdf['auction'] = [round(float(v[-1])) for v in newdf['his_bid_times'] if v is not None]\n",
    "print(newdf.loc[:3,['his_bid_times','auction']])"
   ]
  },
  {
   "cell_type": "code",
   "execution_count": 391,
   "id": "4bf582bc-50f4-4b70-b321-29944d7acf81",
   "metadata": {
    "tags": []
   },
   "outputs": [
    {
     "name": "stdout",
     "output_type": "stream",
     "text": [
      "{146: 2023, 145: 2023, 144: 2023, 143: 2023, 142: 2023, 141: 2023, 140: 2023, 139: 2023, 138: 2022, 137: 2022, 136: 2022, 135: 2022, 134: 2022, 133: 2022, 132: 2022, 131: 2022, 130: 2022, 129: 2022, 128: 2022, 127: 2022, 126: 2021, 125: 2021, 124: 2021, 123: 2021, 122: 2021, 121: 2021, 120: 2021, 119: 2021, 118: 2021, 117: 2021, 116: 2021, 115: 2021, 114: 2020, 113: 2020, 112: 2020, 111: 2020, 110: 2020, 109: 2020, 108: 2020, 107: 2020, 106: 2020, 105: 2020, 104: 2019, 103: 2019, 102: 2019, 101: 2019, 100: 2019, 99: 2019, 98: 2019, 97: 2019, 96: 2019, 95: 2019, 94: 2019, 93: 2019, 92: 2018, 91: 2018, 90: 2018, 89: 2018, 88: 2018, 87: 2018, 86: 2018, 85: 2018, 84: 2018, 83: 2018, 82: 2018, 81: 2018, 80: 2017, 79: 2017, 78: 2017, 77: 2017, 76: 2017, 75: 2017, 74: 2017, 73: 2017, 72: 2017, 71: 2017, 70: 2017, 69: 2017, 68: 2016, 67: 2016, 66: 2016, 65: 2016, 64: 2016, 63: 2016, 62: 2016, 61: 2016, 60: 2016, 59: 2016, 58: 2016, 57: 2016, 56: 2015, 55: 2015, 54: 2015, 53: 2015, 52: 2015, 51: 2015, 50: 2015, 49: 2015, 48: 2015, 47: 2015, 46: 2015, 45: 2015, 44: 2014, 43: 2014, 42: 2014, 41: 2014, 40: 2014, 39: 2014, 38: 2014, 37: 2014, 36: 2014, 35: 2014, 34: 2014, 33: 2014, 32: 2013, 31: 2013, 30: 2013, 29: 2013, 28: 2013, 27: 2013, 26: 2013, 25: 2013, 24: 2013, 23: 2013, 22: 2013, 21: 2013, 20: 2012, 19: 2012, 18: 2012, 17: 2012, 16: 2012, 15: 2012, 14: 2012, 13: 2012, 12: 2012, 11: 2012, 10: 2012, 9: 2011, 8: 2011, 7: 2011, 6: 2011, 5: 2011, 4: 2011, 3: 2011, 2: 2011, 1: 2011}\n",
      "146\n"
     ]
    }
   ],
   "source": [
    "auc_to_date = {}\n",
    "resp = requests.get('https://www.scotchwhiskyauctions.com/auctions/')\n",
    "if resp.status_code != 200:\n",
    "    assert False\n",
    "soup = BeautifulSoup(resp.content,'html.parser')\n",
    "aa = soup.find('div',class_='auctions').find_all('a',class_='auction')\n",
    "\n",
    "last = 100000\n",
    "for val in aa:\n",
    "    if 'charity' in val.get('href'):\n",
    "        continue\n",
    "    if last <= 10:\n",
    "        auc = last - 1\n",
    "    else:\n",
    "        auc = int(val.get('href').split('/')[1].split('-auction')[0].split('-')[-1][:-2])\n",
    "    last = auc\n",
    "    for v in val.text.strip().split(' ')[1:-2]:\n",
    "        if 'There' in v: \n",
    "            year = int(v[:4])\n",
    "    auc_to_date[auc] = year\n",
    "print(auc_to_date)\n",
    "print(len(auc_to_date))\n",
    "# print(np.min(auc_to_date.keys()),np.max(auc_to_date.keys()))"
   ]
  },
  {
   "cell_type": "code",
   "execution_count": null,
   "id": "f09dd68b-d4b0-4c66-aa34-a14287152da7",
   "metadata": {
    "tags": []
   },
   "outputs": [],
   "source": [
    "newdf['auc_year'] = [auc_to_date[v] for v in newdf['auction'].astype(np.int32)]"
   ]
  },
  {
   "cell_type": "code",
   "execution_count": 394,
   "id": "4738ae77-f664-4397-810c-7b3bf4f5f949",
   "metadata": {},
   "outputs": [],
   "source": [
    "newdf['his_bid_times'] = [[str(auc_to_date[round(float(vv))]) for vv in v] for v in newdf['his_bid_times']]"
   ]
  },
  {
   "cell_type": "code",
   "execution_count": 395,
   "id": "ced57fbd-bd30-4925-a6b9-2887d54ec22b",
   "metadata": {},
   "outputs": [
    {
     "data": {
      "text/plain": [
       "array([2011., 2016., 2016., 2017., 2018., 2019., 2020., 2020., 2021.,\n",
       "       2021., 2022., 2022., 2022., 2022., 2022., 2023., 2023., 2023.,\n",
       "       2023., 2023., 2023.])"
      ]
     },
     "execution_count": 395,
     "metadata": {},
     "output_type": "execute_result"
    }
   ],
   "source": [
    "np.percentile(newdf[newdf['auc_year'].notna()]['auc_year'],range(0,105,5))"
   ]
  },
  {
   "cell_type": "code",
   "execution_count": 398,
   "id": "adeb8b1d-de54-4256-8a91-eb62c47b14e5",
   "metadata": {
    "tags": []
   },
   "outputs": [
    {
     "name": "stdout",
     "output_type": "stream",
     "text": [
      "(30453, 13)\n",
      "['Winning bid', 'age', 'bottle number', 'bottled', 'cask number', 'cask type', 'distilled', 'extracted_distillery', 'his_bid_prices', 'his_bid_times', 'strength', 'cl', 'auc_year']\n"
     ]
    }
   ],
   "source": [
    "newdf = newdf.drop(columns=['auction','url','url_id','name'])\n",
    "print(newdf.shape)\n",
    "print(list(newdf.columns))"
   ]
  },
  {
   "cell_type": "code",
   "execution_count": 399,
   "id": "61197bd3-10b5-43e7-85de-595eddc2d887",
   "metadata": {
    "tags": []
   },
   "outputs": [
    {
     "name": "stdout",
     "output_type": "stream",
     "text": [
      "cask type 3339\n",
      "extracted_distillery 154\n",
      "dict_keys(['cask type', 'extracted_distillery'])\n",
      "cask type 3339\n",
      "extracted_distillery 154\n"
     ]
    }
   ],
   "source": [
    "a_cat_cols = ['cask type','extracted_distillery']\n",
    "a_cat_dict = {c:{} for c in a_cat_cols}\n",
    "for k in a_cat_cols:\n",
    "    uniq_vals = np.sort(np.unique(newdf[k].astype(str)))\n",
    "    print(k,len(uniq_vals))\n",
    "    a_cat_dict[k] = {k:i for i,k in enumerate(uniq_vals)}\n",
    "print(a_cat_dict.keys())\n",
    "for k,v in a_cat_dict.items(): print(k,len(v))"
   ]
  },
  {
   "cell_type": "code",
   "execution_count": 400,
   "id": "d7247444-9556-43bb-947c-4b42ef14dc4e",
   "metadata": {
    "tags": []
   },
   "outputs": [],
   "source": [
    "for k in a_cat_cols:\n",
    "    newdf[k] = [a_cat_dict[k][v] if v not in ['nan','none'] else None for v in newdf[k].astype(str)]"
   ]
  },
  {
   "cell_type": "code",
   "execution_count": 401,
   "id": "26974595-0d61-4944-8e61-5a580d47b4b8",
   "metadata": {},
   "outputs": [
    {
     "data": {
      "text/html": [
       "<div>\n",
       "<style scoped>\n",
       "    .dataframe tbody tr th:only-of-type {\n",
       "        vertical-align: middle;\n",
       "    }\n",
       "\n",
       "    .dataframe tbody tr th {\n",
       "        vertical-align: top;\n",
       "    }\n",
       "\n",
       "    .dataframe thead th {\n",
       "        text-align: right;\n",
       "    }\n",
       "</style>\n",
       "<table border=\"1\" class=\"dataframe\">\n",
       "  <thead>\n",
       "    <tr style=\"text-align: right;\">\n",
       "      <th></th>\n",
       "      <th>Winning bid</th>\n",
       "      <th>age</th>\n",
       "      <th>bottle number</th>\n",
       "      <th>bottled</th>\n",
       "      <th>cask number</th>\n",
       "      <th>cask type</th>\n",
       "      <th>distilled</th>\n",
       "      <th>extracted_distillery</th>\n",
       "      <th>his_bid_prices</th>\n",
       "      <th>his_bid_times</th>\n",
       "      <th>strength</th>\n",
       "      <th>cl</th>\n",
       "      <th>auc_year</th>\n",
       "    </tr>\n",
       "  </thead>\n",
       "  <tbody>\n",
       "    <tr>\n",
       "      <th>0</th>\n",
       "      <td>270.00</td>\n",
       "      <td>NaN</td>\n",
       "      <td>NaN</td>\n",
       "      <td>NaN</td>\n",
       "      <td>NaN</td>\n",
       "      <td>NaN</td>\n",
       "      <td>NaN</td>\n",
       "      <td>111.0</td>\n",
       "      <td>[130.0, 88.33, 61.0, 47.5, 48.33, 45.0, 43.75,...</td>\n",
       "      <td>[2013, 2013, 2013, 2013, 2013, 2013, 2014, 201...</td>\n",
       "      <td>40.0</td>\n",
       "      <td>70.0</td>\n",
       "      <td>2023</td>\n",
       "    </tr>\n",
       "    <tr>\n",
       "      <th>4</th>\n",
       "      <td>2600.00</td>\n",
       "      <td>13.0</td>\n",
       "      <td>NaN</td>\n",
       "      <td>2012.0</td>\n",
       "      <td>6697.0</td>\n",
       "      <td>2979.0</td>\n",
       "      <td>1999.0</td>\n",
       "      <td>111.0</td>\n",
       "      <td>[860.0, 533.33, 540.0, 590.0, 600.0, 476.67, 5...</td>\n",
       "      <td>[2013, 2013, 2013, 2013, 2013, 2013, 2013, 201...</td>\n",
       "      <td>57.2</td>\n",
       "      <td>70.0</td>\n",
       "      <td>2023</td>\n",
       "    </tr>\n",
       "    <tr>\n",
       "      <th>5</th>\n",
       "      <td>3200.00</td>\n",
       "      <td>17.0</td>\n",
       "      <td>NaN</td>\n",
       "      <td>2013.0</td>\n",
       "      <td>26.0</td>\n",
       "      <td>2979.0</td>\n",
       "      <td>1996.0</td>\n",
       "      <td>111.0</td>\n",
       "      <td>[540.0, 506.67, 615.0, 580.0, 620.0, 566.67, 5...</td>\n",
       "      <td>[2014, 2014, 2014, 2014, 2014, 2014, 2015, 201...</td>\n",
       "      <td>55.3</td>\n",
       "      <td>70.0</td>\n",
       "      <td>2023</td>\n",
       "    </tr>\n",
       "    <tr>\n",
       "      <th>6</th>\n",
       "      <td>1241.67</td>\n",
       "      <td>NaN</td>\n",
       "      <td>NaN</td>\n",
       "      <td>NaN</td>\n",
       "      <td>NaN</td>\n",
       "      <td>NaN</td>\n",
       "      <td>NaN</td>\n",
       "      <td>111.0</td>\n",
       "      <td>[165.0, 180.0, 111.67, 108.89, 67.78, 95.83, 7...</td>\n",
       "      <td>[2016, 2016, 2016, 2016, 2016, 2016, 2016, 201...</td>\n",
       "      <td>48.0</td>\n",
       "      <td>70.0</td>\n",
       "      <td>2023</td>\n",
       "    </tr>\n",
       "    <tr>\n",
       "      <th>12</th>\n",
       "      <td>1500.00</td>\n",
       "      <td>NaN</td>\n",
       "      <td>NaN</td>\n",
       "      <td>NaN</td>\n",
       "      <td>NaN</td>\n",
       "      <td>NaN</td>\n",
       "      <td>NaN</td>\n",
       "      <td>111.0</td>\n",
       "      <td>[145.0, 65.0, 90.0, 115.0, 85.0, 140.0, 145.0,...</td>\n",
       "      <td>[2016, 2016, 2016, 2016, 2016, 2016, 2016, 201...</td>\n",
       "      <td>48.0</td>\n",
       "      <td>75.0</td>\n",
       "      <td>2023</td>\n",
       "    </tr>\n",
       "  </tbody>\n",
       "</table>\n",
       "</div>"
      ],
      "text/plain": [
       "    Winning bid   age  bottle number  bottled  cask number  cask type  \\\n",
       "0        270.00   NaN            NaN      NaN          NaN        NaN   \n",
       "4       2600.00  13.0            NaN   2012.0       6697.0     2979.0   \n",
       "5       3200.00  17.0            NaN   2013.0         26.0     2979.0   \n",
       "6       1241.67   NaN            NaN      NaN          NaN        NaN   \n",
       "12      1500.00   NaN            NaN      NaN          NaN        NaN   \n",
       "\n",
       "    distilled  extracted_distillery  \\\n",
       "0         NaN                 111.0   \n",
       "4      1999.0                 111.0   \n",
       "5      1996.0                 111.0   \n",
       "6         NaN                 111.0   \n",
       "12        NaN                 111.0   \n",
       "\n",
       "                                       his_bid_prices  \\\n",
       "0   [130.0, 88.33, 61.0, 47.5, 48.33, 45.0, 43.75,...   \n",
       "4   [860.0, 533.33, 540.0, 590.0, 600.0, 476.67, 5...   \n",
       "5   [540.0, 506.67, 615.0, 580.0, 620.0, 566.67, 5...   \n",
       "6   [165.0, 180.0, 111.67, 108.89, 67.78, 95.83, 7...   \n",
       "12  [145.0, 65.0, 90.0, 115.0, 85.0, 140.0, 145.0,...   \n",
       "\n",
       "                                        his_bid_times  strength    cl  \\\n",
       "0   [2013, 2013, 2013, 2013, 2013, 2013, 2014, 201...      40.0  70.0   \n",
       "4   [2013, 2013, 2013, 2013, 2013, 2013, 2013, 201...      57.2  70.0   \n",
       "5   [2014, 2014, 2014, 2014, 2014, 2014, 2015, 201...      55.3  70.0   \n",
       "6   [2016, 2016, 2016, 2016, 2016, 2016, 2016, 201...      48.0  70.0   \n",
       "12  [2016, 2016, 2016, 2016, 2016, 2016, 2016, 201...      48.0  75.0   \n",
       "\n",
       "    auc_year  \n",
       "0       2023  \n",
       "4       2023  \n",
       "5       2023  \n",
       "6       2023  \n",
       "12      2023  "
      ]
     },
     "execution_count": 401,
     "metadata": {},
     "output_type": "execute_result"
    }
   ],
   "source": [
    "newdf.head()"
   ]
  },
  {
   "cell_type": "code",
   "execution_count": 402,
   "id": "68a4e78b-85a8-4b23-8926-6cdf865fbefb",
   "metadata": {},
   "outputs": [],
   "source": [
    "newdf['his_bid_prices'] = [','.join(v) for v in newdf['his_bid_prices']]\n",
    "newdf['his_bid_times'] = [','.join(v) for v in newdf['his_bid_times']]"
   ]
  },
  {
   "cell_type": "code",
   "execution_count": 403,
   "id": "233c078f-9596-4c33-876f-8d593594c243",
   "metadata": {},
   "outputs": [],
   "source": [
    "newdf.to_csv('datas/d_p1_stage1.csv',index=False)"
   ]
  },
  {
   "cell_type": "markdown",
   "id": "60519bb8-1fb5-4976-950f-f31639d67362",
   "metadata": {},
   "source": [
    "## 2.3 Post Process Stage 1 for Dataset No.2\n",
    "> https://whiskyauction.com/wac/whiskyBrowserData"
   ]
  },
  {
   "cell_type": "code",
   "execution_count": 293,
   "id": "a5a3055a-f53b-4ece-8953-9b276d83a9a4",
   "metadata": {},
   "outputs": [
    {
     "name": "stdout",
     "output_type": "stream",
     "text": [
      "(473638, 47)\n",
      "['id', 'distillery', 'name', 'bottler label', 'distilled date', 'bottled date', 'age', 'whisky type label', 'description', 'packing type', 'alcohol strength', 'content quantity', 'ean', 'bottle code', 'legacy item name', 'category', 'hist_ids', 'hist_times', 'hist_prices', 'series', 'cask no.', 'maturing', 'count of bottle', 'bottled for', 'bottle number', 'brandname', 'release number', 'filling code', 'finishing', 'condition description', 'bottom code', 'front label code', 'back label code', 'importer', 'vp sort description', 'accessoires type', 'size', 'handfilled date', 'filling level', 'owner', 'addons', 'tax banderole code', 'code', 'auction category', 'abnumber', 'lot number', 'symbols']\n"
     ]
    }
   ],
   "source": [
    "df = pd.read_csv('datas/all_data_org.csv',lineterminator='\\n',low_memory=False)\n",
    "print(df.shape)\n",
    "print(list(df.columns))"
   ]
  },
  {
   "cell_type": "code",
   "execution_count": 294,
   "id": "92269281-4e36-45f1-9c8f-129cddba462a",
   "metadata": {},
   "outputs": [
    {
     "name": "stdout",
     "output_type": "stream",
     "text": [
      "id 1.0\n",
      "category 1.0\n",
      "hist_ids 1.0\n",
      "hist_times 1.0\n",
      "hist_prices 1.0\n",
      "packing type 0.95\n",
      "content quantity 0.94\n",
      "alcohol strength 0.94\n",
      "whisky type label 0.93\n",
      "legacy item name 0.84\n",
      "bottler label 0.76\n",
      "distillery 0.75\n",
      "age 0.55\n",
      "ean 0.54\n",
      "distilled date 0.39\n",
      "description 0.37\n",
      "bottled date 0.37\n",
      "maturing 0.29\n",
      "count of bottle 0.28\n",
      "name 0.28\n",
      "brandname 0.28\n",
      "series 0.24\n",
      "bottle code 0.24\n",
      "cask no. 0.2\n",
      "bottle number 0.19\n",
      "auction category 0.16\n",
      "filling code 0.11\n",
      "release number 0.11\n",
      "lot number 0.1\n",
      "bottom code 0.08\n",
      "owner 0.08\n",
      "condition description 0.08\n",
      "bottled for 0.07\n",
      "finishing 0.06\n",
      "accessoires type 0.05\n",
      "size 0.05\n",
      "abnumber 0.05\n",
      "importer 0.04\n",
      "tax banderole code 0.04\n",
      "filling level 0.02\n",
      "back label code 0.02\n",
      "front label code 0.02\n",
      "vp sort description 0.01\n",
      "code 0.01\n",
      "addons 0.0\n",
      "handfilled date 0.0\n",
      "symbols 0.0\n"
     ]
    }
   ],
   "source": [
    "notna_num_dict = {k:df[k].notna().sum()/df.shape[0] for k in df.columns}\n",
    "sorted_keys = sorted(notna_num_dict.keys(),key=lambda x:notna_num_dict[x],reverse=True)\n",
    "for k in sorted_keys:\n",
    "    print(k,round(notna_num_dict[k],2))"
   ]
  },
  {
   "cell_type": "code",
   "execution_count": 325,
   "id": "ba3716f7-d445-4af9-96bf-fdffe13cb407",
   "metadata": {},
   "outputs": [
    {
     "name": "stdout",
     "output_type": "stream",
     "text": [
      "(81753, 47)\n"
     ]
    }
   ],
   "source": [
    "newdf = df.drop_duplicates('hist_prices',keep='first')\n",
    "print(newdf.shape)"
   ]
  },
  {
   "cell_type": "code",
   "execution_count": 326,
   "id": "d07e8643-c5e6-45dc-b20b-b378c42ecabc",
   "metadata": {},
   "outputs": [],
   "source": [
    "newdf = newdf.drop(columns=['bottle number','cask no.'])"
   ]
  },
  {
   "cell_type": "code",
   "execution_count": 327,
   "id": "9ae539a7-1ff1-4385-a4d1-06ad389f305a",
   "metadata": {},
   "outputs": [],
   "source": [
    "need_cols = ['Lot number', 'auction', 'url', 'name']\n",
    "\n",
    "col_name_map = {'hist_prices':'his_bid_prices', \n",
    "             'hist_times':'his_bid_times',\n",
    "             'id':'url_id',\n",
    "             'price':'Winning bid', \n",
    "             'alcohol strength':'strength',\n",
    "             'distillery':'extracted_distillery',\n",
    "             'age':'age',\n",
    "             'packing type': 'cask type', \n",
    "             'count of bottle': 'bottle number', \n",
    "             'bottled date': 'bottled', \n",
    "             'distilled date':'distilled',\n",
    "             'content quantity':'cl'}\n",
    "             # 'cask no.':'cask number'}"
   ]
  },
  {
   "cell_type": "code",
   "execution_count": 328,
   "id": "9deaaff3-7837-4d26-8744-1928a4d1f3bf",
   "metadata": {},
   "outputs": [
    {
     "name": "stdout",
     "output_type": "stream",
     "text": [
      "(81753, 23)\n"
     ]
    }
   ],
   "source": [
    "newdf = newdf[[k for k in newdf.columns if notna_num_dict[k]>0.18]]\n",
    "print(newdf.shape)"
   ]
  },
  {
   "cell_type": "code",
   "execution_count": 329,
   "id": "eb3a23ba-ab6c-42a6-bbcc-6670462741e6",
   "metadata": {},
   "outputs": [
    {
     "name": "stdout",
     "output_type": "stream",
     "text": [
      "81753 ['2023-06', '2023-05', '2023-05', '2023-04', '2023-04', '2023-03', '2023-03', '2022-11', '2022-10', '2022-09', '2022-09', '2022-06', '2022-02', '2022-01', '2022-01', '2022-01', '2022-01', '2021-11', '2021-11', '2021-11', '2021-10', '2021-09', '2021-08', '2021-07', '2021-07', '2021-07', '2021-06', '2021-05', '2021-05', '2021-05', '2021-01', '2021-01', '2020-12', '2020-12', '2020-12', '2020-11', '2020-11', '2020-06', '2020-05', '2020-04', '2020-03', '2019-12', '2019-11', '2019-11', '2019-09', '2019-07', '2019-03'] ['400', '450', '470', '472', '478', '490', '480', '475', '481', '486', '495', '512', '445', '495', '450', '456', '456', '415', '416', '410', '455', '516', '521', '530', '435', '445', '605', '470', '480', '475', '439', '505', '436', '448', '436', '410', '410', '475', '420', '407', '421', '355', '395', '396', '435', '366', '449'] ['2116992', '2040078', '2040087', '1970723', '1970732', '1901882', '1901891', '1615851', '1428210', '1428219', '1393216', '1360845', '1321015', '1314492', '1316367', '1316372', '1316391', '1289233', '1294618', '1294972', '1278267', '1273430', '1263401', '1249605', '1249625', '1253823', '1244429', '1233415', '1233421', '1235006', '1201406', '1202927', '1185986', '1185988', '1190728', '1175791', '1180732', '1134818', '1121841', '1119618', '1108882', '1089250', '1077105', '1077824', '1066402', '1051412', '1033251']\n"
     ]
    }
   ],
   "source": [
    "ht = [[v[1:-1] for v in val[1:-1].split(', ')] for val in newdf['hist_times']]\n",
    "hp = [[v[1:-1] for v in val[1:-1].split(', ')] for val in newdf['hist_prices']]\n",
    "hi = [[v[1:-1] for v in val[1:-1].split(', ')] for val in newdf['hist_ids']]\n",
    "print(len(ht),ht[0],hp[0],hi[0])"
   ]
  },
  {
   "cell_type": "code",
   "execution_count": 330,
   "id": "dce7bd9b-bf0f-4d60-8a5b-1c2f69d5d5c6",
   "metadata": {},
   "outputs": [],
   "source": [
    "newdf['hist_prices'] = hp\n",
    "newdf['hist_times'] = ht\n",
    "newdf['hist_ids'] = hi"
   ]
  },
  {
   "cell_type": "code",
   "execution_count": 331,
   "id": "701970b6-c166-4507-b211-55fda392b50a",
   "metadata": {},
   "outputs": [],
   "source": [
    "import re\n",
    "import json"
   ]
  },
  {
   "cell_type": "code",
   "execution_count": 332,
   "id": "628f6634-a285-43cf-ba83-5a2f7df74510",
   "metadata": {},
   "outputs": [
    {
     "name": "stdout",
     "output_type": "stream",
     "text": [
      "81753 70.0\n"
     ]
    }
   ],
   "source": [
    "cols = []\n",
    "for v in newdf['content quantity'].astype(str):\n",
    "    if v == 'nan': \n",
    "        cols.append(None)\n",
    "        continue\n",
    "    try:\n",
    "        val = re.search('(\\d[\\d\\.]*)',v).groups()[0]\n",
    "        if val.startswith('.'): val = val[1:]\n",
    "        if val.endswith('.'): val = val[:-1]\n",
    "        cols.append(float(val))\n",
    "    except:\n",
    "        # print(v)\n",
    "        cols.append(None)\n",
    "print(len(cols),cols[0])"
   ]
  },
  {
   "cell_type": "code",
   "execution_count": 333,
   "id": "123d4015-ffb7-40e7-b9fd-8b6199eb4589",
   "metadata": {},
   "outputs": [
    {
     "name": "stdout",
     "output_type": "stream",
     "text": [
      "81753 46.4\n"
     ]
    }
   ],
   "source": [
    "strengths = []\n",
    "for v in newdf['alcohol strength'].astype(str):\n",
    "    if v == 'nan': \n",
    "        strengths.append(None)\n",
    "        continue\n",
    "    try:\n",
    "        val = re.search('(\\d[\\d\\.]*)',v).groups()[0]\n",
    "        if val.startswith('.'): val = val[1:]\n",
    "        if val.endswith('.'): val = val[:-1]\n",
    "        strengths.append(float(val))\n",
    "    except:\n",
    "        strengths.append(None)\n",
    "print(len(strengths),strengths[0])"
   ]
  },
  {
   "cell_type": "code",
   "execution_count": 334,
   "id": "d1908040-748c-46ba-b50b-5f82e165c9cc",
   "metadata": {},
   "outputs": [],
   "source": [
    "newdf['content quantity'] = cols\n",
    "newdf['alcohol strength'] = strengths"
   ]
  },
  {
   "cell_type": "code",
   "execution_count": 335,
   "id": "c6d43124-07c5-4b83-9e80-1957bb4bfa65",
   "metadata": {},
   "outputs": [
    {
     "name": "stdout",
     "output_type": "stream",
     "text": [
      "81753 [22.0, None, 10.0, 16.0, 23.0, 7.0, None, None, 11.0, 10.0]\n"
     ]
    }
   ],
   "source": [
    "ages = []\n",
    "for v in newdf['age'].astype(str):\n",
    "    if v == 'nan':\n",
    "        ages.append(None)\n",
    "        continue\n",
    "    try:\n",
    "        ages.append(float(v))\n",
    "    except:\n",
    "        try:\n",
    "            v = v.replace(' ','')\n",
    "            yy,mm=0,0\n",
    "            if 'year' not in v and 'month' not in v:\n",
    "                ages.append(None)\n",
    "                continue\n",
    "            if 'year' in v:\n",
    "                yy = float(re.search('(\\d+)',v.split('year')[0]).groups()[0])\n",
    "            if 'month' in v:\n",
    "                mm = float(re.search('(\\d+)',v.split('month')[0]).groups()[0])\n",
    "            ages.append(yy+mm/12) \n",
    "        except:\n",
    "            ages.append(None)\n",
    "print(len(ages),ages[:10])"
   ]
  },
  {
   "cell_type": "code",
   "execution_count": 336,
   "id": "d126876b-3746-4b09-9647-088e6f5af52f",
   "metadata": {},
   "outputs": [],
   "source": [
    "newdf['age'] = ages"
   ]
  },
  {
   "cell_type": "code",
   "execution_count": 337,
   "id": "7156291a-975e-4ba7-a7f3-00f741a62539",
   "metadata": {},
   "outputs": [],
   "source": [
    "newdf['price'] = [float(v[0]) if v is not None and len(v)>0 else None for v in newdf['hist_prices']]"
   ]
  },
  {
   "cell_type": "code",
   "execution_count": 338,
   "id": "879d588b-809a-4eac-a8c0-d3483ebbb536",
   "metadata": {},
   "outputs": [
    {
     "name": "stdout",
     "output_type": "stream",
     "text": [
      "24\n"
     ]
    }
   ],
   "source": [
    "df_cols = [col_name_map[c] if c in col_name_map else c for c in newdf.columns ]\n",
    "print(len(df_cols))"
   ]
  },
  {
   "cell_type": "code",
   "execution_count": 339,
   "id": "a2d27688-46bb-4fc6-8d5d-795b1dfab2c9",
   "metadata": {},
   "outputs": [
    {
     "name": "stdout",
     "output_type": "stream",
     "text": [
      "['url_id', 'extracted_distillery', 'name', 'bottler label', 'distilled', 'bottled', 'age', 'whisky type label', 'description', 'cask type', 'strength', 'cl', 'ean', 'bottle code', 'legacy item name', 'category', 'hist_ids', 'his_bid_times', 'his_bid_prices', 'series', 'maturing', 'bottle number', 'brandname', 'Winning bid']\n"
     ]
    }
   ],
   "source": [
    "newdf.columns = df_cols\n",
    "print(list(newdf.columns))"
   ]
  },
  {
   "cell_type": "code",
   "execution_count": 340,
   "id": "4a44daff-0498-4f47-86a7-0da564c49b41",
   "metadata": {},
   "outputs": [
    {
     "name": "stdout",
     "output_type": "stream",
     "text": [
      "81753 [1996, None, 2010, None, None, None, None, None, 2007, 2010]\n"
     ]
    }
   ],
   "source": [
    "cand_years = [str(i) for i in range(1600,2024)]\n",
    "distilled = []\n",
    "for v in newdf['distilled'].astype(str):\n",
    "    if v == 'nan':\n",
    "        distilled.append(None)\n",
    "        continue\n",
    "    geted_year = None\n",
    "    for vv in cand_years:\n",
    "        if vv in v:\n",
    "            geted_year = vv\n",
    "            break\n",
    "    if geted_year is None:\n",
    "        distilled.append(None)\n",
    "    else:\n",
    "        distilled.append(int(geted_year))\n",
    "print(len(distilled),distilled[:10])"
   ]
  },
  {
   "cell_type": "code",
   "execution_count": 341,
   "id": "cbaf5250-8e23-4492-afc9-27f623ef4a8f",
   "metadata": {},
   "outputs": [
    {
     "name": "stdout",
     "output_type": "stream",
     "text": [
      "81753 [2018, None, 2020, None, 2017, None, None, None, None, 2020]\n"
     ]
    }
   ],
   "source": [
    "bottled = []\n",
    "for v in newdf['bottled'].astype(str):\n",
    "    if v == 'nan':\n",
    "        bottled.append(None)\n",
    "        continue\n",
    "    geted_year = None\n",
    "    for vv in cand_years:\n",
    "        if vv in v:\n",
    "            geted_year = vv\n",
    "            break\n",
    "    if geted_year is None:\n",
    "        bottled.append(None)\n",
    "    else:\n",
    "        bottled.append(int(geted_year))\n",
    "print(len(bottled),bottled[:10])"
   ]
  },
  {
   "cell_type": "code",
   "execution_count": 342,
   "id": "b9e2f951-13c6-49b2-a719-ac682a3e9b89",
   "metadata": {},
   "outputs": [],
   "source": [
    "newdf['distilled'] = distilled\n",
    "newdf['bottled'] = bottled"
   ]
  },
  {
   "cell_type": "code",
   "execution_count": 343,
   "id": "563b3369-a5f2-433c-8d6d-610be43b2333",
   "metadata": {},
   "outputs": [
    {
     "name": "stdout",
     "output_type": "stream",
     "text": [
      "81753 [None, None, 282.0, None, None, None, None, None, 337.0, 8500.0]\n",
      "81753 [None, None, 3.0, None, None, None, None, None, 2.0, 8500.0]\n"
     ]
    }
   ],
   "source": [
    "bottle_all,bottle_no = [],[]\n",
    "for v in newdf['bottle number'].astype(str):\n",
    "    if v == 'nan':\n",
    "        bottle_all.append(None)\n",
    "        bottle_no.append(None)\n",
    "        continue\n",
    "    if 'than ' in v: v = v.split('than ')[-1]\n",
    "    if 'as ' in v: v = v.split('as ')[-1]\n",
    "    if 'appr. ' in v: v = v[6:]\n",
    "    v = v.replace(',',' ')\n",
    "    v = v.replace('-',' ')\n",
    "    v = v.replace('*',' ')\n",
    "    v = v.replace('%',' ')\n",
    "    try:\n",
    "        v1 = float(v.split(' ')[0])\n",
    "        v2 = float(v.split(' ')[-1])\n",
    "        bottle_all.append(max(v1,v2))\n",
    "        bottle_no.append(min(v1,v2))\n",
    "    except:\n",
    "        print(v)\n",
    "        bottle_all.append(None)\n",
    "        bottle_no.append(None)\n",
    "        # continue\n",
    "        # bottle_all.append(float(v.split(' ')[0]))\n",
    "        # bottle_no.append(None)\n",
    "print(len(bottle_all),bottle_all[:10])\n",
    "print(len(bottle_no),bottle_no[:10])"
   ]
  },
  {
   "cell_type": "code",
   "execution_count": 344,
   "id": "626a53bb-812e-4aeb-9805-5e5c9ac271f8",
   "metadata": {},
   "outputs": [],
   "source": [
    "newdf['bottle number'] = bottle_all\n",
    "# df1['bottle no'] = bottle_no"
   ]
  },
  {
   "cell_type": "code",
   "execution_count": 345,
   "id": "03c49b14-b9d6-4edd-9dbb-882bdaf818b8",
   "metadata": {},
   "outputs": [
    {
     "name": "stdout",
     "output_type": "stream",
     "text": [
      "(81753, 15)\n"
     ]
    },
    {
     "data": {
      "text/html": [
       "<div>\n",
       "<style scoped>\n",
       "    .dataframe tbody tr th:only-of-type {\n",
       "        vertical-align: middle;\n",
       "    }\n",
       "\n",
       "    .dataframe tbody tr th {\n",
       "        vertical-align: top;\n",
       "    }\n",
       "\n",
       "    .dataframe thead th {\n",
       "        text-align: right;\n",
       "    }\n",
       "</style>\n",
       "<table border=\"1\" class=\"dataframe\">\n",
       "  <thead>\n",
       "    <tr style=\"text-align: right;\">\n",
       "      <th></th>\n",
       "      <th>extracted_distillery</th>\n",
       "      <th>bottler label</th>\n",
       "      <th>distilled</th>\n",
       "      <th>bottled</th>\n",
       "      <th>age</th>\n",
       "      <th>whisky type label</th>\n",
       "      <th>cask type</th>\n",
       "      <th>strength</th>\n",
       "      <th>cl</th>\n",
       "      <th>category</th>\n",
       "      <th>hist_ids</th>\n",
       "      <th>his_bid_times</th>\n",
       "      <th>his_bid_prices</th>\n",
       "      <th>bottle number</th>\n",
       "      <th>Winning bid</th>\n",
       "    </tr>\n",
       "  </thead>\n",
       "  <tbody>\n",
       "    <tr>\n",
       "      <th>0</th>\n",
       "      <td>ardbeg</td>\n",
       "      <td>original bottling</td>\n",
       "      <td>1996.0</td>\n",
       "      <td>2018.0</td>\n",
       "      <td>22.0</td>\n",
       "      <td>islay single malt scotch whisky</td>\n",
       "      <td>box</td>\n",
       "      <td>46.4</td>\n",
       "      <td>70.0</td>\n",
       "      <td>bim</td>\n",
       "      <td>[2116992, 2040078, 2040087, 1970723, 1970732, ...</td>\n",
       "      <td>[2023-06, 2023-05, 2023-05, 2023-04, 2023-04, ...</td>\n",
       "      <td>[400, 450, 470, 472, 478, 490, 480, 475, 481, ...</td>\n",
       "      <td>NaN</td>\n",
       "      <td>400.0</td>\n",
       "    </tr>\n",
       "    <tr>\n",
       "      <th>1</th>\n",
       "      <td>macallan</td>\n",
       "      <td>original bottling</td>\n",
       "      <td>NaN</td>\n",
       "      <td>NaN</td>\n",
       "      <td>NaN</td>\n",
       "      <td>highland single malt scotch whisky</td>\n",
       "      <td>strong box</td>\n",
       "      <td>43.0</td>\n",
       "      <td>700.0</td>\n",
       "      <td>hm</td>\n",
       "      <td>[1622034, 1544178, 1273152, 1252416, 1253825, ...</td>\n",
       "      <td>[2022-11, 2022-10, 2021-09, 2021-07, 2021-07, ...</td>\n",
       "      <td>[238, 210, 175, 160, 155, 255]</td>\n",
       "      <td>NaN</td>\n",
       "      <td>238.0</td>\n",
       "    </tr>\n",
       "    <tr>\n",
       "      <th>2</th>\n",
       "      <td>bruichladdich</td>\n",
       "      <td>original bottling</td>\n",
       "      <td>2010.0</td>\n",
       "      <td>2020.0</td>\n",
       "      <td>10.0</td>\n",
       "      <td>islay single malt scotch whisky</td>\n",
       "      <td>tin</td>\n",
       "      <td>62.9</td>\n",
       "      <td>700.0</td>\n",
       "      <td>bim</td>\n",
       "      <td>[1298276, 1253827, 1237200]</td>\n",
       "      <td>[2021-12, 2021-07, 2021-05]</td>\n",
       "      <td>[156, 150, 256]</td>\n",
       "      <td>282.0</td>\n",
       "      <td>156.0</td>\n",
       "    </tr>\n",
       "    <tr>\n",
       "      <th>3</th>\n",
       "      <td>lagavulin</td>\n",
       "      <td>original bottling</td>\n",
       "      <td>NaN</td>\n",
       "      <td>NaN</td>\n",
       "      <td>16.0</td>\n",
       "      <td>single islay malt whisky</td>\n",
       "      <td>bottle</td>\n",
       "      <td>43.0</td>\n",
       "      <td>5.0</td>\n",
       "      <td>xmbim</td>\n",
       "      <td>[2021535, 1954844, 1879241, 1817639, 1817645, ...</td>\n",
       "      <td>[2023-05, 2023-04, 2023-03, 2023-02, 2023-02, ...</td>\n",
       "      <td>[14, 12, 6, 16, 17, 14, 4, 18, 15, 13, 15, 20,...</td>\n",
       "      <td>NaN</td>\n",
       "      <td>14.0</td>\n",
       "    </tr>\n",
       "    <tr>\n",
       "      <th>4</th>\n",
       "      <td>ardbeg</td>\n",
       "      <td>original bottling</td>\n",
       "      <td>NaN</td>\n",
       "      <td>2017.0</td>\n",
       "      <td>23.0</td>\n",
       "      <td>islay single malt scotch whisky</td>\n",
       "      <td>box</td>\n",
       "      <td>46.3</td>\n",
       "      <td>70.0</td>\n",
       "      <td>bim</td>\n",
       "      <td>[2114568, 1898672, 1676149, 1676158, 1612854, ...</td>\n",
       "      <td>[2023-06, 2023-03, 2022-12, 2022-12, 2022-11, ...</td>\n",
       "      <td>[510, 540, 580, 491, 501, 510, 550, 551, 650, ...</td>\n",
       "      <td>NaN</td>\n",
       "      <td>510.0</td>\n",
       "    </tr>\n",
       "  </tbody>\n",
       "</table>\n",
       "</div>"
      ],
      "text/plain": [
       "  extracted_distillery      bottler label  distilled  bottled   age  \\\n",
       "0               ardbeg  original bottling     1996.0   2018.0  22.0   \n",
       "1             macallan  original bottling        NaN      NaN   NaN   \n",
       "2        bruichladdich  original bottling     2010.0   2020.0  10.0   \n",
       "3            lagavulin  original bottling        NaN      NaN  16.0   \n",
       "4               ardbeg  original bottling        NaN   2017.0  23.0   \n",
       "\n",
       "                    whisky type label   cask type  strength     cl category  \\\n",
       "0     islay single malt scotch whisky         box      46.4   70.0      bim   \n",
       "1  highland single malt scotch whisky  strong box      43.0  700.0       hm   \n",
       "2     islay single malt scotch whisky         tin      62.9  700.0      bim   \n",
       "3            single islay malt whisky      bottle      43.0    5.0    xmbim   \n",
       "4     islay single malt scotch whisky         box      46.3   70.0      bim   \n",
       "\n",
       "                                            hist_ids  \\\n",
       "0  [2116992, 2040078, 2040087, 1970723, 1970732, ...   \n",
       "1  [1622034, 1544178, 1273152, 1252416, 1253825, ...   \n",
       "2                        [1298276, 1253827, 1237200]   \n",
       "3  [2021535, 1954844, 1879241, 1817639, 1817645, ...   \n",
       "4  [2114568, 1898672, 1676149, 1676158, 1612854, ...   \n",
       "\n",
       "                                       his_bid_times  \\\n",
       "0  [2023-06, 2023-05, 2023-05, 2023-04, 2023-04, ...   \n",
       "1  [2022-11, 2022-10, 2021-09, 2021-07, 2021-07, ...   \n",
       "2                        [2021-12, 2021-07, 2021-05]   \n",
       "3  [2023-05, 2023-04, 2023-03, 2023-02, 2023-02, ...   \n",
       "4  [2023-06, 2023-03, 2022-12, 2022-12, 2022-11, ...   \n",
       "\n",
       "                                      his_bid_prices  bottle number  \\\n",
       "0  [400, 450, 470, 472, 478, 490, 480, 475, 481, ...            NaN   \n",
       "1                     [238, 210, 175, 160, 155, 255]            NaN   \n",
       "2                                    [156, 150, 256]          282.0   \n",
       "3  [14, 12, 6, 16, 17, 14, 4, 18, 15, 13, 15, 20,...            NaN   \n",
       "4  [510, 540, 580, 491, 501, 510, 550, 551, 650, ...            NaN   \n",
       "\n",
       "   Winning bid  \n",
       "0        400.0  \n",
       "1        238.0  \n",
       "2        156.0  \n",
       "3         14.0  \n",
       "4        510.0  "
      ]
     },
     "execution_count": 345,
     "metadata": {},
     "output_type": "execute_result"
    }
   ],
   "source": [
    "newdf = newdf.drop(columns=['url_id','name','description','series','maturing','brandname'])\n",
    "newdf = newdf.drop(columns=['ean','bottle code','legacy item name'])\n",
    "print(newdf.shape)\n",
    "newdf.head()"
   ]
  },
  {
   "cell_type": "code",
   "execution_count": 346,
   "id": "053385f1-3be8-4a41-9a79-491f26949f80",
   "metadata": {
    "tags": []
   },
   "outputs": [
    {
     "name": "stdout",
     "output_type": "stream",
     "text": [
      "bottler label 620\n",
      "whisky type label 978\n",
      "cask type 44\n",
      "category 26\n",
      "extracted_distillery 283\n",
      "dict_keys(['bottler label', 'whisky type label', 'cask type', 'category', 'extracted_distillery'])\n",
      "bottler label 620\n",
      "whisky type label 978\n",
      "cask type 44\n",
      "category 26\n",
      "extracted_distillery 283\n"
     ]
    }
   ],
   "source": [
    "b_cat_cols = ['bottler label','whisky type label','cask type','category','extracted_distillery']\n",
    "b_cat_dict = {c:{} for c in b_cat_cols}\n",
    "for k in b_cat_cols:\n",
    "    uniq_vals = np.sort(np.unique(newdf[k].astype(str)))\n",
    "    print(k,len(uniq_vals))\n",
    "    b_cat_dict[k] = {k:i for i,k in enumerate(uniq_vals)}\n",
    "print(b_cat_dict.keys())\n",
    "for k,v in b_cat_dict.items(): print(k,len(v))"
   ]
  },
  {
   "cell_type": "code",
   "execution_count": 347,
   "id": "f2f252bc-8c92-44bc-8d4e-9fa7cd12dc8d",
   "metadata": {
    "tags": []
   },
   "outputs": [],
   "source": [
    "for k in b_cat_cols:\n",
    "    newdf[k] = [b_cat_dict[k][v] if v not in ['nan','none'] else None for v in newdf[k].astype(str)]"
   ]
  },
  {
   "cell_type": "code",
   "execution_count": 348,
   "id": "857f06ec-ad82-4e36-b801-529340ad4a8c",
   "metadata": {},
   "outputs": [
    {
     "name": "stdout",
     "output_type": "stream",
     "text": [
      "extracted_distillery category 0.77\n",
      "bottler label category 0.78\n",
      "distilled float64 0.42\n",
      "bottled float64 0.4\n",
      "age float64 0.58\n",
      "whisky type label category 0.94\n",
      "cask type category 0.95\n",
      "strength float64 0.94\n",
      "cl float64 0.95\n",
      "category category 1.0\n",
      "hist_ids object 1.0\n",
      "his_bid_times object 1.0\n",
      "his_bid_prices object 1.0\n",
      "bottle number float64 0.31\n",
      "Winning bid float64 1.0\n"
     ]
    }
   ],
   "source": [
    "for k in newdf.columns:\n",
    "    print(k,newdf[k].dtype if k not in b_cat_cols else 'category',round(newdf[k].notna().sum()/newdf.shape[0],2))"
   ]
  },
  {
   "cell_type": "code",
   "execution_count": 349,
   "id": "fd160b50-a43f-4855-a75e-9d48f207ef04",
   "metadata": {},
   "outputs": [
    {
     "data": {
      "text/html": [
       "<div>\n",
       "<style scoped>\n",
       "    .dataframe tbody tr th:only-of-type {\n",
       "        vertical-align: middle;\n",
       "    }\n",
       "\n",
       "    .dataframe tbody tr th {\n",
       "        vertical-align: top;\n",
       "    }\n",
       "\n",
       "    .dataframe thead th {\n",
       "        text-align: right;\n",
       "    }\n",
       "</style>\n",
       "<table border=\"1\" class=\"dataframe\">\n",
       "  <thead>\n",
       "    <tr style=\"text-align: right;\">\n",
       "      <th></th>\n",
       "      <th>distilled</th>\n",
       "      <th>bottled</th>\n",
       "      <th>age</th>\n",
       "      <th>strength</th>\n",
       "      <th>cl</th>\n",
       "      <th>bottle number</th>\n",
       "      <th>Winning bid</th>\n",
       "    </tr>\n",
       "  </thead>\n",
       "  <tbody>\n",
       "    <tr>\n",
       "      <th>count</th>\n",
       "      <td>34342.000000</td>\n",
       "      <td>32402.000000</td>\n",
       "      <td>47013.000000</td>\n",
       "      <td>76723.000000</td>\n",
       "      <td>77416.000000</td>\n",
       "      <td>25227.000000</td>\n",
       "      <td>81753.000000</td>\n",
       "    </tr>\n",
       "    <tr>\n",
       "      <th>mean</th>\n",
       "      <td>1989.228292</td>\n",
       "      <td>2009.748904</td>\n",
       "      <td>16.379562</td>\n",
       "      <td>50.144099</td>\n",
       "      <td>230.378640</td>\n",
       "      <td>1781.896004</td>\n",
       "      <td>326.164104</td>\n",
       "    </tr>\n",
       "    <tr>\n",
       "      <th>std</th>\n",
       "      <td>13.951475</td>\n",
       "      <td>10.087511</td>\n",
       "      <td>8.009487</td>\n",
       "      <td>36.938786</td>\n",
       "      <td>308.573586</td>\n",
       "      <td>4418.033928</td>\n",
       "      <td>876.762498</td>\n",
       "    </tr>\n",
       "    <tr>\n",
       "      <th>min</th>\n",
       "      <td>1711.000000</td>\n",
       "      <td>1618.000000</td>\n",
       "      <td>0.000000</td>\n",
       "      <td>2.000000</td>\n",
       "      <td>0.000000</td>\n",
       "      <td>1.000000</td>\n",
       "      <td>1.000000</td>\n",
       "    </tr>\n",
       "    <tr>\n",
       "      <th>25%</th>\n",
       "      <td>1979.000000</td>\n",
       "      <td>2005.000000</td>\n",
       "      <td>10.000000</td>\n",
       "      <td>43.000000</td>\n",
       "      <td>70.000000</td>\n",
       "      <td>227.000000</td>\n",
       "      <td>42.000000</td>\n",
       "    </tr>\n",
       "    <tr>\n",
       "      <th>50%</th>\n",
       "      <td>1991.000000</td>\n",
       "      <td>2012.000000</td>\n",
       "      <td>15.000000</td>\n",
       "      <td>46.100000</td>\n",
       "      <td>70.000000</td>\n",
       "      <td>354.000000</td>\n",
       "      <td>110.000000</td>\n",
       "    </tr>\n",
       "    <tr>\n",
       "      <th>75%</th>\n",
       "      <td>1999.000000</td>\n",
       "      <td>2016.000000</td>\n",
       "      <td>21.000000</td>\n",
       "      <td>55.200000</td>\n",
       "      <td>700.000000</td>\n",
       "      <td>807.500000</td>\n",
       "      <td>275.000000</td>\n",
       "    </tr>\n",
       "    <tr>\n",
       "      <th>max</th>\n",
       "      <td>2020.000000</td>\n",
       "      <td>2023.000000</td>\n",
       "      <td>70.000000</td>\n",
       "      <td>5864.400000</td>\n",
       "      <td>9000.000000</td>\n",
       "      <td>290273.000000</td>\n",
       "      <td>40105.000000</td>\n",
       "    </tr>\n",
       "  </tbody>\n",
       "</table>\n",
       "</div>"
      ],
      "text/plain": [
       "          distilled       bottled           age      strength            cl  \\\n",
       "count  34342.000000  32402.000000  47013.000000  76723.000000  77416.000000   \n",
       "mean    1989.228292   2009.748904     16.379562     50.144099    230.378640   \n",
       "std       13.951475     10.087511      8.009487     36.938786    308.573586   \n",
       "min     1711.000000   1618.000000      0.000000      2.000000      0.000000   \n",
       "25%     1979.000000   2005.000000     10.000000     43.000000     70.000000   \n",
       "50%     1991.000000   2012.000000     15.000000     46.100000     70.000000   \n",
       "75%     1999.000000   2016.000000     21.000000     55.200000    700.000000   \n",
       "max     2020.000000   2023.000000     70.000000   5864.400000   9000.000000   \n",
       "\n",
       "       bottle number   Winning bid  \n",
       "count   25227.000000  81753.000000  \n",
       "mean     1781.896004    326.164104  \n",
       "std      4418.033928    876.762498  \n",
       "min         1.000000      1.000000  \n",
       "25%       227.000000     42.000000  \n",
       "50%       354.000000    110.000000  \n",
       "75%       807.500000    275.000000  \n",
       "max    290273.000000  40105.000000  "
      ]
     },
     "execution_count": 349,
     "metadata": {},
     "output_type": "execute_result"
    }
   ],
   "source": [
    "newdf.loc[:,[col for col in newdf.columns if col not in b_cat_cols]].describe()"
   ]
  },
  {
   "cell_type": "code",
   "execution_count": 352,
   "id": "14d7de27-4ef5-4b8b-9199-bbefc7ae6da8",
   "metadata": {},
   "outputs": [
    {
     "name": "stdout",
     "output_type": "stream",
     "text": [
      "['2019', '2019', '2019', '2019', '2019', '2019', '2020', '2020', '2020', '2020', '2020', '2020', '2020', '2020', '2020', '2021', '2021', '2021', '2021', '2021', '2021', '2021', '2021', '2021', '2021', '2021', '2021', '2021', '2021', '2021', '2022', '2022', '2022', '2022', '2022', '2022', '2022', '2022', '2022', '2022', '2023', '2023', '2023', '2023', '2023', '2023', '2023']\n",
      "['449', '366', '435', '396', '395', '355', '421', '407', '420', '475', '410', '410', '436', '448', '436', '505', '439', '475', '480', '470', '605', '445', '435', '530', '521', '516', '455', '410', '416', '415', '456', '456', '450', '495', '445', '512', '495', '486', '481', '475', '480', '490', '478', '472', '470', '450', '400']\n"
     ]
    }
   ],
   "source": [
    "newdf['his_bid_times'] = [list(reversed([vv.replace(\"'\",'').split('-')[0] for vv in v])) for v in newdf['his_bid_times']]\n",
    "newdf['his_bid_prices'] = [list(reversed([vv.replace(\"'\",'') for vv in v])) for v in newdf['his_bid_prices']]\n",
    "print(newdf['his_bid_times'][0])\n",
    "print(newdf['his_bid_prices'][0])"
   ]
  },
  {
   "cell_type": "code",
   "execution_count": 353,
   "id": "49b9488d-7e30-4123-bd33-1dbd8c9fea4e",
   "metadata": {},
   "outputs": [],
   "source": [
    "newdf['his_bid_times'] = [','.join(v) for v in newdf['his_bid_times']]\n",
    "newdf['his_bid_prices'] = [','.join(v) for v in newdf['his_bid_prices']]"
   ]
  },
  {
   "cell_type": "code",
   "execution_count": 354,
   "id": "c313769c-daf1-4297-b7aa-70eadd269ad6",
   "metadata": {},
   "outputs": [],
   "source": [
    "newdf['auc_year'] = [float(v.split(',')[-1]) for v in newdf['his_bid_times']]"
   ]
  },
  {
   "cell_type": "code",
   "execution_count": 356,
   "id": "16e03520-fc50-444d-a7b6-ce0dccc272c3",
   "metadata": {},
   "outputs": [],
   "source": [
    "newdf.to_csv('datas/d_p2_stage1.csv',index=False)"
   ]
  },
  {
   "cell_type": "markdown",
   "id": "9cb07b24-d36f-43da-8738-d2a5e861da42",
   "metadata": {},
   "source": [
    "## 2.4 Post Process Stage 2 for No.1 and No.2 \n",
    "> generate dataset for ML / DL training"
   ]
  },
  {
   "cell_type": "code",
   "execution_count": 43,
   "id": "42bd09fa-dccd-4f50-a4bc-5d922754cea5",
   "metadata": {},
   "outputs": [],
   "source": [
    "d_a = pd.read_csv('datas/d_p1_stage1.csv')\n",
    "d_b = pd.read_csv('datas/d_p2_stage1.csv')"
   ]
  },
  {
   "cell_type": "code",
   "execution_count": 48,
   "id": "bd9650f0-24ad-499a-ae6a-b2efef3a3985",
   "metadata": {},
   "outputs": [
    {
     "name": "stdout",
     "output_type": "stream",
     "text": [
      "for dataset 1\n",
      "colname: Winning bid type: float64 notna_ratio: 1.0\n",
      "colname: age type: float64 notna_ratio: 0.69\n",
      "colname: auc_year type: int64 notna_ratio: 1.0\n",
      "colname: bottle number type: float64 notna_ratio: 0.49\n",
      "colname: bottled type: float64 notna_ratio: 0.44\n",
      "colname: cask number type: float64 notna_ratio: 0.25\n",
      "colname: cask type type: category notna_ratio: 0.44\n",
      "colname: cl type: float64 notna_ratio: 0.91\n",
      "colname: distilled type: float64 notna_ratio: 0.49\n",
      "colname: extracted_distillery type: category notna_ratio: 0.71\n",
      "colname: his_bid_prices type: object notna_ratio: 1.0\n",
      "colname: his_bid_times type: object notna_ratio: 1.0\n",
      "colname: strength type: float64 notna_ratio: 0.91\n"
     ]
    }
   ],
   "source": [
    "print('for dataset 1')\n",
    "for k in sorted(d_a.columns):\n",
    "    print('colname:',k,'type:',d_a[k].dtype if k not in cat_cols else 'category','notna_ratio:',round(d_a[k].notna().sum()/d_a.shape[0],2))"
   ]
  },
  {
   "cell_type": "code",
   "execution_count": 49,
   "id": "cbae85bb-7697-4335-bbf5-e00ae02acd32",
   "metadata": {},
   "outputs": [
    {
     "name": "stdout",
     "output_type": "stream",
     "text": [
      "for dataset 2\n",
      "colname: Winning bid type: float64 notna_ratio: 1.0\n",
      "colname: age type: float64 notna_ratio: 0.58\n",
      "colname: auc_year type: float64 notna_ratio: 1.0\n",
      "colname: bottle number type: float64 notna_ratio: 0.31\n",
      "colname: bottled type: float64 notna_ratio: 0.4\n",
      "colname: bottler label type: category notna_ratio: 0.78\n",
      "colname: cask type type: category notna_ratio: 0.95\n",
      "colname: category type: category notna_ratio: 1.0\n",
      "colname: cl type: float64 notna_ratio: 0.95\n",
      "colname: distilled type: float64 notna_ratio: 0.42\n",
      "colname: extracted_distillery type: category notna_ratio: 0.77\n",
      "colname: his_bid_prices type: object notna_ratio: 1.0\n",
      "colname: his_bid_times type: object notna_ratio: 1.0\n",
      "colname: hist_ids type: object notna_ratio: 1.0\n",
      "colname: strength type: float64 notna_ratio: 0.94\n",
      "colname: whisky type label type: category notna_ratio: 0.94\n"
     ]
    }
   ],
   "source": [
    "print('for dataset 2')\n",
    "for k in sorted(d_b.columns):\n",
    "    print('colname:',k,'type:',d_b[k].dtype if k not in cat_cols else 'category','notna_ratio:',round(d_b[k].notna().sum()/d_b.shape[0],2))"
   ]
  },
  {
   "cell_type": "code",
   "execution_count": 53,
   "id": "e30df028-2b5c-43b2-96e2-134982f9be2f",
   "metadata": {},
   "outputs": [
    {
     "name": "stdout",
     "output_type": "stream",
     "text": [
      "Numerical Features Statistics for Dataset No.1\n"
     ]
    },
    {
     "data": {
      "text/html": [
       "<div>\n",
       "<style scoped>\n",
       "    .dataframe tbody tr th:only-of-type {\n",
       "        vertical-align: middle;\n",
       "    }\n",
       "\n",
       "    .dataframe tbody tr th {\n",
       "        vertical-align: top;\n",
       "    }\n",
       "\n",
       "    .dataframe thead th {\n",
       "        text-align: right;\n",
       "    }\n",
       "</style>\n",
       "<table border=\"1\" class=\"dataframe\">\n",
       "  <thead>\n",
       "    <tr style=\"text-align: right;\">\n",
       "      <th></th>\n",
       "      <th>Winning bid</th>\n",
       "      <th>age</th>\n",
       "      <th>auc_year</th>\n",
       "      <th>bottle number</th>\n",
       "      <th>bottled</th>\n",
       "      <th>cask number</th>\n",
       "      <th>cl</th>\n",
       "      <th>distilled</th>\n",
       "      <th>strength</th>\n",
       "    </tr>\n",
       "  </thead>\n",
       "  <tbody>\n",
       "    <tr>\n",
       "      <th>count</th>\n",
       "      <td>30453.00</td>\n",
       "      <td>21107.00</td>\n",
       "      <td>30453.00</td>\n",
       "      <td>14780.00</td>\n",
       "      <td>13516.00</td>\n",
       "      <td>7.594000e+03</td>\n",
       "      <td>27790.00</td>\n",
       "      <td>15019.00</td>\n",
       "      <td>27791.00</td>\n",
       "    </tr>\n",
       "    <tr>\n",
       "      <th>mean</th>\n",
       "      <td>349.13</td>\n",
       "      <td>18.39</td>\n",
       "      <td>2020.57</td>\n",
       "      <td>6116.49</td>\n",
       "      <td>2012.65</td>\n",
       "      <td>4.203419e+06</td>\n",
       "      <td>66.70</td>\n",
       "      <td>1992.53</td>\n",
       "      <td>50.14</td>\n",
       "    </tr>\n",
       "    <tr>\n",
       "      <th>std</th>\n",
       "      <td>722.66</td>\n",
       "      <td>9.17</td>\n",
       "      <td>2.60</td>\n",
       "      <td>160202.09</td>\n",
       "      <td>7.73</td>\n",
       "      <td>1.087493e+08</td>\n",
       "      <td>15.07</td>\n",
       "      <td>13.74</td>\n",
       "      <td>7.31</td>\n",
       "    </tr>\n",
       "    <tr>\n",
       "      <th>min</th>\n",
       "      <td>5.00</td>\n",
       "      <td>0.00</td>\n",
       "      <td>2011.00</td>\n",
       "      <td>0.00</td>\n",
       "      <td>1921.00</td>\n",
       "      <td>0.000000e+00</td>\n",
       "      <td>0.50</td>\n",
       "      <td>1900.00</td>\n",
       "      <td>0.40</td>\n",
       "    </tr>\n",
       "    <tr>\n",
       "      <th>25%</th>\n",
       "      <td>65.00</td>\n",
       "      <td>12.00</td>\n",
       "      <td>2019.00</td>\n",
       "      <td>216.00</td>\n",
       "      <td>2009.00</td>\n",
       "      <td>4.840000e+02</td>\n",
       "      <td>70.00</td>\n",
       "      <td>1983.00</td>\n",
       "      <td>43.00</td>\n",
       "    </tr>\n",
       "    <tr>\n",
       "      <th>50%</th>\n",
       "      <td>130.00</td>\n",
       "      <td>17.00</td>\n",
       "      <td>2022.00</td>\n",
       "      <td>312.00</td>\n",
       "      <td>2015.00</td>\n",
       "      <td>2.544000e+03</td>\n",
       "      <td>70.00</td>\n",
       "      <td>1994.00</td>\n",
       "      <td>50.00</td>\n",
       "    </tr>\n",
       "    <tr>\n",
       "      <th>75%</th>\n",
       "      <td>300.00</td>\n",
       "      <td>24.00</td>\n",
       "      <td>2023.00</td>\n",
       "      <td>648.00</td>\n",
       "      <td>2018.00</td>\n",
       "      <td>8.679500e+03</td>\n",
       "      <td>70.00</td>\n",
       "      <td>2004.00</td>\n",
       "      <td>56.40</td>\n",
       "    </tr>\n",
       "    <tr>\n",
       "      <th>max</th>\n",
       "      <td>10000.00</td>\n",
       "      <td>99.00</td>\n",
       "      <td>2023.00</td>\n",
       "      <td>9452533.00</td>\n",
       "      <td>2023.00</td>\n",
       "      <td>7.844000e+09</td>\n",
       "      <td>780.00</td>\n",
       "      <td>2022.00</td>\n",
       "      <td>81.00</td>\n",
       "    </tr>\n",
       "  </tbody>\n",
       "</table>\n",
       "</div>"
      ],
      "text/plain": [
       "       Winning bid       age  auc_year  bottle number   bottled   cask number  \\\n",
       "count     30453.00  21107.00  30453.00       14780.00  13516.00  7.594000e+03   \n",
       "mean        349.13     18.39   2020.57        6116.49   2012.65  4.203419e+06   \n",
       "std         722.66      9.17      2.60      160202.09      7.73  1.087493e+08   \n",
       "min           5.00      0.00   2011.00           0.00   1921.00  0.000000e+00   \n",
       "25%          65.00     12.00   2019.00         216.00   2009.00  4.840000e+02   \n",
       "50%         130.00     17.00   2022.00         312.00   2015.00  2.544000e+03   \n",
       "75%         300.00     24.00   2023.00         648.00   2018.00  8.679500e+03   \n",
       "max       10000.00     99.00   2023.00     9452533.00   2023.00  7.844000e+09   \n",
       "\n",
       "             cl  distilled  strength  \n",
       "count  27790.00   15019.00  27791.00  \n",
       "mean      66.70    1992.53     50.14  \n",
       "std       15.07      13.74      7.31  \n",
       "min        0.50    1900.00      0.40  \n",
       "25%       70.00    1983.00     43.00  \n",
       "50%       70.00    1994.00     50.00  \n",
       "75%       70.00    2004.00     56.40  \n",
       "max      780.00    2022.00     81.00  "
      ]
     },
     "execution_count": 53,
     "metadata": {},
     "output_type": "execute_result"
    }
   ],
   "source": [
    "print('Numerical Features Statistics for Dataset No.1')\n",
    "d_a.loc[:,[c for c in sorted(d_a.columns) if c not in cat_cols and 'his' not in c]].describe().round(2)"
   ]
  },
  {
   "cell_type": "code",
   "execution_count": 54,
   "id": "881b2ca0-003f-4a84-8bc5-63dd63b8cd0c",
   "metadata": {},
   "outputs": [
    {
     "name": "stdout",
     "output_type": "stream",
     "text": [
      "Numerical Features Statistics for Dataset No.2\n"
     ]
    },
    {
     "data": {
      "text/html": [
       "<div>\n",
       "<style scoped>\n",
       "    .dataframe tbody tr th:only-of-type {\n",
       "        vertical-align: middle;\n",
       "    }\n",
       "\n",
       "    .dataframe tbody tr th {\n",
       "        vertical-align: top;\n",
       "    }\n",
       "\n",
       "    .dataframe thead th {\n",
       "        text-align: right;\n",
       "    }\n",
       "</style>\n",
       "<table border=\"1\" class=\"dataframe\">\n",
       "  <thead>\n",
       "    <tr style=\"text-align: right;\">\n",
       "      <th></th>\n",
       "      <th>Winning bid</th>\n",
       "      <th>age</th>\n",
       "      <th>auc_year</th>\n",
       "      <th>bottle number</th>\n",
       "      <th>bottled</th>\n",
       "      <th>cl</th>\n",
       "      <th>distilled</th>\n",
       "      <th>strength</th>\n",
       "    </tr>\n",
       "  </thead>\n",
       "  <tbody>\n",
       "    <tr>\n",
       "      <th>count</th>\n",
       "      <td>81753.00</td>\n",
       "      <td>47013.00</td>\n",
       "      <td>81753.00</td>\n",
       "      <td>25227.00</td>\n",
       "      <td>32402.00</td>\n",
       "      <td>77416.00</td>\n",
       "      <td>34342.00</td>\n",
       "      <td>76723.00</td>\n",
       "    </tr>\n",
       "    <tr>\n",
       "      <th>mean</th>\n",
       "      <td>326.16</td>\n",
       "      <td>16.38</td>\n",
       "      <td>2021.66</td>\n",
       "      <td>1781.90</td>\n",
       "      <td>2009.75</td>\n",
       "      <td>230.38</td>\n",
       "      <td>1989.23</td>\n",
       "      <td>50.14</td>\n",
       "    </tr>\n",
       "    <tr>\n",
       "      <th>std</th>\n",
       "      <td>876.76</td>\n",
       "      <td>8.01</td>\n",
       "      <td>1.82</td>\n",
       "      <td>4418.03</td>\n",
       "      <td>10.09</td>\n",
       "      <td>308.57</td>\n",
       "      <td>13.95</td>\n",
       "      <td>36.94</td>\n",
       "    </tr>\n",
       "    <tr>\n",
       "      <th>min</th>\n",
       "      <td>1.00</td>\n",
       "      <td>0.00</td>\n",
       "      <td>2014.00</td>\n",
       "      <td>1.00</td>\n",
       "      <td>1618.00</td>\n",
       "      <td>0.00</td>\n",
       "      <td>1711.00</td>\n",
       "      <td>2.00</td>\n",
       "    </tr>\n",
       "    <tr>\n",
       "      <th>25%</th>\n",
       "      <td>42.00</td>\n",
       "      <td>10.00</td>\n",
       "      <td>2021.00</td>\n",
       "      <td>227.00</td>\n",
       "      <td>2005.00</td>\n",
       "      <td>70.00</td>\n",
       "      <td>1979.00</td>\n",
       "      <td>43.00</td>\n",
       "    </tr>\n",
       "    <tr>\n",
       "      <th>50%</th>\n",
       "      <td>110.00</td>\n",
       "      <td>15.00</td>\n",
       "      <td>2022.00</td>\n",
       "      <td>354.00</td>\n",
       "      <td>2012.00</td>\n",
       "      <td>70.00</td>\n",
       "      <td>1991.00</td>\n",
       "      <td>46.10</td>\n",
       "    </tr>\n",
       "    <tr>\n",
       "      <th>75%</th>\n",
       "      <td>275.00</td>\n",
       "      <td>21.00</td>\n",
       "      <td>2023.00</td>\n",
       "      <td>807.50</td>\n",
       "      <td>2016.00</td>\n",
       "      <td>700.00</td>\n",
       "      <td>1999.00</td>\n",
       "      <td>55.20</td>\n",
       "    </tr>\n",
       "    <tr>\n",
       "      <th>max</th>\n",
       "      <td>40105.00</td>\n",
       "      <td>70.00</td>\n",
       "      <td>2023.00</td>\n",
       "      <td>290273.00</td>\n",
       "      <td>2023.00</td>\n",
       "      <td>9000.00</td>\n",
       "      <td>2020.00</td>\n",
       "      <td>5864.40</td>\n",
       "    </tr>\n",
       "  </tbody>\n",
       "</table>\n",
       "</div>"
      ],
      "text/plain": [
       "       Winning bid       age  auc_year  bottle number   bottled        cl  \\\n",
       "count     81753.00  47013.00  81753.00       25227.00  32402.00  77416.00   \n",
       "mean        326.16     16.38   2021.66        1781.90   2009.75    230.38   \n",
       "std         876.76      8.01      1.82        4418.03     10.09    308.57   \n",
       "min           1.00      0.00   2014.00           1.00   1618.00      0.00   \n",
       "25%          42.00     10.00   2021.00         227.00   2005.00     70.00   \n",
       "50%         110.00     15.00   2022.00         354.00   2012.00     70.00   \n",
       "75%         275.00     21.00   2023.00         807.50   2016.00    700.00   \n",
       "max       40105.00     70.00   2023.00      290273.00   2023.00   9000.00   \n",
       "\n",
       "       distilled  strength  \n",
       "count   34342.00  76723.00  \n",
       "mean     1989.23     50.14  \n",
       "std        13.95     36.94  \n",
       "min      1711.00      2.00  \n",
       "25%      1979.00     43.00  \n",
       "50%      1991.00     46.10  \n",
       "75%      1999.00     55.20  \n",
       "max      2020.00   5864.40  "
      ]
     },
     "execution_count": 54,
     "metadata": {},
     "output_type": "execute_result"
    }
   ],
   "source": [
    "print('Numerical Features Statistics for Dataset No.2')\n",
    "d_b.loc[:,[c for c in sorted(d_b.columns) if c not in cat_cols and 'his' not in c]].describe().round(2)"
   ]
  },
  {
   "cell_type": "code",
   "execution_count": 23,
   "id": "3b98ad99-4900-4899-bfeb-f570769acbda",
   "metadata": {
    "tags": []
   },
   "outputs": [
    {
     "name": "stdout",
     "output_type": "stream",
     "text": [
      "(30453, 13) (81753, 16)\n",
      "['Winning bid', 'age', 'bottle number', 'bottled', 'cask number', 'cask type', 'distilled', 'extracted_distillery', 'his_bid_prices', 'his_bid_times', 'strength', 'cl', 'auc_year'] 13\n",
      "['extracted_distillery', 'bottler label', 'distilled', 'bottled', 'age', 'whisky type label', 'cask type', 'strength', 'cl', 'category', 'hist_ids', 'his_bid_times', 'his_bid_prices', 'bottle number', 'Winning bid', 'auc_year'] 16\n"
     ]
    }
   ],
   "source": [
    "print(d_a.shape,d_b.shape)\n",
    "print(list(d_a.columns),len(d_a.columns))\n",
    "print(list(d_b.columns),len(d_b.columns))"
   ]
  },
  {
   "cell_type": "code",
   "execution_count": 24,
   "id": "2c2bfe71-4fc1-4c16-a9dc-622138d37907",
   "metadata": {
    "tags": []
   },
   "outputs": [
    {
     "name": "stdout",
     "output_type": "stream",
     "text": [
      "distilled 2022.0 1900.0\n",
      "distilled 2020.0 1711.0\n",
      "auc_year 2023 2011\n",
      "auc_year 2023.0 2014.0\n",
      "bottled 2023.0 1921.0\n",
      "bottled 2023.0 1618.0\n"
     ]
    }
   ],
   "source": [
    "for k in ['distilled', 'auc_year', 'bottled']:\n",
    "    if k in d_a.columns:\n",
    "        print(k,d_a[k].max(),d_a[k].min())\n",
    "    if k in d_b.columns:\n",
    "        print(k,d_b[k].max(),d_b[k].min())"
   ]
  },
  {
   "cell_type": "code",
   "execution_count": 25,
   "id": "34a9faa0-955d-4921-85c2-cdb7f2138439",
   "metadata": {
    "tags": []
   },
   "outputs": [
    {
     "name": "stdout",
     "output_type": "stream",
     "text": [
      "Int64Index([], dtype='int64') Int64Index([], dtype='int64')\n"
     ]
    }
   ],
   "source": [
    "print(d_a.loc[d_a['distilled']>2023].index,\n",
    "d_a.loc[d_a['bottled']>2023].index)"
   ]
  },
  {
   "cell_type": "code",
   "execution_count": 26,
   "id": "03ed0cc6-b92d-492f-b2e1-fc4030f98eca",
   "metadata": {
    "tags": []
   },
   "outputs": [],
   "source": [
    "cat_cols = ['cask type','extracted_distillery','bottler label',\n",
    "           'whisky type label','cask type','category']\n",
    "for c in cat_cols:\n",
    "    if c in d_a.columns: \n",
    "        d_a[c] = [int(v) if not np.isnan(v) else None for v in d_a[c]]\n",
    "    if c in d_b.columns:\n",
    "        d_b[c] = [int(v) if not np.isnan(v) else None for v in d_b[c]]"
   ]
  },
  {
   "cell_type": "code",
   "execution_count": 27,
   "id": "5c22d206-34f0-48ae-8642-39ea9619f9c3",
   "metadata": {
    "tags": []
   },
   "outputs": [
    {
     "name": "stdout",
     "output_type": "stream",
     "text": [
      "(30453, 13) (81753, 16)\n"
     ]
    }
   ],
   "source": [
    "d_a = d_a.dropna(subset=['Winning bid'])\n",
    "d_b = d_b.dropna(subset=['Winning bid'])\n",
    "print(d_a.shape,d_b.shape)"
   ]
  },
  {
   "cell_type": "code",
   "execution_count": 28,
   "id": "394cac6e-e2fd-4209-be52-cbd1018251e9",
   "metadata": {
    "tags": []
   },
   "outputs": [],
   "source": [
    "def fill_nan(df):\n",
    "    for k in df.columns:\n",
    "        if np.sum(df[k].isna()) == 0: continue\n",
    "        if k in cat_cols:\n",
    "            fill_val = np.argmax(np.bincount(df[k][df[k].notna()]))\n",
    "            df[k] = [v if not (v is None or np.isnan(v)) else fill_val for v in df[k]]\n",
    "        else:\n",
    "            fill_val = np.mean(df[k][df[k].notna()])\n",
    "            df[k] = [v if not (v is None or np.isnan(v)) else fill_val for v in df[k]]\n",
    "fill_nan(d_a)\n",
    "fill_nan(d_b)"
   ]
  },
  {
   "cell_type": "code",
   "execution_count": 29,
   "id": "0ce99934-5f05-4943-b8b8-aea59c39a106",
   "metadata": {
    "tags": []
   },
   "outputs": [
    {
     "name": "stdout",
     "output_type": "stream",
     "text": [
      "(30453, 12) (81753, 15)\n",
      "['Winning bid', 'age', 'bottle number', 'bottled', 'cask type', 'distilled', 'extracted_distillery', 'his_bid_prices', 'his_bid_times', 'strength', 'cl', 'auc_year'] ['extracted_distillery', 'bottler label', 'distilled', 'bottled', 'age', 'whisky type label', 'cask type', 'strength', 'cl', 'category', 'his_bid_times', 'his_bid_prices', 'bottle number', 'Winning bid', 'auc_year']\n"
     ]
    }
   ],
   "source": [
    "d_b = d_b.drop(columns=['hist_ids'])\n",
    "d_a = d_a.drop(columns=['cask number'])\n",
    "print(d_a.shape,d_b.shape)\n",
    "print(list(d_a.columns),list(d_b.columns))"
   ]
  },
  {
   "cell_type": "code",
   "execution_count": 30,
   "id": "70f77114-9e57-4d63-a5a6-79e66ff0f538",
   "metadata": {
    "tags": []
   },
   "outputs": [
    {
     "name": "stdout",
     "output_type": "stream",
     "text": [
      "2023\n",
      "2023.0\n"
     ]
    }
   ],
   "source": [
    "print(d_a.loc[0,'auc_year'])\n",
    "print(d_b.loc[0,'auc_year'])\n",
    "d_b['auc_year'] = d_b['auc_year'].astype(np.float32)\n",
    "d_a['auc_year'] = d_a['auc_year'].astype(np.float32)"
   ]
  },
  {
   "cell_type": "code",
   "execution_count": 31,
   "id": "984d3e70-bd57-4e63-92ab-140431b53450",
   "metadata": {
    "tags": []
   },
   "outputs": [
    {
     "name": "stdout",
     "output_type": "stream",
     "text": [
      "2013,2013,2013,2013,2013,2013,2014,2014,2014,2014,2014,2014,2014,2014,2014,2014,2014,2014,2015,2015,2015,2015,2015,2015,2015,2015,2015,2015,2015,2016,2016,2016,2016,2016,2016,2016,2016,2016,2016,2016,2016,2017,2017,2017,2017,2017,2017,2017,2017,2017,2017,2018,2018,2018,2018,2018,2018,2018,2019,2019,2019,2019,2019,2019,2019,2019,2019,2019,2019,2019,2020,2020,2020,2020,2020,2020,2020,2021,2021,2021,2021,2021,2022,2022,2022,2022,2022,2022,2022,2022,2023,2023\n",
      "2019,2019,2019,2019,2019,2019,2020,2020,2020,2020,2020,2020,2020,2020,2020,2021,2021,2021,2021,2021,2021,2021,2021,2021,2021,2021,2021,2021,2021,2021,2022,2022,2022,2022,2022,2022,2022,2022,2022,2022,2023,2023,2023,2023,2023,2023,2023\n",
      "130.0,88.33,61.0,47.5,48.33,45.0,43.75,92.5,55.0,46.0,55.0,65.0,40.0,55.0,47.5,47.5,58.33,48.0,77.5,60.0,70.0,57.5,65.0,50.0,65.0,82.5,75.0,66.67,57.5,105.0,52.22,57.5,63.33,46.67,55.0,60.0,80.0,80.0,90.0,115.0,80.0,90.0,85.0,80.0,65.0,68.33,115.0,90.0,122.5,133.33,81.67,127.5,110.0,140.0,152.5,124.0,115.0,130.0,125.0,150.0,158.0,104.0,105.0,120.0,92.5,130.0,110.0,150.0,110.0,140.0,113.33,135.0,140.0,135.0,190.0,140.0,170.0,190.0,240.0,222.5,240.0,306.67,400.0,380.0,380.0,400.0,360.0,420.0,380.0,305.0,300.0,270.0\n",
      "449,366,435,396,395,355,421,407,420,475,410,410,436,448,436,505,439,475,480,470,605,445,435,530,521,516,455,410,416,415,456,456,450,495,445,512,495,486,481,475,480,490,478,472,470,450,400\n"
     ]
    }
   ],
   "source": [
    "print(d_a.loc[0,'his_bid_times'])\n",
    "print(d_b.loc[0,'his_bid_times'])\n",
    "print(d_a.loc[0,'his_bid_prices'])\n",
    "print(d_b.loc[0,'his_bid_prices'])"
   ]
  },
  {
   "cell_type": "code",
   "execution_count": 35,
   "id": "8f9e98d7-9038-47c5-bfb3-17825ed6751c",
   "metadata": {},
   "outputs": [
    {
     "name": "stdout",
     "output_type": "stream",
     "text": [
      "Winning bid float64\n",
      "age float64\n",
      "bottle number float64\n",
      "bottled float64\n",
      "cask type object\n",
      "distilled float64\n",
      "extracted_distillery object\n",
      "his_bid_prices object\n",
      "his_bid_times object\n",
      "strength float64\n",
      "cl float64\n",
      "auc_year float32\n",
      "extracted_distillery object\n",
      "bottler label object\n",
      "distilled float64\n",
      "bottled float64\n",
      "age float64\n",
      "whisky type label object\n",
      "cask type object\n",
      "strength float64\n",
      "cl float64\n",
      "category object\n",
      "his_bid_times object\n",
      "his_bid_prices object\n",
      "bottle number float64\n",
      "Winning bid float64\n",
      "auc_year float32\n"
     ]
    }
   ],
   "source": [
    "for k in d_a.columns:\n",
    "    if k in cat_cols:\n",
    "        d_a[k] = d_a[k].astype(np.int32).astype(str)\n",
    "    print(k,d_a[k].dtype)\n",
    "for k in d_b.columns:\n",
    "    if k in cat_cols:\n",
    "        d_b[k] = d_b[k].astype(np.int32).astype(str)\n",
    "    print(k,d_b[k].dtype)"
   ]
  },
  {
   "cell_type": "code",
   "execution_count": 36,
   "id": "129f4f71-a534-4023-87fb-c95c7b6406c7",
   "metadata": {},
   "outputs": [
    {
     "name": "stdout",
     "output_type": "stream",
     "text": [
      "(30453, 10) (81753, 13)\n"
     ]
    },
    {
     "data": {
      "text/html": [
       "<div>\n",
       "<style scoped>\n",
       "    .dataframe tbody tr th:only-of-type {\n",
       "        vertical-align: middle;\n",
       "    }\n",
       "\n",
       "    .dataframe tbody tr th {\n",
       "        vertical-align: top;\n",
       "    }\n",
       "\n",
       "    .dataframe thead th {\n",
       "        text-align: right;\n",
       "    }\n",
       "</style>\n",
       "<table border=\"1\" class=\"dataframe\">\n",
       "  <thead>\n",
       "    <tr style=\"text-align: right;\">\n",
       "      <th></th>\n",
       "      <th>Winning bid</th>\n",
       "      <th>age</th>\n",
       "      <th>bottle number</th>\n",
       "      <th>bottled</th>\n",
       "      <th>cask type</th>\n",
       "      <th>distilled</th>\n",
       "      <th>extracted_distillery</th>\n",
       "      <th>strength</th>\n",
       "      <th>cl</th>\n",
       "      <th>auc_year</th>\n",
       "    </tr>\n",
       "  </thead>\n",
       "  <tbody>\n",
       "    <tr>\n",
       "      <th>0</th>\n",
       "      <td>270.00</td>\n",
       "      <td>18.386386</td>\n",
       "      <td>6116.492625</td>\n",
       "      <td>2012.648195</td>\n",
       "      <td>2979</td>\n",
       "      <td>1992.525934</td>\n",
       "      <td>111</td>\n",
       "      <td>40.0</td>\n",
       "      <td>70.0</td>\n",
       "      <td>2023.0</td>\n",
       "    </tr>\n",
       "    <tr>\n",
       "      <th>1</th>\n",
       "      <td>2600.00</td>\n",
       "      <td>13.000000</td>\n",
       "      <td>6116.492625</td>\n",
       "      <td>2012.000000</td>\n",
       "      <td>2979</td>\n",
       "      <td>1999.000000</td>\n",
       "      <td>111</td>\n",
       "      <td>57.2</td>\n",
       "      <td>70.0</td>\n",
       "      <td>2023.0</td>\n",
       "    </tr>\n",
       "    <tr>\n",
       "      <th>2</th>\n",
       "      <td>3200.00</td>\n",
       "      <td>17.000000</td>\n",
       "      <td>6116.492625</td>\n",
       "      <td>2013.000000</td>\n",
       "      <td>2979</td>\n",
       "      <td>1996.000000</td>\n",
       "      <td>111</td>\n",
       "      <td>55.3</td>\n",
       "      <td>70.0</td>\n",
       "      <td>2023.0</td>\n",
       "    </tr>\n",
       "    <tr>\n",
       "      <th>3</th>\n",
       "      <td>1241.67</td>\n",
       "      <td>18.386386</td>\n",
       "      <td>6116.492625</td>\n",
       "      <td>2012.648195</td>\n",
       "      <td>2979</td>\n",
       "      <td>1992.525934</td>\n",
       "      <td>111</td>\n",
       "      <td>48.0</td>\n",
       "      <td>70.0</td>\n",
       "      <td>2023.0</td>\n",
       "    </tr>\n",
       "    <tr>\n",
       "      <th>4</th>\n",
       "      <td>1500.00</td>\n",
       "      <td>18.386386</td>\n",
       "      <td>6116.492625</td>\n",
       "      <td>2012.648195</td>\n",
       "      <td>2979</td>\n",
       "      <td>1992.525934</td>\n",
       "      <td>111</td>\n",
       "      <td>48.0</td>\n",
       "      <td>75.0</td>\n",
       "      <td>2023.0</td>\n",
       "    </tr>\n",
       "  </tbody>\n",
       "</table>\n",
       "</div>"
      ],
      "text/plain": [
       "   Winning bid        age  bottle number      bottled cask type    distilled  \\\n",
       "0       270.00  18.386386    6116.492625  2012.648195      2979  1992.525934   \n",
       "1      2600.00  13.000000    6116.492625  2012.000000      2979  1999.000000   \n",
       "2      3200.00  17.000000    6116.492625  2013.000000      2979  1996.000000   \n",
       "3      1241.67  18.386386    6116.492625  2012.648195      2979  1992.525934   \n",
       "4      1500.00  18.386386    6116.492625  2012.648195      2979  1992.525934   \n",
       "\n",
       "  extracted_distillery  strength    cl  auc_year  \n",
       "0                  111      40.0  70.0    2023.0  \n",
       "1                  111      57.2  70.0    2023.0  \n",
       "2                  111      55.3  70.0    2023.0  \n",
       "3                  111      48.0  70.0    2023.0  \n",
       "4                  111      48.0  75.0    2023.0  "
      ]
     },
     "execution_count": 36,
     "metadata": {},
     "output_type": "execute_result"
    }
   ],
   "source": [
    "d1 = d_a.drop(columns=['his_bid_prices','his_bid_times'])\n",
    "d2 = d_b.drop(columns=['his_bid_prices','his_bid_times'])\n",
    "print(d1.shape,d2.shape)\n",
    "d1.head()"
   ]
  },
  {
   "cell_type": "code",
   "execution_count": 37,
   "id": "37af7749-298a-4841-9e07-df8074db2fe0",
   "metadata": {},
   "outputs": [
    {
     "data": {
      "text/html": [
       "<div>\n",
       "<style scoped>\n",
       "    .dataframe tbody tr th:only-of-type {\n",
       "        vertical-align: middle;\n",
       "    }\n",
       "\n",
       "    .dataframe tbody tr th {\n",
       "        vertical-align: top;\n",
       "    }\n",
       "\n",
       "    .dataframe thead th {\n",
       "        text-align: right;\n",
       "    }\n",
       "</style>\n",
       "<table border=\"1\" class=\"dataframe\">\n",
       "  <thead>\n",
       "    <tr style=\"text-align: right;\">\n",
       "      <th></th>\n",
       "      <th>extracted_distillery</th>\n",
       "      <th>bottler label</th>\n",
       "      <th>distilled</th>\n",
       "      <th>bottled</th>\n",
       "      <th>age</th>\n",
       "      <th>whisky type label</th>\n",
       "      <th>cask type</th>\n",
       "      <th>strength</th>\n",
       "      <th>cl</th>\n",
       "      <th>category</th>\n",
       "      <th>bottle number</th>\n",
       "      <th>Winning bid</th>\n",
       "      <th>auc_year</th>\n",
       "    </tr>\n",
       "  </thead>\n",
       "  <tbody>\n",
       "    <tr>\n",
       "      <th>0</th>\n",
       "      <td>11</td>\n",
       "      <td>303</td>\n",
       "      <td>1996.000000</td>\n",
       "      <td>2018.000000</td>\n",
       "      <td>22.000000</td>\n",
       "      <td>385</td>\n",
       "      <td>5</td>\n",
       "      <td>46.4</td>\n",
       "      <td>70.0</td>\n",
       "      <td>0</td>\n",
       "      <td>1781.896004</td>\n",
       "      <td>400.0</td>\n",
       "      <td>2023.0</td>\n",
       "    </tr>\n",
       "    <tr>\n",
       "      <th>1</th>\n",
       "      <td>191</td>\n",
       "      <td>303</td>\n",
       "      <td>1989.228292</td>\n",
       "      <td>2009.748904</td>\n",
       "      <td>16.379562</td>\n",
       "      <td>333</td>\n",
       "      <td>32</td>\n",
       "      <td>43.0</td>\n",
       "      <td>700.0</td>\n",
       "      <td>4</td>\n",
       "      <td>1781.896004</td>\n",
       "      <td>238.0</td>\n",
       "      <td>2022.0</td>\n",
       "    </tr>\n",
       "    <tr>\n",
       "      <th>2</th>\n",
       "      <td>44</td>\n",
       "      <td>303</td>\n",
       "      <td>2010.000000</td>\n",
       "      <td>2020.000000</td>\n",
       "      <td>10.000000</td>\n",
       "      <td>385</td>\n",
       "      <td>36</td>\n",
       "      <td>62.9</td>\n",
       "      <td>700.0</td>\n",
       "      <td>0</td>\n",
       "      <td>282.000000</td>\n",
       "      <td>156.0</td>\n",
       "      <td>2021.0</td>\n",
       "    </tr>\n",
       "    <tr>\n",
       "      <th>3</th>\n",
       "      <td>173</td>\n",
       "      <td>303</td>\n",
       "      <td>1989.228292</td>\n",
       "      <td>2009.748904</td>\n",
       "      <td>16.000000</td>\n",
       "      <td>720</td>\n",
       "      <td>4</td>\n",
       "      <td>43.0</td>\n",
       "      <td>5.0</td>\n",
       "      <td>14</td>\n",
       "      <td>1781.896004</td>\n",
       "      <td>14.0</td>\n",
       "      <td>2023.0</td>\n",
       "    </tr>\n",
       "    <tr>\n",
       "      <th>4</th>\n",
       "      <td>11</td>\n",
       "      <td>303</td>\n",
       "      <td>1989.228292</td>\n",
       "      <td>2017.000000</td>\n",
       "      <td>23.000000</td>\n",
       "      <td>385</td>\n",
       "      <td>5</td>\n",
       "      <td>46.3</td>\n",
       "      <td>70.0</td>\n",
       "      <td>0</td>\n",
       "      <td>1781.896004</td>\n",
       "      <td>510.0</td>\n",
       "      <td>2023.0</td>\n",
       "    </tr>\n",
       "  </tbody>\n",
       "</table>\n",
       "</div>"
      ],
      "text/plain": [
       "  extracted_distillery bottler label    distilled      bottled        age  \\\n",
       "0                   11           303  1996.000000  2018.000000  22.000000   \n",
       "1                  191           303  1989.228292  2009.748904  16.379562   \n",
       "2                   44           303  2010.000000  2020.000000  10.000000   \n",
       "3                  173           303  1989.228292  2009.748904  16.000000   \n",
       "4                   11           303  1989.228292  2017.000000  23.000000   \n",
       "\n",
       "  whisky type label cask type  strength     cl category  bottle number  \\\n",
       "0               385         5      46.4   70.0        0    1781.896004   \n",
       "1               333        32      43.0  700.0        4    1781.896004   \n",
       "2               385        36      62.9  700.0        0     282.000000   \n",
       "3               720         4      43.0    5.0       14    1781.896004   \n",
       "4               385         5      46.3   70.0        0    1781.896004   \n",
       "\n",
       "   Winning bid  auc_year  \n",
       "0        400.0    2023.0  \n",
       "1        238.0    2022.0  \n",
       "2        156.0    2021.0  \n",
       "3         14.0    2023.0  \n",
       "4        510.0    2023.0  "
      ]
     },
     "execution_count": 37,
     "metadata": {},
     "output_type": "execute_result"
    }
   ],
   "source": [
    "d2.head()"
   ]
  },
  {
   "cell_type": "code",
   "execution_count": 38,
   "id": "61b20256-f7eb-44b2-8ca1-70db52bd12a0",
   "metadata": {},
   "outputs": [],
   "source": [
    "d1.to_csv('datas/ml_v1_da.csv',index=False)\n",
    "d2.to_csv('datas/ml_v1_db.csv',index=False)"
   ]
  },
  {
   "cell_type": "code",
   "execution_count": 39,
   "id": "f1dfac3d-1a99-4254-b830-1e226254bee0",
   "metadata": {},
   "outputs": [
    {
     "name": "stdout",
     "output_type": "stream",
     "text": [
      "(30453, 10) (81753, 10)\n"
     ]
    },
    {
     "data": {
      "text/html": [
       "<div>\n",
       "<style scoped>\n",
       "    .dataframe tbody tr th:only-of-type {\n",
       "        vertical-align: middle;\n",
       "    }\n",
       "\n",
       "    .dataframe tbody tr th {\n",
       "        vertical-align: top;\n",
       "    }\n",
       "\n",
       "    .dataframe thead th {\n",
       "        text-align: right;\n",
       "    }\n",
       "</style>\n",
       "<table border=\"1\" class=\"dataframe\">\n",
       "  <thead>\n",
       "    <tr style=\"text-align: right;\">\n",
       "      <th></th>\n",
       "      <th>Winning bid</th>\n",
       "      <th>age</th>\n",
       "      <th>bottle number</th>\n",
       "      <th>bottled</th>\n",
       "      <th>distilled</th>\n",
       "      <th>his_bid_prices</th>\n",
       "      <th>his_bid_times</th>\n",
       "      <th>strength</th>\n",
       "      <th>cl</th>\n",
       "      <th>auc_year</th>\n",
       "    </tr>\n",
       "  </thead>\n",
       "  <tbody>\n",
       "    <tr>\n",
       "      <th>0</th>\n",
       "      <td>270.00</td>\n",
       "      <td>18.386386</td>\n",
       "      <td>6116.492625</td>\n",
       "      <td>2012.648195</td>\n",
       "      <td>1992.525934</td>\n",
       "      <td>130.0,88.33,61.0,47.5,48.33,45.0,43.75,92.5,55...</td>\n",
       "      <td>2013,2013,2013,2013,2013,2013,2014,2014,2014,2...</td>\n",
       "      <td>40.0</td>\n",
       "      <td>70.0</td>\n",
       "      <td>2023.0</td>\n",
       "    </tr>\n",
       "    <tr>\n",
       "      <th>1</th>\n",
       "      <td>2600.00</td>\n",
       "      <td>13.000000</td>\n",
       "      <td>6116.492625</td>\n",
       "      <td>2012.000000</td>\n",
       "      <td>1999.000000</td>\n",
       "      <td>860.0,533.33,540.0,590.0,600.0,476.67,520.0,49...</td>\n",
       "      <td>2013,2013,2013,2013,2013,2013,2013,2013,2013,2...</td>\n",
       "      <td>57.2</td>\n",
       "      <td>70.0</td>\n",
       "      <td>2023.0</td>\n",
       "    </tr>\n",
       "    <tr>\n",
       "      <th>2</th>\n",
       "      <td>3200.00</td>\n",
       "      <td>17.000000</td>\n",
       "      <td>6116.492625</td>\n",
       "      <td>2013.000000</td>\n",
       "      <td>1996.000000</td>\n",
       "      <td>540.0,506.67,615.0,580.0,620.0,566.67,560.0,62...</td>\n",
       "      <td>2014,2014,2014,2014,2014,2014,2015,2015,2015,2...</td>\n",
       "      <td>55.3</td>\n",
       "      <td>70.0</td>\n",
       "      <td>2023.0</td>\n",
       "    </tr>\n",
       "    <tr>\n",
       "      <th>3</th>\n",
       "      <td>1241.67</td>\n",
       "      <td>18.386386</td>\n",
       "      <td>6116.492625</td>\n",
       "      <td>2012.648195</td>\n",
       "      <td>1992.525934</td>\n",
       "      <td>165.0,180.0,111.67,108.89,67.78,95.83,76.0,105...</td>\n",
       "      <td>2016,2016,2016,2016,2016,2016,2016,2016,2016,2...</td>\n",
       "      <td>48.0</td>\n",
       "      <td>70.0</td>\n",
       "      <td>2023.0</td>\n",
       "    </tr>\n",
       "    <tr>\n",
       "      <th>4</th>\n",
       "      <td>1500.00</td>\n",
       "      <td>18.386386</td>\n",
       "      <td>6116.492625</td>\n",
       "      <td>2012.648195</td>\n",
       "      <td>1992.525934</td>\n",
       "      <td>145.0,65.0,90.0,115.0,85.0,140.0,145.0,136.67,...</td>\n",
       "      <td>2016,2016,2016,2016,2016,2016,2016,2017,2017,2...</td>\n",
       "      <td>48.0</td>\n",
       "      <td>75.0</td>\n",
       "      <td>2023.0</td>\n",
       "    </tr>\n",
       "  </tbody>\n",
       "</table>\n",
       "</div>"
      ],
      "text/plain": [
       "   Winning bid        age  bottle number      bottled    distilled  \\\n",
       "0       270.00  18.386386    6116.492625  2012.648195  1992.525934   \n",
       "1      2600.00  13.000000    6116.492625  2012.000000  1999.000000   \n",
       "2      3200.00  17.000000    6116.492625  2013.000000  1996.000000   \n",
       "3      1241.67  18.386386    6116.492625  2012.648195  1992.525934   \n",
       "4      1500.00  18.386386    6116.492625  2012.648195  1992.525934   \n",
       "\n",
       "                                      his_bid_prices  \\\n",
       "0  130.0,88.33,61.0,47.5,48.33,45.0,43.75,92.5,55...   \n",
       "1  860.0,533.33,540.0,590.0,600.0,476.67,520.0,49...   \n",
       "2  540.0,506.67,615.0,580.0,620.0,566.67,560.0,62...   \n",
       "3  165.0,180.0,111.67,108.89,67.78,95.83,76.0,105...   \n",
       "4  145.0,65.0,90.0,115.0,85.0,140.0,145.0,136.67,...   \n",
       "\n",
       "                                       his_bid_times  strength    cl  auc_year  \n",
       "0  2013,2013,2013,2013,2013,2013,2014,2014,2014,2...      40.0  70.0    2023.0  \n",
       "1  2013,2013,2013,2013,2013,2013,2013,2013,2013,2...      57.2  70.0    2023.0  \n",
       "2  2014,2014,2014,2014,2014,2014,2015,2015,2015,2...      55.3  70.0    2023.0  \n",
       "3  2016,2016,2016,2016,2016,2016,2016,2016,2016,2...      48.0  70.0    2023.0  \n",
       "4  2016,2016,2016,2016,2016,2016,2016,2017,2017,2...      48.0  75.0    2023.0  "
      ]
     },
     "execution_count": 39,
     "metadata": {},
     "output_type": "execute_result"
    }
   ],
   "source": [
    "cat_cols = ['cask type','extracted_distillery','bottler label',\n",
    "           'whisky type label','cask type','category']\n",
    "dlstm1 = d_a.drop(columns=[c for c in cat_cols if c in d_a.columns])\n",
    "dlstm2 = d_b.drop(columns=[c for c in cat_cols if c in d_b.columns])\n",
    "print(dlstm1.shape,dlstm2.shape)\n",
    "dlstm1.head()"
   ]
  },
  {
   "cell_type": "code",
   "execution_count": 40,
   "id": "a3e9245a-ff08-4ed7-9812-70f3c061c744",
   "metadata": {},
   "outputs": [
    {
     "data": {
      "text/plain": [
       "(0     270.00\n",
       " 1    2600.00\n",
       " 2    3200.00\n",
       " 3    1241.67\n",
       " 4    1500.00\n",
       " Name: Winning bid, dtype: float64,\n",
       " [['420.0', '380.0', '305.0', '300.0', '270.0'],\n",
       "  ['2700.0', '3200.0', '3400.0', '3800.0', '2600.0'],\n",
       "  ['3800.0', '3800.0', '3400.0', '3200.0', '3200.0'],\n",
       "  ['1815.38', '1700.0', '1640.0', '1450.0', '1241.67'],\n",
       "  ['1640.0', '1600.0', '1520.0', '1375.0', '1500.0']])"
      ]
     },
     "execution_count": 40,
     "metadata": {},
     "output_type": "execute_result"
    }
   ],
   "source": [
    "dlstm1['Winning bid'][:5],[v.split(',')[-5:] for v in dlstm1['his_bid_prices'][:5]]"
   ]
  },
  {
   "cell_type": "code",
   "execution_count": 41,
   "id": "08c90144-018f-4ea5-a6c8-364348212fa4",
   "metadata": {},
   "outputs": [
    {
     "data": {
      "text/html": [
       "<div>\n",
       "<style scoped>\n",
       "    .dataframe tbody tr th:only-of-type {\n",
       "        vertical-align: middle;\n",
       "    }\n",
       "\n",
       "    .dataframe tbody tr th {\n",
       "        vertical-align: top;\n",
       "    }\n",
       "\n",
       "    .dataframe thead th {\n",
       "        text-align: right;\n",
       "    }\n",
       "</style>\n",
       "<table border=\"1\" class=\"dataframe\">\n",
       "  <thead>\n",
       "    <tr style=\"text-align: right;\">\n",
       "      <th></th>\n",
       "      <th>distilled</th>\n",
       "      <th>bottled</th>\n",
       "      <th>age</th>\n",
       "      <th>strength</th>\n",
       "      <th>cl</th>\n",
       "      <th>his_bid_times</th>\n",
       "      <th>his_bid_prices</th>\n",
       "      <th>bottle number</th>\n",
       "      <th>Winning bid</th>\n",
       "      <th>auc_year</th>\n",
       "    </tr>\n",
       "  </thead>\n",
       "  <tbody>\n",
       "    <tr>\n",
       "      <th>0</th>\n",
       "      <td>1996.000000</td>\n",
       "      <td>2018.000000</td>\n",
       "      <td>22.000000</td>\n",
       "      <td>46.4</td>\n",
       "      <td>70.0</td>\n",
       "      <td>2019,2019,2019,2019,2019,2019,2020,2020,2020,2...</td>\n",
       "      <td>449,366,435,396,395,355,421,407,420,475,410,41...</td>\n",
       "      <td>1781.896004</td>\n",
       "      <td>400.0</td>\n",
       "      <td>2023.0</td>\n",
       "    </tr>\n",
       "    <tr>\n",
       "      <th>1</th>\n",
       "      <td>1989.228292</td>\n",
       "      <td>2009.748904</td>\n",
       "      <td>16.379562</td>\n",
       "      <td>43.0</td>\n",
       "      <td>700.0</td>\n",
       "      <td>2020,2021,2021,2021,2022,2022</td>\n",
       "      <td>255,155,160,175,210,238</td>\n",
       "      <td>1781.896004</td>\n",
       "      <td>238.0</td>\n",
       "      <td>2022.0</td>\n",
       "    </tr>\n",
       "    <tr>\n",
       "      <th>2</th>\n",
       "      <td>2010.000000</td>\n",
       "      <td>2020.000000</td>\n",
       "      <td>10.000000</td>\n",
       "      <td>62.9</td>\n",
       "      <td>700.0</td>\n",
       "      <td>2021,2021,2021</td>\n",
       "      <td>256,150,156</td>\n",
       "      <td>282.000000</td>\n",
       "      <td>156.0</td>\n",
       "      <td>2021.0</td>\n",
       "    </tr>\n",
       "    <tr>\n",
       "      <th>3</th>\n",
       "      <td>1989.228292</td>\n",
       "      <td>2009.748904</td>\n",
       "      <td>16.000000</td>\n",
       "      <td>43.0</td>\n",
       "      <td>5.0</td>\n",
       "      <td>2014,2014,2014,2014,2014,2014,2014,2015,2015,2...</td>\n",
       "      <td>29,29,10,19,6,12,6,21,21,22,21,10,9,9,8,15,13,...</td>\n",
       "      <td>1781.896004</td>\n",
       "      <td>14.0</td>\n",
       "      <td>2023.0</td>\n",
       "    </tr>\n",
       "    <tr>\n",
       "      <th>4</th>\n",
       "      <td>1989.228292</td>\n",
       "      <td>2017.000000</td>\n",
       "      <td>23.000000</td>\n",
       "      <td>46.3</td>\n",
       "      <td>70.0</td>\n",
       "      <td>2018,2018,2018,2018,2018,2019,2019,2020,2020,2...</td>\n",
       "      <td>555,505,526,505,449,490,430,450,505,526,550,46...</td>\n",
       "      <td>1781.896004</td>\n",
       "      <td>510.0</td>\n",
       "      <td>2023.0</td>\n",
       "    </tr>\n",
       "  </tbody>\n",
       "</table>\n",
       "</div>"
      ],
      "text/plain": [
       "     distilled      bottled        age  strength     cl  \\\n",
       "0  1996.000000  2018.000000  22.000000      46.4   70.0   \n",
       "1  1989.228292  2009.748904  16.379562      43.0  700.0   \n",
       "2  2010.000000  2020.000000  10.000000      62.9  700.0   \n",
       "3  1989.228292  2009.748904  16.000000      43.0    5.0   \n",
       "4  1989.228292  2017.000000  23.000000      46.3   70.0   \n",
       "\n",
       "                                       his_bid_times  \\\n",
       "0  2019,2019,2019,2019,2019,2019,2020,2020,2020,2...   \n",
       "1                      2020,2021,2021,2021,2022,2022   \n",
       "2                                     2021,2021,2021   \n",
       "3  2014,2014,2014,2014,2014,2014,2014,2015,2015,2...   \n",
       "4  2018,2018,2018,2018,2018,2019,2019,2020,2020,2...   \n",
       "\n",
       "                                      his_bid_prices  bottle number  \\\n",
       "0  449,366,435,396,395,355,421,407,420,475,410,41...    1781.896004   \n",
       "1                            255,155,160,175,210,238    1781.896004   \n",
       "2                                        256,150,156     282.000000   \n",
       "3  29,29,10,19,6,12,6,21,21,22,21,10,9,9,8,15,13,...    1781.896004   \n",
       "4  555,505,526,505,449,490,430,450,505,526,550,46...    1781.896004   \n",
       "\n",
       "   Winning bid  auc_year  \n",
       "0        400.0    2023.0  \n",
       "1        238.0    2022.0  \n",
       "2        156.0    2021.0  \n",
       "3         14.0    2023.0  \n",
       "4        510.0    2023.0  "
      ]
     },
     "execution_count": 41,
     "metadata": {},
     "output_type": "execute_result"
    }
   ],
   "source": [
    "dlstm2.head()"
   ]
  },
  {
   "cell_type": "code",
   "execution_count": 42,
   "id": "3d9ae237-faa3-4011-87e3-eb8ac14a9360",
   "metadata": {},
   "outputs": [],
   "source": [
    "dlstm1.to_csv('datas/lstm_v1_da.csv',index=False)\n",
    "dlstm2.to_csv('datas/lstm_v1_db.csv',index=False)"
   ]
  },
  {
   "cell_type": "markdown",
   "id": "bdb0aeb9-0a8c-4dd7-b66b-ff1dce6f80c8",
   "metadata": {},
   "source": [
    "# 3. Visualization"
   ]
  },
  {
   "cell_type": "code",
   "execution_count": 73,
   "id": "1b8e498e-c53c-49f6-b8f0-ae851b91bc18",
   "metadata": {},
   "outputs": [],
   "source": [
    "d_a = pd.read_csv('datas/d_p1_stage1.csv')\n",
    "d_b = pd.read_csv('datas/d_p2_stage1.csv')\n",
    "d_b = d_b.drop(columns=['hist_ids'])\n",
    "d_a = d_a.drop(columns=['cask number'])"
   ]
  },
  {
   "cell_type": "code",
   "execution_count": 64,
   "id": "f270f8d4-083c-4c87-9abf-5819d8bcc0dd",
   "metadata": {},
   "outputs": [
    {
     "data": {
      "image/png": "[encoded data removed]",
      "text/plain": [
       "<Figure size 864x576 with 2 Axes>"
      ]
     },
     "metadata": {
      "needs_background": "light"
     },
     "output_type": "display_data"
    }
   ],
   "source": [
    "fig,axs = plt.subplots(1,2,figsize=(12,8))\n",
    "# Generate some sample data\n",
    "data_a = d_a['Winning bid']\n",
    "data_b = d_b['Winning bid']\n",
    "axs[0].hist(data_a, bins=40, alpha=0.5, color='blue', log=True)\n",
    "axs[1].hist(data_b, bins=40, alpha=0.5, color='green', log=True)\n",
    "axs[0].set_title('D1 Winning bid(labels) distribution hist plot.')\n",
    "axs[1].set_title('D2 Winning bid(labels) distribution hist plot.')\n",
    "# Add labels and title\n",
    "axs[0].set_xlabel('Winning bid values')\n",
    "axs[0].set_ylabel('Log Frequency')\n",
    "axs[1].set_xlabel('Winning bid values')\n",
    "axs[1].set_ylabel('Log Frequency')\n",
    "# Show the plot\n",
    "plt.show()"
   ]
  },
  {
   "cell_type": "code",
   "execution_count": 74,
   "id": "2c10d3f2-c9eb-478a-8338-f2d56db7cd93",
   "metadata": {},
   "outputs": [
    {
     "data": {
      "text/plain": [
       "{'Winning bid',\n",
       " 'age',\n",
       " 'auc_year',\n",
       " 'bottle number',\n",
       " 'bottled',\n",
       " 'cl',\n",
       " 'distilled',\n",
       " 'strength'}"
      ]
     },
     "execution_count": 74,
     "metadata": {},
     "output_type": "execute_result"
    }
   ],
   "source": [
    "set(d_a.columns) - set(cat_cols) - set(['his_bid_times','his_bid_prices'])"
   ]
  },
  {
   "cell_type": "code",
   "execution_count": 75,
   "id": "f4295128-1b90-4d57-af74-5d8a3bd5dd94",
   "metadata": {},
   "outputs": [
    {
     "data": {
      "text/plain": [
       "{'Winning bid',\n",
       " 'age',\n",
       " 'auc_year',\n",
       " 'bottle number',\n",
       " 'bottled',\n",
       " 'cl',\n",
       " 'distilled',\n",
       " 'strength'}"
      ]
     },
     "execution_count": 75,
     "metadata": {},
     "output_type": "execute_result"
    }
   ],
   "source": [
    "set(d_b.columns) - set(cat_cols) - set(['his_bid_times','his_bid_prices','hist_ids'])"
   ]
  },
  {
   "cell_type": "code",
   "execution_count": 154,
   "id": "b7a5d117-9b8d-45c3-b73e-017ddb098bca",
   "metadata": {},
   "outputs": [
    {
     "data": {
      "text/plain": [
       "Index(['extracted_distillery', 'bottler label', 'distilled', 'bottled', 'age',\n",
       "       'whisky type label', 'cask type', 'strength', 'cl', 'category',\n",
       "       'his_bid_times', 'his_bid_prices', 'bottle number', 'Winning bid',\n",
       "       'auc_year'],\n",
       "      dtype='object')"
      ]
     },
     "execution_count": 154,
     "metadata": {},
     "output_type": "execute_result"
    }
   ],
   "source": [
    "d_b.columns"
   ]
  },
  {
   "cell_type": "code",
   "execution_count": 151,
   "id": "a6b883e4-e4f2-40f9-b195-913ab8c47b07",
   "metadata": {},
   "outputs": [
    {
     "data": {
      "text/plain": [
       "True"
      ]
     },
     "execution_count": 151,
     "metadata": {},
     "output_type": "execute_result"
    }
   ],
   "source": [
    "'whisky type label' in cat_cols"
   ]
  },
  {
   "cell_type": "code",
   "execution_count": 177,
   "id": "59693bb5-3bf2-46b7-bd9c-d72956e47b42",
   "metadata": {},
   "outputs": [
    {
     "name": "stdout",
     "output_type": "stream",
     "text": [
      "extracted_distillery 0\n",
      "0.7126063113650544\n",
      "0.7697454527662594\n",
      "bottler label 2\n",
      "0.7847296123689651\n",
      "whisky type label 3\n",
      "0.9401000574902451\n",
      "cask type 4\n",
      "0.4350967064000263\n",
      "0.9547294900492949\n",
      "category 6\n",
      "1.0\n"
     ]
    },
    {
     "data": {
      "image/png": "[encoded data removed]",
      "text/plain": [
       "<Figure size 1440x360 with 7 Axes>"
      ]
     },
     "metadata": {
      "needs_background": "light"
     },
     "output_type": "display_data"
    }
   ],
   "source": [
    "fig,axs = plt.subplots(1,7,figsize=(20,5))\n",
    "idx = 0\n",
    "for k in d_b.columns:\n",
    "    if k not in cat_cols: continue\n",
    "    if 'his_' in k: continue\n",
    "    # if 'Winning' in k: continue\n",
    "    print(k,idx)\n",
    "    if k in d_a: \n",
    "        x = d_a[k]\n",
    "        print(np.sum(x.notna())/x.shape[0])\n",
    "        x = x.dropna().astype(int)\n",
    "        ax = axs[idx%7]\n",
    "        ax.hist(x, log=True, color='yellow' , alpha=0.4, bins=25,label='D1')\n",
    "        idx += 1\n",
    "        ax.set_title(f'Hist of {k}')\n",
    "        ax.set_xlabel(f'{k} values')\n",
    "        ax.set_ylabel('Density')\n",
    "        ax.legend()\n",
    "        \n",
    "    ax = axs[idx%7]   \n",
    "    y = d_b[k]\n",
    "    # remove outlier values\n",
    "    print(np.sum(y.notna())/y.shape[0])\n",
    "    # Create a density plot with customized properties\n",
    "    y = y.dropna().astype(int)\n",
    "    ax.hist(y, log=True, color='red', alpha=0.6, bins=25,label='D2')\n",
    "    # Add a title and axis labels\n",
    "    ax.set_title(f'Hist of {k}')\n",
    "    ax.set_xlabel(f'{k} values')\n",
    "    ax.set_ylabel('Density')\n",
    "    idx += 1\n",
    "    ax.legend()\n",
    "\n",
    "# plt.legend()\n",
    "# Show the plot\n",
    "plt.show()"
   ]
  },
  {
   "cell_type": "code",
   "execution_count": 143,
   "id": "be162346-3dc1-4f07-aaac-d84cfec1badf",
   "metadata": {},
   "outputs": [
    {
     "name": "stdout",
     "output_type": "stream",
     "text": [
      "1.0 1.0\n",
      "0.693100843923423 0.5750614656342886\n",
      "0.485338061931501 0.3085758320795567\n",
      "0.44383147801530226 0.396340195466833\n",
      "0.4931862213903392 0.42007021149070983\n",
      "0.912586608872689 0.938473205876237\n",
      "0.9125537713854136 0.9469499590229105\n",
      "1.0 1.0\n"
     ]
    },
    {
     "data": {
      "image/png": "[encoded data removed]",
      "text/plain": [
       "<Figure size 1296x720 with 8 Axes>"
      ]
     },
     "metadata": {
      "needs_background": "light"
     },
     "output_type": "display_data"
    }
   ],
   "source": [
    "import seaborn as sns\n",
    "fig,axs = plt.subplots(2,4,figsize=(18,10))\n",
    "idx = 0\n",
    "for k in d_a.columns:\n",
    "    if k in cat_cols: continue\n",
    "    if 'his' in k: continue\n",
    "    # if 'Winning' in k: continue\n",
    "    ax = axs[idx//4][idx%4]\n",
    "    x,y = d_a[k],d_b[k]\n",
    "    # remove outlier values\n",
    "    print(np.sum(x.notna())/x.shape[0],np.sum(y.notna())/y.shape[0])\n",
    "    # Create a density plot with customized properties\n",
    "    x,y = x.dropna(),y.dropna()\n",
    "    lower_cutoff,upper_cutoff = np.percentile(x,[5,95])\n",
    "    x = x[(x >= lower_cutoff) & (x <= upper_cutoff)]\n",
    "    lower_cutoff,upper_cutoff = np.percentile(x,[5,95])\n",
    "    y = y[(y >= lower_cutoff) & (y <= upper_cutoff)]\n",
    "    # ax.hist(x, density=True, color='green', alpha=0.7, bins=25,label='D1')\n",
    "    # ax.hist(y, density=True, color='pink', alpha=0.7, bins=25,label='D2')\n",
    "    sns.kdeplot(x, shade=True, color=\"g\", label=\"D1\", alpha=.7,ax=ax,bw=0.1)\n",
    "    sns.kdeplot(y, shade=True, color=\"pink\", label=\"D2\", alpha=.7,ax=ax,bw=0.1)\n",
    "    # Add a title and axis labels\n",
    "    ax.set_title(f'Density Plot for {k}')\n",
    "    ax.set_xlabel(f'{k} values')\n",
    "    ax.set_ylabel('Density')\n",
    "    idx += 1\n",
    "\n",
    "# plt.legend()\n",
    "# Show the plot\n",
    "plt.show()"
   ]
  },
  {
   "cell_type": "code",
   "execution_count": 161,
   "id": "b50a582c-843f-4c31-8545-8f39808ca6f7",
   "metadata": {},
   "outputs": [
    {
     "data": {
      "text/plain": [
       "0         5.0\n",
       "1        32.0\n",
       "2        36.0\n",
       "3         4.0\n",
       "4         5.0\n",
       "         ... \n",
       "81748     4.0\n",
       "81749     NaN\n",
       "81750     4.0\n",
       "81751    39.0\n",
       "81752     5.0\n",
       "Name: cask type, Length: 81753, dtype: float64"
      ]
     },
     "execution_count": 161,
     "metadata": {},
     "output_type": "execute_result"
    }
   ],
   "source": [
    "d_b['cask type']"
   ]
  },
  {
   "cell_type": "code",
   "execution_count": 119,
   "id": "e5c25a1a-2151-48cd-b413-b7435ab6bdf4",
   "metadata": {},
   "outputs": [
    {
     "data": {
      "text/plain": [
       "(70.0, 75.0, 70.62424117707583, (38876,))"
      ]
     },
     "execution_count": 119,
     "metadata": {},
     "output_type": "execute_result"
    }
   ],
   "source": [
    "y.min(),y.max(),y.mean(),y.shape"
   ]
  },
  {
   "cell_type": "code",
   "execution_count": 120,
   "id": "d20d80b3-965f-419d-bc50-1121abd96726",
   "metadata": {},
   "outputs": [
    {
     "data": {
      "text/plain": [
       "array([    0,     0,     0,     0, 34011,     9,     5,     3,     0,\n",
       "        4848])"
      ]
     },
     "execution_count": 120,
     "metadata": {},
     "output_type": "execute_result"
    }
   ],
   "source": [
    "np.bincount(y)[-10:]"
   ]
  },
  {
   "cell_type": "code",
   "execution_count": 132,
   "id": "c67f699e-7740-4a6a-a9e5-cb4ae70ab507",
   "metadata": {},
   "outputs": [
    {
     "data": {
      "image/png": "[encoded data removed]",
      "text/plain": [
       "<Figure size 432x288 with 1 Axes>"
      ]
     },
     "metadata": {
      "needs_background": "light"
     },
     "output_type": "display_data"
    }
   ],
   "source": [
    "sns.kdeplot(y, shade=True, color=\"g\", label=\"D1\", alpha=.7,gridsize=100,bw=0.5)\n",
    "plt.show()"
   ]
  },
  {
   "cell_type": "code",
   "execution_count": null,
   "id": "e01bfe24-f5ed-4da2-9638-31ff454cfad6",
   "metadata": {},
   "outputs": [],
   "source": []
  }
 ],
 "metadata": {
  "kernelspec": {
   "display_name": "Python 3",
   "language": "python",
   "name": "python3"
  },
  "language_info": {
   "codemirror_mode": {
    "name": "ipython",
    "version": 3
   },
   "file_extension": ".py",
   "mimetype": "text/x-python",
   "name": "python",
   "nbconvert_exporter": "python",
   "pygments_lexer": "ipython3",
   "version": "3.8.3"
  }
 },
 "nbformat": 4,
 "nbformat_minor": 5
}
